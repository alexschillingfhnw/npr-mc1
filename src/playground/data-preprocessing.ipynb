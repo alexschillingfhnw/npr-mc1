{
 "cells": [
  {
   "attachments": {},
   "cell_type": "markdown",
   "metadata": {},
   "source": [
    "# Data Preprocessing"
   ]
  },
  {
   "attachments": {},
   "cell_type": "markdown",
   "metadata": {},
   "source": [
    "For our mini-challenge, we will be utilizing the Cleantech Media Dataset, which serves as an invaluable resource for businesses, researchers, and students interested in the latest developments in Natural Language Processing and Large Language Models within the realm of cleantech and sustainability. In an industry that is constantly evolving, having access to timely and accurate information is crucial. This dataset is specifically designed to address those needs.\n",
    "\n",
    "This dataset is accessible on Kaggle and is credited to [Janna Lipenkova](https://www.kaggle.com/datasets/jannalipenkova/cleantech-media-dataset)."
   ]
  },
  {
   "attachments": {},
   "cell_type": "markdown",
   "metadata": {},
   "source": [
    "## 1. Imports"
   ]
  },
  {
   "cell_type": "code",
   "execution_count": 2716,
   "metadata": {},
   "outputs": [],
   "source": [
    "import os\n",
    "import re\n",
    "import pandas as pd\n",
    "import numpy as np\n",
    "\n",
    "import nltk\n",
    "import spacy\n",
    "from nltk.tokenize import sent_tokenize"
   ]
  },
  {
   "attachments": {},
   "cell_type": "markdown",
   "metadata": {},
   "source": [
    "## 2. Data"
   ]
  },
  {
   "attachments": {},
   "cell_type": "markdown",
   "metadata": {},
   "source": [
    "### 2.1 Training Data"
   ]
  },
  {
   "attachments": {},
   "cell_type": "markdown",
   "metadata": {},
   "source": [
    "- Comprehensive Coverage: Access a wide range of media texts on cleantech topics, from renewable energy to carbon reduction.\n",
    "- Efficiency: Utilize the dataset for quick and accurate question-answering, aiding informed decision-making.\n",
    "- Regular Updates: Stay current with monthly updates reflecting the latest trends in cleantech.\n",
    "- Sustainability Focus: Contribute to the sustainability movement by leveraging valuable insights from the dataset."
   ]
  },
  {
   "cell_type": "code",
   "execution_count": 2717,
   "metadata": {},
   "outputs": [
    {
     "data": {
      "text/html": [
       "<div>\n",
       "<style scoped>\n",
       "    .dataframe tbody tr th:only-of-type {\n",
       "        vertical-align: middle;\n",
       "    }\n",
       "\n",
       "    .dataframe tbody tr th {\n",
       "        vertical-align: top;\n",
       "    }\n",
       "\n",
       "    .dataframe thead th {\n",
       "        text-align: right;\n",
       "    }\n",
       "</style>\n",
       "<table border=\"1\" class=\"dataframe\">\n",
       "  <thead>\n",
       "    <tr style=\"text-align: right;\">\n",
       "      <th></th>\n",
       "      <th>title</th>\n",
       "      <th>date</th>\n",
       "      <th>author</th>\n",
       "      <th>content</th>\n",
       "      <th>domain</th>\n",
       "      <th>url</th>\n",
       "    </tr>\n",
       "  </thead>\n",
       "  <tbody>\n",
       "    <tr>\n",
       "      <th>0</th>\n",
       "      <td>Qatar to Slash Emissions as LNG Expansion Adva...</td>\n",
       "      <td>2021-01-13</td>\n",
       "      <td>NaN</td>\n",
       "      <td>[\"Qatar Petroleum ( QP) is targeting aggressiv...</td>\n",
       "      <td>energyintel</td>\n",
       "      <td>https://www.energyintel.com/0000017b-a7dc-de4c...</td>\n",
       "    </tr>\n",
       "    <tr>\n",
       "      <th>1</th>\n",
       "      <td>India Launches Its First 700 MW PHWR</td>\n",
       "      <td>2021-01-15</td>\n",
       "      <td>NaN</td>\n",
       "      <td>[\"• Nuclear Power Corp. of India Ltd. ( NPCIL)...</td>\n",
       "      <td>energyintel</td>\n",
       "      <td>https://www.energyintel.com/0000017b-a7dc-de4c...</td>\n",
       "    </tr>\n",
       "    <tr>\n",
       "      <th>2</th>\n",
       "      <td>New Chapter for US-China Energy Trade</td>\n",
       "      <td>2021-01-20</td>\n",
       "      <td>NaN</td>\n",
       "      <td>[\"New US President Joe Biden took office this ...</td>\n",
       "      <td>energyintel</td>\n",
       "      <td>https://www.energyintel.com/0000017b-a7dc-de4c...</td>\n",
       "    </tr>\n",
       "    <tr>\n",
       "      <th>3</th>\n",
       "      <td>Japan: Slow Restarts Cast Doubt on 2030 Energy...</td>\n",
       "      <td>2021-01-22</td>\n",
       "      <td>NaN</td>\n",
       "      <td>[\"The slow pace of Japanese reactor restarts c...</td>\n",
       "      <td>energyintel</td>\n",
       "      <td>https://www.energyintel.com/0000017b-a7dc-de4c...</td>\n",
       "    </tr>\n",
       "    <tr>\n",
       "      <th>4</th>\n",
       "      <td>NYC Pension Funds to Divest Fossil Fuel Shares</td>\n",
       "      <td>2021-01-25</td>\n",
       "      <td>NaN</td>\n",
       "      <td>[\"Two of New York City's largest pension funds...</td>\n",
       "      <td>energyintel</td>\n",
       "      <td>https://www.energyintel.com/0000017b-a7dc-de4c...</td>\n",
       "    </tr>\n",
       "  </tbody>\n",
       "</table>\n",
       "</div>"
      ],
      "text/plain": [
       "                                               title        date author  \\\n",
       "0  Qatar to Slash Emissions as LNG Expansion Adva...  2021-01-13    NaN   \n",
       "1               India Launches Its First 700 MW PHWR  2021-01-15    NaN   \n",
       "2              New Chapter for US-China Energy Trade  2021-01-20    NaN   \n",
       "3  Japan: Slow Restarts Cast Doubt on 2030 Energy...  2021-01-22    NaN   \n",
       "4     NYC Pension Funds to Divest Fossil Fuel Shares  2021-01-25    NaN   \n",
       "\n",
       "                                             content       domain  \\\n",
       "0  [\"Qatar Petroleum ( QP) is targeting aggressiv...  energyintel   \n",
       "1  [\"• Nuclear Power Corp. of India Ltd. ( NPCIL)...  energyintel   \n",
       "2  [\"New US President Joe Biden took office this ...  energyintel   \n",
       "3  [\"The slow pace of Japanese reactor restarts c...  energyintel   \n",
       "4  [\"Two of New York City's largest pension funds...  energyintel   \n",
       "\n",
       "                                                 url  \n",
       "0  https://www.energyintel.com/0000017b-a7dc-de4c...  \n",
       "1  https://www.energyintel.com/0000017b-a7dc-de4c...  \n",
       "2  https://www.energyintel.com/0000017b-a7dc-de4c...  \n",
       "3  https://www.energyintel.com/0000017b-a7dc-de4c...  \n",
       "4  https://www.energyintel.com/0000017b-a7dc-de4c...  "
      ]
     },
     "execution_count": 2717,
     "metadata": {},
     "output_type": "execute_result"
    }
   ],
   "source": [
    "data = pd.read_csv('../data/raw/cleantech_media_dataset_v2_2024-02-23.csv', index_col=0).reset_index(drop=True)\n",
    "data.head()"
   ]
  },
  {
   "attachments": {},
   "cell_type": "markdown",
   "metadata": {},
   "source": [
    "### 2.2 Evaluation data"
   ]
  },
  {
   "attachments": {},
   "cell_type": "markdown",
   "metadata": {},
   "source": [
    "- The dataset comes with a small, high-quality evaluation dataset for the \"Retrieval\" step in Retrieval-Augmented Generation\n",
    "- In addition, a small collection of human gold-standard query-passage-answer triplets will be provided for further evaluation"
   ]
  },
  {
   "cell_type": "code",
   "execution_count": 2718,
   "metadata": {},
   "outputs": [
    {
     "data": {
      "text/html": [
       "<div>\n",
       "<style scoped>\n",
       "    .dataframe tbody tr th:only-of-type {\n",
       "        vertical-align: middle;\n",
       "    }\n",
       "\n",
       "    .dataframe tbody tr th {\n",
       "        vertical-align: top;\n",
       "    }\n",
       "\n",
       "    .dataframe thead th {\n",
       "        text-align: right;\n",
       "    }\n",
       "</style>\n",
       "<table border=\"1\" class=\"dataframe\">\n",
       "  <thead>\n",
       "    <tr style=\"text-align: right;\">\n",
       "      <th></th>\n",
       "      <th>example_id</th>\n",
       "      <th>question_id</th>\n",
       "      <th>question</th>\n",
       "      <th>relevant_text</th>\n",
       "      <th>answer</th>\n",
       "      <th>article_url</th>\n",
       "    </tr>\n",
       "  </thead>\n",
       "  <tbody>\n",
       "    <tr>\n",
       "      <th>0</th>\n",
       "      <td>1</td>\n",
       "      <td>1</td>\n",
       "      <td>What is the innovation behind Leclanché's new ...</td>\n",
       "      <td>Leclanché said it has developed an environment...</td>\n",
       "      <td>Leclanché's innovation is using a water-based ...</td>\n",
       "      <td>https://www.sgvoice.net/strategy/technology/23...</td>\n",
       "    </tr>\n",
       "    <tr>\n",
       "      <th>1</th>\n",
       "      <td>2</td>\n",
       "      <td>2</td>\n",
       "      <td>What is the EU’s Green Deal Industrial Plan?</td>\n",
       "      <td>The Green Deal Industrial Plan is a bid by the...</td>\n",
       "      <td>The EU’s Green Deal Industrial Plan aims to en...</td>\n",
       "      <td>https://www.sgvoice.net/policy/25396/eu-seeks-...</td>\n",
       "    </tr>\n",
       "    <tr>\n",
       "      <th>2</th>\n",
       "      <td>3</td>\n",
       "      <td>2</td>\n",
       "      <td>What is the EU’s Green Deal Industrial Plan?</td>\n",
       "      <td>The European counterpart to the US Inflation R...</td>\n",
       "      <td>The EU’s Green Deal Industrial Plan aims to en...</td>\n",
       "      <td>https://www.pv-magazine.com/2023/02/02/europea...</td>\n",
       "    </tr>\n",
       "    <tr>\n",
       "      <th>3</th>\n",
       "      <td>4</td>\n",
       "      <td>3</td>\n",
       "      <td>What are the four focus areas of the EU's Gree...</td>\n",
       "      <td>The new plan is fundamentally focused on four ...</td>\n",
       "      <td>The four focus areas of the EU's Green Deal In...</td>\n",
       "      <td>https://www.sgvoice.net/policy/25396/eu-seeks-...</td>\n",
       "    </tr>\n",
       "    <tr>\n",
       "      <th>4</th>\n",
       "      <td>5</td>\n",
       "      <td>4</td>\n",
       "      <td>When did the cooperation between GM and Honda ...</td>\n",
       "      <td>What caught our eye was a new hookup between G...</td>\n",
       "      <td>July 2013</td>\n",
       "      <td>https://cleantechnica.com/2023/05/08/general-m...</td>\n",
       "    </tr>\n",
       "  </tbody>\n",
       "</table>\n",
       "</div>"
      ],
      "text/plain": [
       "   example_id  question_id                                           question  \\\n",
       "0           1            1  What is the innovation behind Leclanché's new ...   \n",
       "1           2            2       What is the EU’s Green Deal Industrial Plan?   \n",
       "2           3            2       What is the EU’s Green Deal Industrial Plan?   \n",
       "3           4            3  What are the four focus areas of the EU's Gree...   \n",
       "4           5            4  When did the cooperation between GM and Honda ...   \n",
       "\n",
       "                                       relevant_text  \\\n",
       "0  Leclanché said it has developed an environment...   \n",
       "1  The Green Deal Industrial Plan is a bid by the...   \n",
       "2  The European counterpart to the US Inflation R...   \n",
       "3  The new plan is fundamentally focused on four ...   \n",
       "4  What caught our eye was a new hookup between G...   \n",
       "\n",
       "                                              answer  \\\n",
       "0  Leclanché's innovation is using a water-based ...   \n",
       "1  The EU’s Green Deal Industrial Plan aims to en...   \n",
       "2  The EU’s Green Deal Industrial Plan aims to en...   \n",
       "3  The four focus areas of the EU's Green Deal In...   \n",
       "4                                          July 2013   \n",
       "\n",
       "                                         article_url  \n",
       "0  https://www.sgvoice.net/strategy/technology/23...  \n",
       "1  https://www.sgvoice.net/policy/25396/eu-seeks-...  \n",
       "2  https://www.pv-magazine.com/2023/02/02/europea...  \n",
       "3  https://www.sgvoice.net/policy/25396/eu-seeks-...  \n",
       "4  https://cleantechnica.com/2023/05/08/general-m...  "
      ]
     },
     "execution_count": 2718,
     "metadata": {},
     "output_type": "execute_result"
    }
   ],
   "source": [
    "data_eval = pd.read_csv('../data/evaluation/cleantech_rag_evaluation_data_2024-09-20.csv', delimiter=\";\")\n",
    "data_eval.head()"
   ]
  },
  {
   "attachments": {},
   "cell_type": "markdown",
   "metadata": {},
   "source": [
    "### 2.3 Initial Exploration"
   ]
  },
  {
   "cell_type": "code",
   "execution_count": 2719,
   "metadata": {},
   "outputs": [
    {
     "name": "stdout",
     "output_type": "stream",
     "text": [
      "<class 'pandas.core.frame.DataFrame'>\n",
      "RangeIndex: 9593 entries, 0 to 9592\n",
      "Data columns (total 6 columns):\n",
      " #   Column   Non-Null Count  Dtype \n",
      "---  ------   --------------  ----- \n",
      " 0   title    9593 non-null   object\n",
      " 1   date     9593 non-null   object\n",
      " 2   author   31 non-null     object\n",
      " 3   content  9593 non-null   object\n",
      " 4   domain   9593 non-null   object\n",
      " 5   url      9593 non-null   object\n",
      "dtypes: object(6)\n",
      "memory usage: 449.8+ KB\n",
      "None\n"
     ]
    }
   ],
   "source": [
    "print(data.info())"
   ]
  },
  {
   "cell_type": "code",
   "execution_count": 2720,
   "metadata": {},
   "outputs": [
    {
     "name": "stdout",
     "output_type": "stream",
     "text": [
      "title         0\n",
      "date          0\n",
      "author     9562\n",
      "content       0\n",
      "domain        0\n",
      "url           0\n",
      "dtype: int64\n"
     ]
    }
   ],
   "source": [
    "# Check for missing values\n",
    "print(data.isnull().sum())"
   ]
  },
  {
   "attachments": {},
   "cell_type": "markdown",
   "metadata": {},
   "source": [
    "Interesting that the Author is missing for most of the articles. The other information could be included as metadata to help the model contextualize and reference the source of the information more accurately, enhancing the quality and traceability of responses.\n",
    "\n",
    "`[Title: <title>] [Date: <date>] [Domain: <domain>] [URL: <url>] <content>`"
   ]
  },
  {
   "cell_type": "code",
   "execution_count": 2721,
   "metadata": {},
   "outputs": [
    {
     "data": {
      "text/plain": [
       "cleantechnica            1861\n",
       "azocleantech             1627\n",
       "pv-magazine              1206\n",
       "energyvoice              1017\n",
       "solarindustrymag          673\n",
       "naturalgasintel           658\n",
       "thinkgeoenergy            645\n",
       "rechargenews              559\n",
       "solarpowerworldonline     505\n",
       "energyintel               234\n",
       "pv-tech                   232\n",
       "businessgreen             158\n",
       "greenprophet               80\n",
       "ecofriend                  38\n",
       "solarpowerportal.co        34\n",
       "eurosolar                  28\n",
       "decarbxpo                  19\n",
       "solarquarter               17\n",
       "indorenergy                 2\n",
       "Name: domain, dtype: int64"
      ]
     },
     "execution_count": 2721,
     "metadata": {},
     "output_type": "execute_result"
    }
   ],
   "source": [
    "# count how many times each domain appears in the dataset\n",
    "data[\"domain\"].value_counts()"
   ]
  },
  {
   "attachments": {},
   "cell_type": "markdown",
   "metadata": {},
   "source": [
    "Now we want to see what the text in the column `content` looks like. This will give us a better idea on how the texts are structured so that we can make a good plan for the data cleaning process."
   ]
  },
  {
   "cell_type": "code",
   "execution_count": 2722,
   "metadata": {},
   "outputs": [
    {
     "name": "stdout",
     "output_type": "stream",
     "text": [
      "['Q1. How has the ‘ Make in India’ initiative contributed to boosting the recognition and growth of India’ s energy storage sector, especially in the context of Sungrow’ s 5-year manufacturing journey as a provider of solar inverters and energy storage systems?', 'Ans: Sungrow’ s achievement of completing 5 years of Indian manufacturing underscores the positive impact of their participation in the “ Make in India ” initiative. This participation has not only fueled their own growth but has also played a significant role in advancing India’ s broader renewable energy and energy storage goals. By manufacturing solar inverters locally, Sungrow has been able to address the specific requirements of the Indian market more effectively and contribute to the nation’ s transition to clean and sustainable energy sources. The expansion of domestic manufacturing has created job opportunities within the energy storage sector, benefiting the local workforce and fostering economic development. Furthermore, domestic manufacturing has provided the flexibility to customize products to suit local needs and conditions. As India seeks to expand its renewable energy capacity, having a robust domestic manufacturing base for energy storage systems remains crucial.', 'Q2. What can we expect Sungrow to unveil in terms of product launches for the Indian market during REI Expo 2023?', 'Ans: REI Expo has consistently been a leading platform in India, and Sungrow is poised to introduce our latest innovative products to the Indian market. We are particularly thrilled to unveil our new residential on-grid and hybrid solutions. We eagerly look forward to showcasing these pioneering products at REI Expo 2023 and engaging in in-depth discussions with industry experts. We remain confident that Sungrow’ s dedication to delivering clean energy solutions will continue to play a central role in promoting the widespread adoption of renewable energy technologies throughout India.', 'Q3. How crucial is research and development ( R & D) in the realm of solar inverter manufacturing, and what efforts has Sungrow undertaken to promote R & D in this field?', 'Ans: Founded in 1997 under the visionary leadership of University Professor Cao Renxian, Sungrow has firmly solidified its position as a global leader in the solar inverter field. Our journey has been marked by our unwavering dedication to research and development, and we take pride in having the industry’ s largest dedicated R & D team. Our diverse product portfolio encompasses PV inverter solutions and energy storage systems, serving utility-scale, commercial & industrial, and residential applications. Furthermore, we have gained international recognition for our innovative floating PV plant solutions and a range of other clean energy solutions.', 'With an impressive 25-year track record in the PV industry, Sungrow’ s products currently drive installations in over 150 countries. Our commitment to innovation is exemplified by our dynamic technical R & D team, comprising more than 2600 skilled professionals. Additionally, our dedication to quality and reliability is evident through our state-of-the-art in-house testing center, which holds certifications from esteemed certifying bodies like SGS, CSA, and TÜV Rheinland.', 'Q4. Could you provide insights into Sungrow’ s current market presence and its strategies for expansion?', 'Ans: Sungrow has been actively engaged in India’ s burgeoning solar energy sector, aligning with the nation’ s ambitious renewable energy objectives. The global solar energy sector witnessed remarkable growth in 2022, with over 268 GW of installations, underscoring the cost-effectiveness and environmental advantages of solar power. Projections for 2023 indicate sustained expansion, with the global market expected to surpass 315 GW, while in India, it is poised to exceed 15 GW. Sungrow stands prepared and well-equipped to provide the latest technology solutions for the PV industry, boasting an extensive and appealing portfolio tailored for both utility-scale and commercial & industrial, as well as residential applications. It’ s noteworthy that Sungrow, within the renewable energy sector, remains agile and responsive to evolving global standards and market dynamics.', 'Q5. Sungrow recently achieved certification according to the European standard EN 50549-10. Can you describe the company’ s approach to meeting global standards and ensuring the quality of its products for the international market?', 'Ans: To align with global standards, companies like Sungrow diligently monitor and adhere to industry-specific regulations and certifications, including IEC ( International Electrotechnical Commission) standards, UL ( Underwriters Laboratories) standards, and regional certifications like EN standards in Europe. Sungrow recently achieved the European standard EN 50549-10 certification from TÜV Rheinland, marking a significant milestone as the first certification for MW-grade high-power energy storage systems ( ESS) compatibility in the energy storage industry. This certification serves as a testament to the outstanding adaptability and reliability of Sungrow’ s ESS, solidifying the company’ s leading position in grid-connection technology. The continued success of Sungrow’ s products is further underscored by its four-year streak as the most bankable inverter brand in the BloombergNEF ( BNEF) PV Module and Inverter Bankability Survey. Notably, Sungrow is the sole inverter supplier to achieve a “ 100% bankable ” ranking this year.', 'Q6. Sungrow is renowned for aligning its products with technological advancements. Could you please spotlight some of the new technologies that the company has integrated into its offerings?', 'Ans: Sungrow is indeed renowned for its commitment to integrating cutting-edge technologies into its products, maintaining a prominent position in the solar inverter and energy storage industry. One of its most groundbreaking innovations, introduced last year under the name “ 1+X modular inverter, ” continues to receive widespread acclaim. This innovative solution effectively combines the efficiency benefits of string and central inverters, optimizing operational expenditures ( OPEX) exceptionally well, particularly within the 8.8 MW range and below.', 'Looking ahead, Sungrow remains steadfast in its mission of “ Clean power for all. ” The company will accelerate the development of clean energy power generation system integration, leveraging its expertise in new energy equipment. It also aims to foster innovation and expand its presence in the realm of clean power conversion technology. By maintaining close engagement with customers, actively participating in global competition, and striving for excellence, Sungrow is committed to establishing itself as a respected world-class company.', 'Q7. In your view, how does technology play a pivotal role in transforming the energy storage sector, and what sorts of market trends do you anticipate in the near future?', 'Ans: Technology plays a pivotal role in driving transformative changes within the energy storage sector. Advanced battery technologies, such as LFP, are gaining substantial traction in India’ s energy storage landscape. These technologies offer heightened energy density, extended cycle life, and rapid response capabilities, rendering them well-suited for a diverse range of applications, including grid stabilization and the seamless integration of renewable energy sources. Energy storage technologies assume a critical role in mitigating the inherent variability of renewable sources like solar and wind. Battery storage systems excel in capturing surplus energy during periods of high generation and releasing it during peak demand, enhancing grid reliability. The growth of the energy storage market in India hinges significantly on government initiatives and the imperative for grid stability. As technology continues to advance and economies of scale come into play, the cost of energy storage systems, particularly batteries, is expected to decrease consistently. This trend will make these solutions more accessible and cost-effective. Moreover, energy storage systems are poised to provide essential grid ancillary services, encompassing frequency regulation, voltage support, and swift responses to grid events, further elevating grid reliability. The surge in electric vehicle ( EV) sales in India is anticipated to further drive the demand for energy storage solutions.', 'This site uses Akismet to reduce spam. Learn how your comment data is processed.']\n"
     ]
    }
   ],
   "source": [
    "print(data[data[\"domain\"] == \"solarquarter\"][\"content\"].iloc[2])"
   ]
  },
  {
   "cell_type": "code",
   "execution_count": 2723,
   "metadata": {},
   "outputs": [
    {
     "data": {
      "text/html": [
       "<div>\n",
       "<style scoped>\n",
       "    .dataframe tbody tr th:only-of-type {\n",
       "        vertical-align: middle;\n",
       "    }\n",
       "\n",
       "    .dataframe tbody tr th {\n",
       "        vertical-align: top;\n",
       "    }\n",
       "\n",
       "    .dataframe thead th {\n",
       "        text-align: right;\n",
       "    }\n",
       "</style>\n",
       "<table border=\"1\" class=\"dataframe\">\n",
       "  <thead>\n",
       "    <tr style=\"text-align: right;\">\n",
       "      <th></th>\n",
       "      <th>title</th>\n",
       "      <th>date</th>\n",
       "      <th>author</th>\n",
       "      <th>content</th>\n",
       "      <th>domain</th>\n",
       "      <th>url</th>\n",
       "    </tr>\n",
       "  </thead>\n",
       "  <tbody>\n",
       "    <tr>\n",
       "      <th>1253</th>\n",
       "      <td>Energy Storage Europe Conference: Focus on the...</td>\n",
       "      <td>2021-07-09</td>\n",
       "      <td>NaN</td>\n",
       "      <td>['The new Energy Storage Europe app provides a...</td>\n",
       "      <td>eurosolar</td>\n",
       "      <td>https://www.eurosolar.de/2017/02/16/energy-sto...</td>\n",
       "    </tr>\n",
       "    <tr>\n",
       "      <th>1254</th>\n",
       "      <td>The world's largest energy storage event from ...</td>\n",
       "      <td>2021-07-09</td>\n",
       "      <td>NaN</td>\n",
       "      <td>['On Tuesday, 14 March, the two conferences wi...</td>\n",
       "      <td>eurosolar</td>\n",
       "      <td>https://www.eurosolar.de/2017/02/16/the-world-...</td>\n",
       "    </tr>\n",
       "    <tr>\n",
       "      <th>1255</th>\n",
       "      <td>IRES and ESE Conferences: Final conclusions an...</td>\n",
       "      <td>2021-07-09</td>\n",
       "      <td>NaN</td>\n",
       "      <td>['The more than 260 contributions from interna...</td>\n",
       "      <td>eurosolar</td>\n",
       "      <td>https://www.eurosolar.de/2017/03/16/ires-and-e...</td>\n",
       "    </tr>\n",
       "    <tr>\n",
       "      <th>1256</th>\n",
       "      <td>The European Solar Prize 2020: Changemakers of...</td>\n",
       "      <td>2021-07-09</td>\n",
       "      <td>NaN</td>\n",
       "      <td>['The prize was awarded, for example, to an is...</td>\n",
       "      <td>eurosolar</td>\n",
       "      <td>https://www.eurosolar.de/2020/12/02/the-europe...</td>\n",
       "    </tr>\n",
       "    <tr>\n",
       "      <th>1257</th>\n",
       "      <td>Renewable energies: European Solar Prize 2018 ...</td>\n",
       "      <td>2021-07-09</td>\n",
       "      <td>NaN</td>\n",
       "      <td>['For EUROSOLAR President and Chairman of the ...</td>\n",
       "      <td>eurosolar</td>\n",
       "      <td>https://www.eurosolar.de/2018/11/15/renewable-...</td>\n",
       "    </tr>\n",
       "    <tr>\n",
       "      <th>1258</th>\n",
       "      <td>European Solar Prize 2018 – Announcement of th...</td>\n",
       "      <td>2021-07-09</td>\n",
       "      <td>NaN</td>\n",
       "      <td>['The European Solar Prize has been awarded an...</td>\n",
       "      <td>eurosolar</td>\n",
       "      <td>https://www.eurosolar.de/2018/11/06/european-s...</td>\n",
       "    </tr>\n",
       "    <tr>\n",
       "      <th>1261</th>\n",
       "      <td>Saving the World with Renewables: European Sol...</td>\n",
       "      <td>2021-07-09</td>\n",
       "      <td>NaN</td>\n",
       "      <td>['In his welcoming address, Henri Kox, former ...</td>\n",
       "      <td>eurosolar</td>\n",
       "      <td>https://www.eurosolar.de/2019/11/14/saving-the...</td>\n",
       "    </tr>\n",
       "    <tr>\n",
       "      <th>1262</th>\n",
       "      <td>IRES &amp; ESE 2019: Storage applications on the r...</td>\n",
       "      <td>2021-07-09</td>\n",
       "      <td>NaN</td>\n",
       "      <td>['For its 8th event, the international trade f...</td>\n",
       "      <td>eurosolar</td>\n",
       "      <td>https://www.eurosolar.de/2019/03/22/ires-ese-2...</td>\n",
       "    </tr>\n",
       "    <tr>\n",
       "      <th>1263</th>\n",
       "      <td>IRES WEB SUMMIT 2020 Radical system change to ...</td>\n",
       "      <td>2021-07-09</td>\n",
       "      <td>NaN</td>\n",
       "      <td>['This event marks EUROSOLARs preparations for...</td>\n",
       "      <td>eurosolar</td>\n",
       "      <td>https://www.eurosolar.de/2020/05/28/ires-web-s...</td>\n",
       "    </tr>\n",
       "    <tr>\n",
       "      <th>1265</th>\n",
       "      <td>European Solar Prize 2017 awarded to ten laure...</td>\n",
       "      <td>2021-07-09</td>\n",
       "      <td>NaN</td>\n",
       "      <td>['“ The number and quality of innovations and ...</td>\n",
       "      <td>eurosolar</td>\n",
       "      <td>https://www.eurosolar.de/2017/11/15/european-s...</td>\n",
       "    </tr>\n",
       "    <tr>\n",
       "      <th>1266</th>\n",
       "      <td>European Solar Prize 2017 – Announcement of th...</td>\n",
       "      <td>2021-07-09</td>\n",
       "      <td>NaN</td>\n",
       "      <td>['Before the awarding of the Solar Prize a sym...</td>\n",
       "      <td>eurosolar</td>\n",
       "      <td>https://www.eurosolar.de/2017/11/08/european-s...</td>\n",
       "    </tr>\n",
       "    <tr>\n",
       "      <th>1269</th>\n",
       "      <td>European Solar Prize: FAQ</td>\n",
       "      <td>2021-07-21</td>\n",
       "      <td>NaN</td>\n",
       "      <td>['Applications for the different award categor...</td>\n",
       "      <td>eurosolar</td>\n",
       "      <td>https://www.eurosolar.de/european-solar-prize-...</td>\n",
       "    </tr>\n",
       "    <tr>\n",
       "      <th>1270</th>\n",
       "      <td>Regenerative Earth Decade: EUROSOLAR's call fo...</td>\n",
       "      <td>2022-02-28</td>\n",
       "      <td>NaN</td>\n",
       "      <td>['While the Earth has begun to burn in a fossi...</td>\n",
       "      <td>eurosolar</td>\n",
       "      <td>https://www.eurosolar.de/en/2022/02/01/regener...</td>\n",
       "    </tr>\n",
       "    <tr>\n",
       "      <th>1271</th>\n",
       "      <td>Open Letter to Presidents Putin, Biden, Zelens...</td>\n",
       "      <td>2022-04-05</td>\n",
       "      <td>NaN</td>\n",
       "      <td>['EUROSOLAR, the European Association for Rene...</td>\n",
       "      <td>eurosolar</td>\n",
       "      <td>https://www.eurosolar.de/sektionen/russland/</td>\n",
       "    </tr>\n",
       "    <tr>\n",
       "      <th>1272</th>\n",
       "      <td>IRES 2022 Ticketshop - EUROSOLAR</td>\n",
       "      <td>2022-09-20</td>\n",
       "      <td>NaN</td>\n",
       "      <td>['If you are a EUROSOLAR member, please contac...</td>\n",
       "      <td>eurosolar</td>\n",
       "      <td>https://www.eurosolar.de/en/event/ires2022-tic...</td>\n",
       "    </tr>\n",
       "    <tr>\n",
       "      <th>1276</th>\n",
       "      <td>German Solar Prize - EUROSOLAR</td>\n",
       "      <td>2023-01-03</td>\n",
       "      <td>NaN</td>\n",
       "      <td>['Please find find more information on the Ger...</td>\n",
       "      <td>eurosolar</td>\n",
       "      <td>https://www.eurosolar.de/en/solar-prizes/germa...</td>\n",
       "    </tr>\n",
       "    <tr>\n",
       "      <th>2502</th>\n",
       "      <td>decarbXpo presents a unique range of climate p...</td>\n",
       "      <td>2023-06-13</td>\n",
       "      <td>NaN</td>\n",
       "      <td>['The first ever Expo for Decarbonized Industr...</td>\n",
       "      <td>decarbxpo</td>\n",
       "      <td>https://www.decarbxpo.com/en/News_Media/Press_...</td>\n",
       "    </tr>\n",
       "  </tbody>\n",
       "</table>\n",
       "</div>"
      ],
      "text/plain": [
       "                                                  title        date author  \\\n",
       "1253  Energy Storage Europe Conference: Focus on the...  2021-07-09    NaN   \n",
       "1254  The world's largest energy storage event from ...  2021-07-09    NaN   \n",
       "1255  IRES and ESE Conferences: Final conclusions an...  2021-07-09    NaN   \n",
       "1256  The European Solar Prize 2020: Changemakers of...  2021-07-09    NaN   \n",
       "1257  Renewable energies: European Solar Prize 2018 ...  2021-07-09    NaN   \n",
       "1258  European Solar Prize 2018 – Announcement of th...  2021-07-09    NaN   \n",
       "1261  Saving the World with Renewables: European Sol...  2021-07-09    NaN   \n",
       "1262  IRES & ESE 2019: Storage applications on the r...  2021-07-09    NaN   \n",
       "1263  IRES WEB SUMMIT 2020 Radical system change to ...  2021-07-09    NaN   \n",
       "1265  European Solar Prize 2017 awarded to ten laure...  2021-07-09    NaN   \n",
       "1266  European Solar Prize 2017 – Announcement of th...  2021-07-09    NaN   \n",
       "1269                          European Solar Prize: FAQ  2021-07-21    NaN   \n",
       "1270  Regenerative Earth Decade: EUROSOLAR's call fo...  2022-02-28    NaN   \n",
       "1271  Open Letter to Presidents Putin, Biden, Zelens...  2022-04-05    NaN   \n",
       "1272                   IRES 2022 Ticketshop - EUROSOLAR  2022-09-20    NaN   \n",
       "1276                     German Solar Prize - EUROSOLAR  2023-01-03    NaN   \n",
       "2502  decarbXpo presents a unique range of climate p...  2023-06-13    NaN   \n",
       "\n",
       "                                                content     domain  \\\n",
       "1253  ['The new Energy Storage Europe app provides a...  eurosolar   \n",
       "1254  ['On Tuesday, 14 March, the two conferences wi...  eurosolar   \n",
       "1255  ['The more than 260 contributions from interna...  eurosolar   \n",
       "1256  ['The prize was awarded, for example, to an is...  eurosolar   \n",
       "1257  ['For EUROSOLAR President and Chairman of the ...  eurosolar   \n",
       "1258  ['The European Solar Prize has been awarded an...  eurosolar   \n",
       "1261  ['In his welcoming address, Henri Kox, former ...  eurosolar   \n",
       "1262  ['For its 8th event, the international trade f...  eurosolar   \n",
       "1263  ['This event marks EUROSOLARs preparations for...  eurosolar   \n",
       "1265  ['“ The number and quality of innovations and ...  eurosolar   \n",
       "1266  ['Before the awarding of the Solar Prize a sym...  eurosolar   \n",
       "1269  ['Applications for the different award categor...  eurosolar   \n",
       "1270  ['While the Earth has begun to burn in a fossi...  eurosolar   \n",
       "1271  ['EUROSOLAR, the European Association for Rene...  eurosolar   \n",
       "1272  ['If you are a EUROSOLAR member, please contac...  eurosolar   \n",
       "1276  ['Please find find more information on the Ger...  eurosolar   \n",
       "2502  ['The first ever Expo for Decarbonized Industr...  decarbxpo   \n",
       "\n",
       "                                                    url  \n",
       "1253  https://www.eurosolar.de/2017/02/16/energy-sto...  \n",
       "1254  https://www.eurosolar.de/2017/02/16/the-world-...  \n",
       "1255  https://www.eurosolar.de/2017/03/16/ires-and-e...  \n",
       "1256  https://www.eurosolar.de/2020/12/02/the-europe...  \n",
       "1257  https://www.eurosolar.de/2018/11/15/renewable-...  \n",
       "1258  https://www.eurosolar.de/2018/11/06/european-s...  \n",
       "1261  https://www.eurosolar.de/2019/11/14/saving-the...  \n",
       "1262  https://www.eurosolar.de/2019/03/22/ires-ese-2...  \n",
       "1263  https://www.eurosolar.de/2020/05/28/ires-web-s...  \n",
       "1265  https://www.eurosolar.de/2017/11/15/european-s...  \n",
       "1266  https://www.eurosolar.de/2017/11/08/european-s...  \n",
       "1269  https://www.eurosolar.de/european-solar-prize-...  \n",
       "1270  https://www.eurosolar.de/en/2022/02/01/regener...  \n",
       "1271       https://www.eurosolar.de/sektionen/russland/  \n",
       "1272  https://www.eurosolar.de/en/event/ires2022-tic...  \n",
       "1276  https://www.eurosolar.de/en/solar-prizes/germa...  \n",
       "2502  https://www.decarbxpo.com/en/News_Media/Press_...  "
      ]
     },
     "execution_count": 2723,
     "metadata": {},
     "output_type": "execute_result"
    }
   ],
   "source": [
    "# show all rows that contain \"/\"\n",
    "data[data[\"content\"].str.contains(\"eurosolar\")]"
   ]
  },
  {
   "attachments": {},
   "cell_type": "markdown",
   "metadata": {},
   "source": [
    "### 2.4 Findings"
   ]
  },
  {
   "attachments": {},
   "cell_type": "markdown",
   "metadata": {},
   "source": [
    "Domain-specific cleaning\n",
    "\n",
    "**cleantechnica.com**\n",
    "- remove the last string in the list: `'Copyright © 2023 CleanTechnica. The content produced by this site is for entertainment purposes only. Opinions and comments published on this site may not be sanctioned by and do not necessarily represent the views of CleanTechnica, its owners, sponsors, affiliates, or subsidiaries.'`\n",
    "- remove all following elements in the list after an element contains the string `\"Advertise with CleanTechnica\"`\n",
    "- remove some special characters like `'\\xa0'` and `'\\n'`\n",
    "\n",
    "**azocleantech**\n",
    "- remove the first sentence in the list which is always: `\"By clicking `` Allow All \\'\\' you agree to the storing of cookies on your device to enhance site navigation, analyse site usage and support us in providing free open access scientific content. More info.\"`\n",
    "- remove all following elements in the list after an element contains the string `\"The Sensi\"` -> this seems to be an advertisement on all pages of azocleantech\n",
    "\n",
    "**pv-magazine**\n",
    "- remove all following elements in the list after a sentence contains `This website uses cookies to anonymously`\n",
    "- remove all following elements in the list after a sentence contains `By submitting this form you agree to pv magazine using your data`\n",
    "\n",
    "**energyvoice**\n",
    "- cleaning of special characters and whitespaces\n",
    "\n",
    "**solarindustrymag**\n",
    "- Normal cleaning of special characters and whitespaces\n",
    "- remove `'Solar Industry offers industry participants probing, comprehensive assessments of the technology, tools and trends that are driving this dynamic energy sector. From raw materials straight through to end-user applications, we capture and analyze the critical details that help professionals stay current and navigate the solar market.', '© Copyright Zackin Publications Inc. All Rights Reserved.'`\n",
    "\n",
    "**naturalgasintel**\n",
    "- Remove signup and header text: `'Sign in to get the best natural gas news and data. Follow the topics you want and receive the daily emails.', 'Your email address *', 'Your password *', 'Remember me Continue', 'Reset password', 'Featured Content', 'News & Data Services', 'Client Support', 'Daily GPI', 'Regulatory | E & P | Infrastructure | NGI All News Access | NGI The Weekly Gas Market Report'`\n",
    "\n",
    "**thinkgeoenergy**\n",
    "- cleaning of special characters and whitespaces\n",
    "\n",
    "**rechargenews**\n",
    "- remove all following elements after `Recharge is part of NHST Global Publications AS and we are responsible for the data that you register with us`\n",
    "\n",
    "**solarpowerworldonline**\n",
    "- Remove everything after `'Copyright © 2023 WTWH Media, LLC. All Rights Reserved`\n",
    "\n",
    "**energyintel**\n",
    "- remove references like `( LNGI Nov.9'20). Rafiq Latta, Nicosia`, ` ( EIF Jan.22'20)`\n",
    "\n",
    "**pv-tech**\n",
    "- cleaning of special characters and whitespaces\n",
    "\n",
    "**businessgreen**\n",
    "- cleaning of special characters and whitespaces\n",
    "\n",
    "**greenprophet**\n",
    "- Remove signup form: `\"window.dojoRequire ( [ `` mojo/signup-forms/Loader '' ], function ( L) { L.start ( { `` baseUrl '': '' mc.us4.list-manage.com '', '' uuid '': '' 2a6df7ce0f3230ba1f5efe12c '', '' lid '': '' 1e23cc3ebd '', '' uniqueMethods '': true }) })\"`\n",
    "\n",
    "**ecofriend**\n",
    "- remove everything after `EcoFriend.com` or `Ecofriend.Org`\n",
    "\n",
    "**solarpowerportal.co**\n",
    "- remove everything after `'Thank you for subscribing to the email newsletter.`\n",
    "\n",
    "**eurosolar**\n",
    "- Has some german content -> maybe translate it to english\n",
    "- Has some ceryillic content like Відкритий лист президентам\n",
    "\n",
    "**decarbxpo**\n",
    "- remove everything after `'To use the full function of this web site, JavaScript needs to be enabled in your browser.`\n",
    "\n",
    "**solarquarter**\n",
    "- remove everything after `This site uses Akismet to reduce spam. Learn how your comment data is processed.'`"
   ]
  },
  {
   "attachments": {},
   "cell_type": "markdown",
   "metadata": {},
   "source": [
    "## Text Preprocessing"
   ]
  },
  {
   "cell_type": "code",
   "execution_count": 2724,
   "metadata": {},
   "outputs": [
    {
     "data": {
      "text/html": [
       "<div>\n",
       "<style scoped>\n",
       "    .dataframe tbody tr th:only-of-type {\n",
       "        vertical-align: middle;\n",
       "    }\n",
       "\n",
       "    .dataframe tbody tr th {\n",
       "        vertical-align: top;\n",
       "    }\n",
       "\n",
       "    .dataframe thead th {\n",
       "        text-align: right;\n",
       "    }\n",
       "</style>\n",
       "<table border=\"1\" class=\"dataframe\">\n",
       "  <thead>\n",
       "    <tr style=\"text-align: right;\">\n",
       "      <th></th>\n",
       "      <th>title</th>\n",
       "      <th>date</th>\n",
       "      <th>content</th>\n",
       "      <th>domain</th>\n",
       "      <th>url</th>\n",
       "    </tr>\n",
       "  </thead>\n",
       "  <tbody>\n",
       "    <tr>\n",
       "      <th>0</th>\n",
       "      <td>Qatar to Slash Emissions as LNG Expansion Adva...</td>\n",
       "      <td>2021-01-13</td>\n",
       "      <td>[\"Qatar Petroleum ( QP) is targeting aggressiv...</td>\n",
       "      <td>energyintel</td>\n",
       "      <td>https://www.energyintel.com/0000017b-a7dc-de4c...</td>\n",
       "    </tr>\n",
       "    <tr>\n",
       "      <th>1</th>\n",
       "      <td>India Launches Its First 700 MW PHWR</td>\n",
       "      <td>2021-01-15</td>\n",
       "      <td>[\"• Nuclear Power Corp. of India Ltd. ( NPCIL)...</td>\n",
       "      <td>energyintel</td>\n",
       "      <td>https://www.energyintel.com/0000017b-a7dc-de4c...</td>\n",
       "    </tr>\n",
       "    <tr>\n",
       "      <th>2</th>\n",
       "      <td>New Chapter for US-China Energy Trade</td>\n",
       "      <td>2021-01-20</td>\n",
       "      <td>[\"New US President Joe Biden took office this ...</td>\n",
       "      <td>energyintel</td>\n",
       "      <td>https://www.energyintel.com/0000017b-a7dc-de4c...</td>\n",
       "    </tr>\n",
       "    <tr>\n",
       "      <th>3</th>\n",
       "      <td>Japan: Slow Restarts Cast Doubt on 2030 Energy...</td>\n",
       "      <td>2021-01-22</td>\n",
       "      <td>[\"The slow pace of Japanese reactor restarts c...</td>\n",
       "      <td>energyintel</td>\n",
       "      <td>https://www.energyintel.com/0000017b-a7dc-de4c...</td>\n",
       "    </tr>\n",
       "    <tr>\n",
       "      <th>4</th>\n",
       "      <td>NYC Pension Funds to Divest Fossil Fuel Shares</td>\n",
       "      <td>2021-01-25</td>\n",
       "      <td>[\"Two of New York City's largest pension funds...</td>\n",
       "      <td>energyintel</td>\n",
       "      <td>https://www.energyintel.com/0000017b-a7dc-de4c...</td>\n",
       "    </tr>\n",
       "  </tbody>\n",
       "</table>\n",
       "</div>"
      ],
      "text/plain": [
       "                                               title        date  \\\n",
       "0  Qatar to Slash Emissions as LNG Expansion Adva...  2021-01-13   \n",
       "1               India Launches Its First 700 MW PHWR  2021-01-15   \n",
       "2              New Chapter for US-China Energy Trade  2021-01-20   \n",
       "3  Japan: Slow Restarts Cast Doubt on 2030 Energy...  2021-01-22   \n",
       "4     NYC Pension Funds to Divest Fossil Fuel Shares  2021-01-25   \n",
       "\n",
       "                                             content       domain  \\\n",
       "0  [\"Qatar Petroleum ( QP) is targeting aggressiv...  energyintel   \n",
       "1  [\"• Nuclear Power Corp. of India Ltd. ( NPCIL)...  energyintel   \n",
       "2  [\"New US President Joe Biden took office this ...  energyintel   \n",
       "3  [\"The slow pace of Japanese reactor restarts c...  energyintel   \n",
       "4  [\"Two of New York City's largest pension funds...  energyintel   \n",
       "\n",
       "                                                 url  \n",
       "0  https://www.energyintel.com/0000017b-a7dc-de4c...  \n",
       "1  https://www.energyintel.com/0000017b-a7dc-de4c...  \n",
       "2  https://www.energyintel.com/0000017b-a7dc-de4c...  \n",
       "3  https://www.energyintel.com/0000017b-a7dc-de4c...  \n",
       "4  https://www.energyintel.com/0000017b-a7dc-de4c...  "
      ]
     },
     "execution_count": 2724,
     "metadata": {},
     "output_type": "execute_result"
    }
   ],
   "source": [
    "data_cleaned = data.copy()\n",
    "\n",
    "# remove author column from data_cleaned\n",
    "data_cleaned = data_cleaned.drop(columns=[\"author\"])\n",
    "data_cleaned.head()"
   ]
  },
  {
   "cell_type": "code",
   "execution_count": 2725,
   "metadata": {},
   "outputs": [
    {
     "data": {
      "text/plain": [
       "\"During the first four months of 2022, electrical generation by renewable energy sources accounted for over 25% of the nation's electricity. In April alone, renewables accounted for 29.3% — an all-time high. And for the first time ever, the combination of just wind and solar produce more electricity in April than the nation's nuclear power plants — 17.96% more. This is according to a SUN DAY Campaign analysis of data in EIA's Electric Power Monthly report. The report also reveals that during the \""
      ]
     },
     "execution_count": 2725,
     "metadata": {},
     "output_type": "execute_result"
    }
   ],
   "source": [
    "def clean_content_cleantechnica(content):\n",
    "    # Step 1: Remove surrounding list notation\n",
    "    content = content.strip(\"[]\")\n",
    "    \n",
    "    # Step 2: Split content by the typical list delimiter\n",
    "    sentences = content.split(\"', '\")\n",
    "    \n",
    "    # Step 3: Remove the last element if it matches the specific copyright text\n",
    "    copyright_text = \"Copyright © 2023 CleanTechnica. The content produced by this site is for entertainment purposes only. Opinions and comments published on this site may not be sanctioned by and do not necessarily represent the views of CleanTechnica, its owners, sponsors, affiliates, or subsidiaries.\"\n",
    "    if sentences and sentences[-1] == copyright_text:\n",
    "        sentences = sentences[:-1]  # Remove last element\n",
    "    \n",
    "    # Step 4: Find the index of the \"Advertise with CleanTechnica\" string and remove all elements after it\n",
    "    for i, sentence in enumerate(sentences):\n",
    "        if \"Advertise with CleanTechnica\" in sentence:\n",
    "            sentences = sentences[:i]\n",
    "            break\n",
    "    \n",
    "    # Join the cleaned sentences back into a single text block\n",
    "    cleaned_text = ' '.join(sentences)\n",
    "\n",
    "    # Combined regex substitutions for multiple patterns\n",
    "    cleaned_text = re.sub(r'\\( |\\’ |”|“|…', lambda x: {'( ': '(', '’ ': '’', '”': '', '“': '', '…': ''}.get(x.group(), ''), cleaned_text)\n",
    "    cleaned_text = re.sub(r'\\s+', ' ', cleaned_text).strip()\n",
    "\n",
    "    # Replace ’ with '\n",
    "    cleaned_text = cleaned_text.replace(\"’\", \"'\")\n",
    "\n",
    "    # Strip any leading/trailing single or double quotes\n",
    "    cleaned_text = cleaned_text.strip(\"'\\\"\")\n",
    "\n",
    "    return cleaned_text\n",
    "\n",
    "data_cleaned.loc[data_cleaned['domain'] == 'cleantechnica', 'content'] = \\\n",
    "    data_cleaned[data_cleaned['domain'] == 'cleantechnica']['content'].apply(clean_content_cleantechnica)\n",
    "\n",
    "# Inspect first 500 characters of the cleaned content from cleantechnica\n",
    "data_cleaned[data_cleaned[\"domain\"] == \"cleantechnica\"][\"content\"].iloc[40][:500]"
   ]
  },
  {
   "cell_type": "code",
   "execution_count": 2726,
   "metadata": {},
   "outputs": [
    {
     "name": "stdout",
     "output_type": "stream",
     "text": [
      "Leading renewable energy company RES has announced a collaboration with nge Municipality in Sweden to deliver a new green hydrogen plant in Alby. Together RES and nge Municipality aim to supply green hydrogen to the local industry and accelerate the energy transition The aim of the partnership between nge Municipality and RES is to utilise current available grid capacity to give the local industry access to green hydrogen in nge by 2024. The new green hydrogen plant will utilise renewable electr\n"
     ]
    }
   ],
   "source": [
    "def clean_content_azocleantech(content):\n",
    "    # Remove surrounding list notation\n",
    "    content = content.strip(\"[]\")\n",
    "    \n",
    "    # Split sentences by .', ' or .', \" or .\", ' or .\", \"\n",
    "    sentences = re.split(r\"\\.', |.'\\\", |.\\\", |.\\', |.\\\", \", content)\n",
    "\n",
    "    # Remove cookies message\n",
    "    sentences = sentences[1:]\n",
    "\n",
    "    # Remove the first sentence and trim after \"The Sensi\"\n",
    "    for i, sentence in enumerate(sentences):\n",
    "        if \"The Sensi\" in sentence:\n",
    "            sentences = sentences[:i]\n",
    "            break\n",
    "    \n",
    "    # Join and clean up text\n",
    "    cleaned_text = ' '.join(sentence.strip() for sentence in sentences)\n",
    "\n",
    "    # Apply combined replacements to clean up unwanted characters and patterns\n",
    "    cleaned_text = re.sub(r\"\\( |’ |' |''|` |`|” |“ |\\\"| -;|:\", '', cleaned_text)\n",
    "    cleaned_text = re.sub(r\"’\", \"'\", cleaned_text)  # Replace special apostrophe\n",
    "    cleaned_text = re.sub(r\"\\s+\", ' ', cleaned_text)  # Remove extra spaces\n",
    "\n",
    "    # Replace  ' with a space\n",
    "    cleaned_text = cleaned_text.replace(\" '\", \" \")\n",
    "\n",
    "    # Remove non-ASCII characters\n",
    "    cleaned_text = re.sub(r'[^\\x00-\\x7F]+', '', cleaned_text)\n",
    "\n",
    "    # Strip any leading/trailing single or double quotes\n",
    "    cleaned_text = cleaned_text.strip(\"'\\\"\")\n",
    "\n",
    "    return cleaned_text\n",
    "\n",
    "data_cleaned.loc[data_cleaned['domain'] == 'azocleantech', 'content'] = \\\n",
    "    data_cleaned[data_cleaned['domain'] == 'azocleantech']['content'].apply(clean_content_azocleantech)\n",
    "\n",
    "print(data_cleaned[data_cleaned['domain'] == 'azocleantech']['content'].iloc[250][:500])"
   ]
  },
  {
   "cell_type": "code",
   "execution_count": 2727,
   "metadata": {},
   "outputs": [
    {
     "name": "stdout",
     "output_type": "stream",
     "text": [
      "'Copenhagen Infrastructure Partners (CIP) has announced plans to develop an AUD 30 billion ($ 19,95 billion) green hydrogen production hub on South Australia's Eyre Peninsula, while a new research study shows the feasibility of gas-to-hydrogen pipeline conversion in Western Australia. Map obtained from the Global Solar Atlas 2.0, a free web-based application developed and operated by the company Solargis s.r.o. on behalf of the World Bank Group, utilizing Solargis data, with funding provided by \n"
     ]
    }
   ],
   "source": [
    "def clean_content_pv_magazine(content):\n",
    "    # Step 1: Remove surrounding list notation and split by ', '\n",
    "    content = content.strip(\"[]\")\n",
    "    sentences = re.split(r\"',\\s*'\", content)\n",
    "\n",
    "    # Step 2: Remove elements following the specified phrases\n",
    "    for i, sentence in enumerate(sentences):\n",
    "        if \"This website uses cookies to anonymously\" in sentence or \"By submitting this form you agree to pv magazine using your data\" in sentence or \"This content is protected by copyright and may not be reused\" in sentence:\n",
    "            sentences = sentences[:i]\n",
    "            break\n",
    "\n",
    "    # Step 3: Join sentences and clean up text\n",
    "    cleaned_text = ' '.join(sentence.strip() for sentence in sentences)\n",
    "    \n",
    "    # Additional cleaning if needed\n",
    "    cleaned_text = re.sub(r\"\\s+\", ' ', cleaned_text).strip()  # Remove extra spaces\n",
    "\n",
    "    # remove space after (\n",
    "    cleaned_text = re.sub(r\"\\( \", \"(\", cleaned_text)\n",
    "\n",
    "    # replace “ and ” with \"\n",
    "    cleaned_text = cleaned_text.replace(\"“\", \"\\\"\").replace(\"”\", \"\\\"\")\n",
    "\n",
    "    # replace \" with space\n",
    "    cleaned_text = cleaned_text.replace(' \" ', \" \")\n",
    "\n",
    "    # remove *\n",
    "    cleaned_text = cleaned_text.replace(\"* \", \"\")\n",
    "\n",
    "    # remove \"\" \n",
    "    cleaned_text = cleaned_text.replace('\"\" ', \"\")\n",
    "\n",
    "    # remove ',\n",
    "    cleaned_text = cleaned_text.replace(\"',\", \"\")\n",
    "\n",
    "    # remove \"\",\n",
    "    cleaned_text = cleaned_text.replace('\",', \"\")\n",
    "\n",
    "    # remove ’\n",
    "    cleaned_text = cleaned_text.replace(\"’\", \"'\")\n",
    "\n",
    "    # remove `` \n",
    "    cleaned_text = cleaned_text.replace(\"`` \", \"\")\n",
    "\n",
    "    # remove '\" \n",
    "    cleaned_text = cleaned_text.replace('\\'\" ', \"\")\n",
    "\n",
    "    # remove \" \"\n",
    "    cleaned_text = cleaned_text.replace('\" \"', \"\")\n",
    "\n",
    "    # replace ' s with 's\n",
    "    cleaned_text = cleaned_text.replace(\"' s\", \"'s\")\n",
    "    cleaned_text = cleaned_text.replace(\"' t\", \"'t\")\n",
    "    cleaned_text = cleaned_text.replace(\"' ve\", \"'ve\")\n",
    "    cleaned_text = cleaned_text.replace(\"' re\", \"'re\")\n",
    "    cleaned_text = cleaned_text.replace(\"' ll\", \"'ll\")\n",
    "    cleaned_text = cleaned_text.replace(\"' d\", \"'d\")\n",
    "\n",
    "    return cleaned_text\n",
    "\n",
    "# Apply the function to 'pv-magazine' domain entries\n",
    "data_cleaned.loc[data_cleaned['domain'] == 'pv-magazine', 'content'] = \\\n",
    "    data_cleaned[data_cleaned['domain'] == 'pv-magazine']['content'].apply(clean_content_pv_magazine)\n",
    "\n",
    "print(data_cleaned[data_cleaned[\"domain\"] == \"pv-magazine\"][\"content\"].iloc[700][:500])"
   ]
  },
  {
   "cell_type": "code",
   "execution_count": 2728,
   "metadata": {},
   "outputs": [
    {
     "name": "stdout",
     "output_type": "stream",
     "text": [
      "Energean has taken final investment decision (FID) on its Karish North gas development, offshore Israel. The company forecast the development would start in the second half of 2023. Energean has also announced the signing of a $ 700 million loan, of which $ 150mn will go on Karish North. The company discovered Karish North 21 months ago. The find will be tied back to the Energean Power floating production, storage and offloading (FPSO) vessel, which is 5.4 km away. DeGolyer and MacNaughton provided a report in November 2020 giving 2P reserves at Karish North of 32 billion cubic metres of gas and 34 million barrels of liquids. The first well should produce around 3 bcm per year. The main Karish development is due to begin producing in the fourth quarter of 2021. Subsea and onshore work is due to be completed in the second quarter, while the FPSO should leave Singapore in the third quarter. Adding Karish North to the FPSO will mean that potential flow is more than the vessel s 8 bcm per year capacity, improving project reliability. Energean also announced the signing of an 18-month, $ 700 million loan with JP Morgan and Morgan Stanley Senior Funding. This cash will go to developing the Karish North plan and funding the acquisition of a stake in its Israeli subsidiary. The loan is priced at 5.75%, with 0.25% increases every three months, taking it to a maximum of 7%. The company signed the loan on January 13. At the same time, it reached a deal with lenders for its existing project finance facility. This agreement extends the maturity of the project finance by nine months, to September 2022. Energean will also use cash from the loan to install a second oil train and second riser on the FPSO. This will bring its liquids handling capacity to 40,000 barrels per day, from 21,000 bpd. It also increases the gas-handling capacity to 8 bcm per year, from 6.5 bcm per year. This equipment will be operational in 2022. The company also noted its exploration and appraisal drilling programme in Israel in early 2022, which may include five wells. Energean said the loan and existing facility would allow it to optimise its long-term capital structure.\n"
     ]
    }
   ],
   "source": [
    "def clean_content(content):\n",
    "    # Step 1: Remove surrounding list notation and split by ', '\n",
    "    content = content.strip(\"[]\")\n",
    "    sentences = re.split(r\"',\\s*'\", content)\n",
    "\n",
    "    # Step 2: Join sentences back together\n",
    "    cleaned_text = ' '.join(sentence.strip() for sentence in sentences)\n",
    "    \n",
    "    # Step 3: Remove special characters and apply cleanup\n",
    "    cleaned_text = re.sub(r'[“”‘’\":\\'`]', '', cleaned_text)  # Remove special quotes and ticks\n",
    "    cleaned_text = re.sub(r'\\s+', ' ', cleaned_text).strip()  # Remove extra spaces\n",
    "\n",
    "    # Remove space after (\n",
    "    cleaned_text = re.sub(r\"\\( \", \"(\", cleaned_text)\n",
    "\n",
    "    # Replace \" – \" with space\n",
    "    cleaned_text = cleaned_text.replace(\" – \", \" \")\n",
    "\n",
    "    return cleaned_text\n",
    "\n",
    "# Apply the function to 'energyvoice' domain entries\n",
    "data_cleaned.loc[data_cleaned['domain'] == 'energyvoice', 'content'] = \\\n",
    "    data_cleaned[data_cleaned['domain'] == 'energyvoice']['content'].apply(clean_content)\n",
    "\n",
    "# Display an example to confirm the changes\n",
    "print(data_cleaned[data_cleaned[\"domain\"] == \"energyvoice\"][\"content\"].iloc[10])"
   ]
  },
  {
   "cell_type": "code",
   "execution_count": 2729,
   "metadata": {},
   "outputs": [
    {
     "name": "stdout",
     "output_type": "stream",
     "text": [
      "Clearway Energy Group, an owner and operator of renewable assets, has completed construction and reached commercial operations on the 192 MW Rosamond Central solar project in Kern County, Calif. Rosamond Central is contracted under power purchase agreements with East Bay Community Energy and Clean Power Alliance, both community choice aggregators providing a diverse range of power options to regional customers, and the City of Palo Alto Utilities, which has administered Palo Alto s electric power system for 120 years. We are proud to continue contributing to California s goal of 100% clean electricity and keep the state on the forefront of climate leadership, said Valerie Wooley, vice president of origination at Clearway Energy Group. Rosamond Central came together thanks to the dedication and effort of many partners, including McCarthy s swift action to create a safe working environment, and the trust of East Bay Community Energy, Clean Power Alliance and Palo Alto to meet their customers demand for low-cost renewable energy. Construction of Rosamond Central began in February 2020 and was led by McCarthy Building Companies. More than 600 jobs were created during construction and the site will sustain several permanent operations and maintenance jobs. The solar site also represents a $ 5 million investment in Kern County through tax revenue to support area public services. Rosamond Central will expand Clearway s footprint in Kern County, where the company owns and operates 1,053 MW of wind and solar energy assets and contributes approximately $ 20,000,000 in annual property taxes to the local economy.\n"
     ]
    }
   ],
   "source": [
    "def clean_content_solarindustrymag(content):\n",
    "    # Step 1: Remove surrounding list notation and split by ', '\n",
    "    content = content.strip(\"[]\")\n",
    "    sentences = re.split(r\"',\\s*'\", content)\n",
    "\n",
    "    # Step 2: Remove specified sentences if they exist\n",
    "    # Use regex to match text more flexibly\n",
    "    sentences = [\n",
    "        sentence for sentence in sentences \n",
    "        if not re.search(r\"Solar Industry offers industry participants probing.*?solar market|© Copyright Zackin Publications Inc\\. All Rights Reserved\", sentence, re.IGNORECASE)\n",
    "    ]\n",
    "\n",
    "    # Step 3: Join sentences and clean up special characters and whitespace\n",
    "    cleaned_text = ' '.join(sentence.strip() for sentence in sentences)\n",
    "    \n",
    "    # Step 4: Remove special characters\n",
    "    cleaned_text = re.sub(r'[“”‘’\"\\'`]', '', cleaned_text)  # Remove special quotes and ticks\n",
    "    cleaned_text = re.sub(r'\\s+', ' ', cleaned_text).strip()  # Remove extra spaces\n",
    "\n",
    "    # remove \" - \"\n",
    "    cleaned_text = cleaned_text.replace(\" - \", \" \")\n",
    "\n",
    "    # remove space after (\n",
    "    cleaned_text = re.sub(r\"\\( \", \"(\", cleaned_text)\n",
    "\n",
    "    return cleaned_text\n",
    "\n",
    "data_cleaned.loc[data_cleaned['domain'] == 'solarindustrymag', 'content'] = \\\n",
    "    data_cleaned[data_cleaned['domain'] == 'solarindustrymag']['content'].apply(clean_content_solarindustrymag)\n",
    "\n",
    "print(data_cleaned[data_cleaned[\"domain\"] == \"solarindustrymag\"][\"content\"].iloc[0])"
   ]
  },
  {
   "cell_type": "code",
   "execution_count": 2730,
   "metadata": {},
   "outputs": [
    {
     "name": "stdout",
     "output_type": "stream",
     "text": [
      "NGI All News Access Major fluctuations in the latest weather models resulted in big swings in natural gas bidweek prices, with solid gains on the East Coast and out West. However, much of the countrys midsection posted hefty losses amid healthy storage levels, leaving NGIs January Bidweek National Avg. down 2.5 cents from December 2020 bidweek to $ 2.695/MMBtu. While just shy of the previous months average, the January 2021 bidweek average came in nearly 15.0 cents higher than year-ago levels an\n"
     ]
    }
   ],
   "source": [
    "def clean_content_naturalgasintel(content):\n",
    "    # Step 1: Remove surrounding list notation and split by ', '\n",
    "    content = content.strip(\"[]\")\n",
    "    sentences = re.split(r\"',\\s*'\", content)\n",
    "\n",
    "    # Step 3: Remove signup form sentences at the beginning\n",
    "    signup_or_header_phrases = [\n",
    "        \"Sign in to get the best natural gas news and data\",\n",
    "        \"Your email address *\", \"Your password *\", \"Remember me Continue\",\n",
    "        \"Reset password\"\n",
    "    ]\n",
    "    while sentences and any(signup_or_header_phrases in sentences[0] for signup_or_header_phrases in signup_or_header_phrases):\n",
    "        sentences.pop(0)\n",
    "\n",
    "    # Step 3: Remove footer information starting from the copyright phrase\n",
    "    footer_start = \"© 2021 Natural Gas Intelligence. All rights reserved.\"\n",
    "    for i, sentence in enumerate(sentences):\n",
    "        if footer_start in sentence:\n",
    "            sentences = sentences[:i]\n",
    "            break\n",
    "\n",
    "    # Step 4: Join sentences and clean up special characters and whitespace\n",
    "    cleaned_text = ' '.join(sentence.strip() for sentence in sentences)\n",
    "    cleaned_text = re.sub(r'[“”‘’\"\\[\\[\\'`]\\s*', '', cleaned_text)  # Remove special quotes and ticks\n",
    "    cleaned_text = re.sub(r'\\s+', ' ', cleaned_text).strip()  # Remove extra spaces\n",
    "\n",
    "    # remove space after (\n",
    "    cleaned_text = re.sub(r\"\\( \", \"(\", cleaned_text)\n",
    "\n",
    "    # remove \" - \"\n",
    "    cleaned_text = cleaned_text.replace(\" — \", \" \")\n",
    "\n",
    "    # remove everything before  | \n",
    "    cleaned_text = cleaned_text.split(\" | \")[-1]\n",
    "\n",
    "    return cleaned_text\n",
    "\n",
    "data_cleaned.loc[data_cleaned['domain'] == 'naturalgasintel', 'content'] = \\\n",
    "    data_cleaned[data_cleaned['domain'] == 'naturalgasintel']['content'].apply(clean_content_naturalgasintel)\n",
    "\n",
    "print(data_cleaned[data_cleaned[\"domain\"] == \"naturalgasintel\"][\"content\"].iloc[0][:500])"
   ]
  },
  {
   "cell_type": "code",
   "execution_count": 2731,
   "metadata": {},
   "outputs": [
    {
     "name": "stdout",
     "output_type": "stream",
     "text": [
      "IRENA has released an assessment report on the renewables readiness for El Salvador, highlighting opportunity for improving conditions for geothermal development, including better renumeration schemes and add direct use options to the regulatory framework, among others. The main renewable resources used in El Salvador for electricity generation are geothermal and hydropower. While variable renewable power is growing considerably, there is much more potential for these resources, either for elect\n"
     ]
    }
   ],
   "source": [
    "data_cleaned.loc[data_cleaned['domain'] == 'thinkgeoenergy', 'content'] = \\\n",
    "    data_cleaned[data_cleaned['domain'] == 'thinkgeoenergy']['content'].apply(clean_content)\n",
    "\n",
    "print(data_cleaned[data_cleaned[\"domain\"] == \"thinkgeoenergy\"][\"content\"].iloc[0][:500])"
   ]
  },
  {
   "attachments": {},
   "cell_type": "markdown",
   "metadata": {},
   "source": [
    "This function can actually handle the different apostrophes and alone standing letters."
   ]
  },
  {
   "cell_type": "code",
   "execution_count": 2732,
   "metadata": {},
   "outputs": [
    {
     "name": "stdout",
     "output_type": "stream",
     "text": [
      "'The US state of New York has selected Equinor to supply almost 2.5GW of power from two projects in its highly anticipated second offshore wind solicitation, with the Norwegian energy giant winning a bid which includes large scale port redevelopment that will position the state as a hub for the fast emerging sector in the region. Equinor which will take over the top slot in power capacity under contract from Denmark's Orsted with the award until its recently agreed strategic partnership BP is fo\n"
     ]
    }
   ],
   "source": [
    "def clean_content_rechargenews(content):\n",
    "    # Step 1: Remove surrounding list notation and split by ', '\n",
    "    content = content.strip(\"[]\")\n",
    "    sentences = re.split(r\"',\\s*'\", content)\n",
    "\n",
    "    # Step 2: Remove all sentences following any stop phrase\n",
    "    stop_phrases = [\n",
    "        \"Recharge is part of NHST Global Publications AS and we are responsible for the data that you register with us\",\n",
    "        \"Recharge is part of DN Media Group\",\n",
    "        \"Ecofriend.Org\", \"EcoFriend.com\",\n",
    "        \"Thank you for subscribing to the email newsletter.\",\n",
    "        \"To use the full function of this web site, JavaScript needs to be enabled in your browser.\",\n",
    "        \"This site uses Akismet to reduce spam. Learn how your comment data is processed.\",\n",
    "    ]\n",
    "    for i, sentence in enumerate(sentences):\n",
    "        if any(stop_phrase in sentence for stop_phrase in stop_phrases):\n",
    "            sentences = sentences[:i]\n",
    "            break\n",
    "\n",
    "    # Step 3: Join sentences and apply consolidated clean-up operations\n",
    "    cleaned_text = ' '.join(sentence.strip() for sentence in sentences)\n",
    "    cleaned_text = re.sub(r'[‘’]', \"'\", cleaned_text)  # Normalize all apostrophes to single '\n",
    "\n",
    "    # Step 4: Remove any code-like blocks that start with `{ L.start`, `window.dojoRequire`, or other patterns\n",
    "    cleaned_text = re.sub(r'\\{.*?\\}\\s*\\),?', '', cleaned_text, flags=re.DOTALL)  # Removes blocks like `{ ... })`\n",
    "    cleaned_text = re.sub(r'window\\.dojoRequire\\s*\\(.*?\\)\\s*[,;]?', '', cleaned_text, flags=re.DOTALL)  # Removes `window.dojoRequire(...)`\n",
    "\n",
    "    # Step 5: Consolidated special character and whitespace cleanup\n",
    "    cleaned_text = re.sub(r'[“”\"\\[\\]`]', '', cleaned_text)  # Remove other quotes and brackets\n",
    "    cleaned_text = re.sub(r'\\s+([.,;:?!])', r'\\1', cleaned_text)  # Remove space before punctuation\n",
    "    cleaned_text = re.sub(r'\\s*[-–—]\\s*', ' ', cleaned_text)  # Replace dashes with single space\n",
    "    cleaned_text = re.sub(r'\\s+', ' ', cleaned_text).strip()  # Remove extra spaces\n",
    "    cleaned_text = re.sub(r'\\( ', '(', cleaned_text)  # Remove space after (\n",
    "    cleaned_text = re.sub(r'\\.,', '.', cleaned_text)  # Replace any \".,\"\n",
    "\n",
    "    # Additional character replacements to clean single quotes and spaces\n",
    "    cleaned_text = cleaned_text.replace(\" – \", \" \")\n",
    "    cleaned_text = cleaned_text.replace(\"', \", \" \")\n",
    "    cleaned_text = cleaned_text.replace(\" ' \", \" \")\n",
    "    cleaned_text = cleaned_text.replace(\" '\", \" \")\n",
    "    cleaned_text = cleaned_text.replace(\"' \", \"'\")\n",
    "    cleaned_text = cleaned_text.replace(\" '\", \" \")\n",
    "    cleaned_text = cleaned_text.replace(\"  \", \" \")\n",
    "    cleaned_text = cleaned_text.replace(\"}), \", \"\")\n",
    "    \n",
    "    return cleaned_text\n",
    "\n",
    "data_cleaned.loc[data_cleaned['domain'] == 'rechargenews', 'content'] = \\\n",
    "    data_cleaned[data_cleaned['domain'] == 'rechargenews']['content'].apply(clean_content_rechargenews)\n",
    "\n",
    "print(data_cleaned[data_cleaned[\"domain\"] == \"rechargenews\"][\"content\"].iloc[3][:500])"
   ]
  },
  {
   "cell_type": "code",
   "execution_count": 2733,
   "metadata": {},
   "outputs": [
    {
     "name": "stdout",
     "output_type": "stream",
     "text": [
      "Qatar Petroleum (QP) is targeting aggressive cuts in its greenhouse gas emissions as it prepares to launch Phase 2 of its planned 48 million ton per year LNG expansion. In its latest Sustainability Report published on Wednesday, QP said its goals include reducing the emissions intensity of Qatar's LNG facilities by 25% and of its upstream facilities by at least 15%. The company is also aiming to reduce gas flaring intensity across its upstream facilities by more than 75% and has raised its carbo\n"
     ]
    }
   ],
   "source": [
    "data_cleaned.loc[data_cleaned['domain'] == 'energyintel', 'content'] = \\\n",
    "    data_cleaned[data_cleaned['domain'] == 'energyintel']['content'].apply(clean_content_rechargenews)\n",
    "\n",
    "print(data_cleaned[data_cleaned[\"domain\"] == \"energyintel\"][\"content\"].iloc[0][:500])"
   ]
  },
  {
   "cell_type": "code",
   "execution_count": 2734,
   "metadata": {},
   "outputs": [
    {
     "name": "stdout",
     "output_type": "stream",
     "text": [
      "'The Global Wind Energy Council (GWEC) and Global Solar Council (GSC) have called on Mexican lawmakers to prevent changes to the country's Electricity Act, Ley de la Industria Electrica (LIE), which pose what they call an unequivocal threat to private investment in clean energy. The groups issued a joint statement this week, responding to controversial reforms that Mexico's lower house of Congress approved on Wednesday (24 February). Currently, the Federal Electricity Commission (CFE) has to buy\n"
     ]
    }
   ],
   "source": [
    "data_cleaned.loc[data_cleaned['domain'] == 'pv-tech', 'content'] = \\\n",
    "    data_cleaned[data_cleaned['domain'] == 'pv-tech']['content'].apply(clean_content_rechargenews)\n",
    "\n",
    "print(data_cleaned[data_cleaned[\"domain\"] == \"pv-tech\"][\"content\"].iloc[0][:500])"
   ]
  },
  {
   "cell_type": "code",
   "execution_count": 2735,
   "metadata": {},
   "outputs": [
    {
     "name": "stdout",
     "output_type": "stream",
     "text": [
      "Geothermal energy in the UK took a major step forward this week, after the developer of the nation's first geothermal power plant struck landmark deals to supply electricity to green energy supplier Ecotricity and heat to a geothermal rum startup. The deal to provide a minimum 3MW of baseload electricity to Ecotricity customers marks the first time geothermal electricity will be purchased and sold through the UK's grid, according to Geothermal Engineering Limited, the company that owns the pione\n"
     ]
    }
   ],
   "source": [
    "data_cleaned.loc[data_cleaned['domain'] == 'businessgreen', 'content'] = \\\n",
    "    data_cleaned[data_cleaned['domain'] == 'businessgreen']['content'].apply(clean_content_rechargenews)\n",
    "\n",
    "print(data_cleaned[data_cleaned[\"domain\"] == \"businessgreen\"][\"content\"].iloc[0][:500])"
   ]
  },
  {
   "cell_type": "code",
   "execution_count": 2736,
   "metadata": {},
   "outputs": [
    {
     "name": "stdout",
     "output_type": "stream",
     "text": [
      "American consumers are more concerned about the planet than steady economic growth, new report. Your company wants to be a part of this. What steps do you take? Each company should create detailed reports that evaluate the environmental impact of the business, numerous social responsibilities and factors that can improve corporate governance. Once the investors review these reports, the shareholders may provide additional investments, request more information, examine the value of the company an\n"
     ]
    }
   ],
   "source": [
    "data_cleaned.loc[data_cleaned['domain'] == 'greenprophet', 'content'] = \\\n",
    "    data_cleaned[data_cleaned['domain'] == 'greenprophet']['content'].apply(clean_content_rechargenews)\n",
    "\n",
    "print(data_cleaned[data_cleaned[\"domain\"] == \"greenprophet\"][\"content\"].iloc[0][:500])"
   ]
  },
  {
   "cell_type": "code",
   "execution_count": 2737,
   "metadata": {},
   "outputs": [
    {
     "name": "stdout",
     "output_type": "stream",
     "text": [
      "'Green construction is all about using the resource efficiently and responsibly in the processes of construction to ensure lifetime sustainability of the house. The construction practices that are eco friendly, ensures the least harm on the environment while the construction takes place. Generally, the eco friendly building and construction is cost effective and at the same time durable. This type of construction ensures to lower the overall adverse impact on the environment and mankind. The mai\n"
     ]
    }
   ],
   "source": [
    "data_cleaned.loc[data_cleaned['domain'] == 'ecofriend', 'content'] = \\\n",
    "    data_cleaned[data_cleaned['domain'] == 'ecofriend']['content'].apply(clean_content_rechargenews)\n",
    "\n",
    "print(data_cleaned[data_cleaned[\"domain\"] == \"ecofriend\"][\"content\"].iloc[0][:500])"
   ]
  },
  {
   "cell_type": "code",
   "execution_count": 2738,
   "metadata": {},
   "outputs": [
    {
     "name": "stdout",
     "output_type": "stream",
     "text": [
      "'Statera's 50MW battery storage facility in Wiltshire enters commercial operations. Image: Santander UK. A 50MW battery energy storage facility being developed by Statera Energy has entered commercial operations in Malmesbury, Wiltshire. Dubbed Minety South Storage 2, the project received funding of around £86 million from Santander UK and NatWest. On top of this, the project received an additional £30 million from an accordion facility. The completion of Minety South Storage 2 takes Statera Ene\n"
     ]
    }
   ],
   "source": [
    "data_cleaned.loc[data_cleaned['domain'] == 'solarpowerportal.co', 'content'] = \\\n",
    "    data_cleaned[data_cleaned['domain'] == 'solarpowerportal.co']['content'].apply(clean_content_rechargenews)\n",
    "\n",
    "print(data_cleaned[data_cleaned[\"domain\"] == \"solarpowerportal.co\"][\"content\"].iloc[0][:500])"
   ]
  },
  {
   "cell_type": "code",
   "execution_count": 2739,
   "metadata": {},
   "outputs": [
    {
     "name": "stdout",
     "output_type": "stream",
     "text": [
      "'EUROSOLAR veranstaltet vom 16. bis 18. März 2021 seine 15. International Renewable Energy Storage Conference (IRES 2021) als globales Online Event. Wissenschaftlern aus der ganzen Welt wird so die Teilnahme ermöglicht. Die IRES Konferenz widmet sich neusten wissenschaftlichen Erkenntnissen zu Speichersystemen in der Welt der intelligenten und verteilten Energieressourcen der zentrale Fokus liegt nicht nur auf Speichertechnologien, sondern auch auf den entsprechenden rechtlichen, politischen, Ne\n"
     ]
    }
   ],
   "source": [
    "data_cleaned.loc[data_cleaned['domain'] == 'eurosolar', 'content'] = \\\n",
    "    data_cleaned[data_cleaned['domain'] == 'eurosolar']['content'].apply(clean_content_rechargenews)\n",
    "\n",
    "print(data_cleaned[data_cleaned[\"domain\"] == \"eurosolar\"][\"content\"].iloc[0][:500])"
   ]
  },
  {
   "cell_type": "code",
   "execution_count": 2740,
   "metadata": {},
   "outputs": [
    {
     "name": "stdout",
     "output_type": "stream",
     "text": [
      "'Product Details: Place of origin: Jiangxi, China Brand name: HLY Certification: CE/RoHS/UN38.3/MSDS/FCC/BIS Model Number: rechargeable Li Ion 18650 2600mAhPayment and Shipping T & C: Min order Product Details: Place of origin: Jiangxi, China Brand name: HLY Certification: CE/RoHS/UN38.3/MSDS/FCC/BIS Model Number: rechargeable Li Ion 26650 5000mAhPayment and Shipping T & C: Min order SUSTAINABLE AND COMMITTED TO THE FUTURE. The 17 Sustainable Development Goals (SDGs) are political targets set by the United Nations (UN) to ensure sustainable development worldwide at the economic, The CHARX connect mode 3 charging cables are suitable for AC charging of electric vehicles from all manufacturers. They achieve charging powers of up to 26 kW and are available with Type 1 and Type 2 WE LOVE INDIVIDUAL AND COMPLETE SOLUTIONS WITH ALTERNATIVE ENERGIES FOR SMART APPLICATIONS IN COMPANIES, PUBLIC FACILITIES AND PRIVATE BUILDINGS. WE ARE HAPPY TO HELP! For more than 40 years we have specialized in consulting, production, sales and service around battery systems and charging technologies. We cover the entire traction range around forklifts and 24 May 2022 | Flexible control of the Internet of things The innovative Commeo EMS energy management system combines hardware and software with a view to all the requirements of Industry 4.0. It analyses, IDEAL SUPPLEMENTED ALLWATT products & solutions are developed by a renowned team of engineers and scientists. We assure you of industry leading performance and standards. ALLWATT energy storage CONSISTENTLY ECONOMICAL ALLWATT products & solutions are developed by a renowned team of engineers and scientists. We assure you industry leading performance and standards. ALLWATT hybrid storage ALLWATT products & solutions are developed by a renowned team of engineers and scientists. We assure you of industry leading performance and standards. ALLWATT high performance storage systems\n"
     ]
    }
   ],
   "source": [
    "data_cleaned.loc[data_cleaned['domain'] == 'decarbxpo', 'content'] = \\\n",
    "    data_cleaned[data_cleaned['domain'] == 'decarbxpo']['content'].apply(clean_content_rechargenews)\n",
    "\n",
    "print(data_cleaned[data_cleaned[\"domain\"] == \"decarbxpo\"][\"content\"].iloc[0])"
   ]
  },
  {
   "cell_type": "code",
   "execution_count": 2741,
   "metadata": {},
   "outputs": [
    {
     "name": "stdout",
     "output_type": "stream",
     "text": [
      "'A groundbreaking achievement in solar energy research has been unveiled as scientists from the Fraunhofer Institute for Solar Energy Research ISE and NWO Institute AMOLF (Amsterdam) jointly created a multijunction solar cell with an unprecedented efficiency rate of 36.1%. This remarkable milestone marks the highest efficiency ever achieved for a solar cell based on silicon. The team presented their groundbreaking achievement at the European Photovoltaic Solar Energy Conference (EU PVSEC) held in Lisbon on September 21, 2023. The research project received funding through the Fraunhofer ICON program. Albert Polman, who spearheaded the AMOLF segment of the project, highlighted the unique collaboration between Fraunhofer ISE and AMOLF, which began in 2020. Fraunhofer ISE is renowned for its work on ultra high efficiency solar cells using silicon and III V semiconductors, while AMOLF has extensive expertise in optimizing light management within solar cells. This collaboration allowed them to achieve an efficiency record that was previously unimaginable. Frank Dimroth from Fraunhofer ISE emphasized that the breakthrough was a result of combining the best processes available from both teams. Their achievement overcame the fundamental limitation of photovoltaic energy conversion efficiency in silicon based solar cells, which was capped at 29.4%. This limitation was surpassed by creating a multijunction solar cell, which involves stacking multiple light absorbing layers to efficiently harness various parts of the sunlight's color spectrum. The record breaking solar cell combines a cutting edge silicon TOPCon solar cell with innovative high efficiency cell designs developed at Fraunhofer ISE. It also incorporates two semiconductor layers made of gallium indium phosphide (GaInP) and Gallium Indium Arsenide Phosphide (GaInAsP), both developed at Fraunhofer ISE. Additionally, a specially designed metal/polymer nanocoating crafted at AMOLF and Fraunhofer ISE enhances light trapping within the cell, pushing the efficiency beyond 36%. While these ultra high efficiency solar cells are currently more costly to manufacture than conventional silicon solar cells (which typically achieve up to 27% efficiency), their exceptional performance makes them highly attractive for applications where space is limited, such as solar powered electric cars, consumer products, and drones. Moreover, the novel light management design has broader applications, including silicon perovskite multijunction solar cells, promising a brighter future for renewable energy technologies.\n"
     ]
    }
   ],
   "source": [
    "data_cleaned.loc[data_cleaned['domain'] == 'solarquarter', 'content'] = \\\n",
    "    data_cleaned[data_cleaned['domain'] == 'solarquarter']['content'].apply(clean_content_rechargenews)\n",
    "\n",
    "print(data_cleaned[data_cleaned[\"domain\"] == \"solarquarter\"][\"content\"].iloc[0])"
   ]
  },
  {
   "cell_type": "code",
   "execution_count": 2745,
   "metadata": {},
   "outputs": [
    {
     "name": "stdout",
     "output_type": "stream",
     "text": [
      "'For our 13th Annual Event Indo Renergy 2023 Expo & Forum, we will be bringing together businesses, sustainable energy industry trade associations, government agencies, and energy policy research organizations to showcase the status and near term potential of the cross section of renewable energy (bio fuels/biomass, geothermal, solar, water, wind) and energy efficiency technologies. Renewable energy is energy that is collected from renewable resources, which are naturally replenished on a human timescale, such as sunlight, wind, rain, tides, waves, and geothermal heat. Renewable energy often provides energy in four important areas: electricity generation, air and water heating/cooling, transportation, and rural (off grid) energy services. Based on REN21's 2016 report, renewables contributed 19.2% to humans'global energy consumption and 23.7% to their generation of electricity in 2014 and 2015, respectively. This energy consumption is divided as 8.9% coming from traditional biomass, 4.2% as heat energy (modern biomass, geothermal and solar heat), 3.9% hydro electricity and 2.2% is electricity from wind, solar, geothermal, and biomass. Worldwide investments in renewable technologies amounted to more than US $ 286 billion in 2015, with countries like China and the United States heavily investing in wind, hydro, solar and biofuels. Globally, there are an estimated 7.7 million jobs associated with the renewable energy industries, with solar photovoltaics being the largest renewable employer. As of 2015 worldwide, more than half of all new electricity capacity installed was renewable. (Source: wikipedia.org) Renewable energy systems are rapidly becoming more efficient and cheaper. Their share of total energy consumption is increasing. Growth in consumption of coal and oil could end by 2020 due to increased uptake of renewables and natural gas. Indo Renergy 2023, co located with Indo Water, Indo Waste, Indonesia International Smart City, Indo Security, and Indo Firex Expo & Forum, is the region's leading event dedicated to the renewable and alternative energy industries. No where else gives you the opportunity to reach and meet 8,000 industry professionals in one place at the same time and network with key industry buyers and influences. Discover new ideas and solutions presented by 300 exhibitors from 30 countries across the world. Admission is free of charge. Seats are alocated on a first come first serve basis. Jl. Raya Kalimalang, Ruko Green Terrace Blok 9 FPondok Kelapa, Jakarta Timur 13450, Indonesia'\n"
     ]
    }
   ],
   "source": [
    "data_cleaned.loc[data_cleaned['domain'] == 'indorenergy', 'content'] = \\\n",
    "    data_cleaned[data_cleaned['domain'] == 'indorenergy']['content'].apply(clean_content_rechargenews)\n",
    "\n",
    "print(data_cleaned[data_cleaned[\"domain\"] == \"indorenergy\"][\"content\"].iloc[0])"
   ]
  },
  {
   "cell_type": "code",
   "execution_count": null,
   "metadata": {},
   "outputs": [],
   "source": []
  },
  {
   "attachments": {},
   "cell_type": "markdown",
   "metadata": {},
   "source": [
    "# Which preprocessing steps are actually necessary??????"
   ]
  },
  {
   "attachments": {},
   "cell_type": "markdown",
   "metadata": {},
   "source": [
    "### Remove copyright notices"
   ]
  },
  {
   "cell_type": "code",
   "execution_count": 272,
   "metadata": {},
   "outputs": [
    {
     "data": {
      "text/plain": [
       "\"['This is the first installment of a three-part series on community solar for low- and moderate-income costumers. The next piece will focus on how partnerships with community-based organizations can catalyze low- and moderate-income solar, while the third will explore the role local governments can play in accelerating solar adoption in those communities.', 'Residential clean energy projects are typically associated with affluent customers. Community solar, however, offers a pathway for low- and moderate-income customers to benefit from clean energy projects too.', 'Residential rooftop solar projects often only benefit the households who live under the array — but community solar projects can reach beyond the property where a project is located, impacting many more customers who otherwise might have a hard time accessing renewable power.', 'Here, we explain how community solar works and how it can deliver benefits for low- and moderate-income customers where projects are sited and beyond.', 'Community solar are solar projects where financial benefits flow to multiple customers within a specific area. The way customers participate in community solar often takes the form of a subscription. Customers voluntarily “ subscribe ” to a project — such as a solar array located in a nearby town that provides power to the local utility — and in turn, receive electricity bill credits based on their subscription. Community solar projects can be led by private businesses, by utilities, and in some cases, communities band together to develop projects themselves.', 'At its core, community solar amounts to a virtual accounting instrument. Unlike residential rooftop solar installations, community solar customers may never see the project they subscribe to or receive electrons generated from it. Community solar developers often outsource subscriber acquisition and subscription management to third-party servicers, so customers may not actually interface with the project owner. And community solar subscribers will not be able to legitimately claim they use solar power if they do not receive the Renewable Energy Certificates ( RECs), transactable commodities representing the renewable attributes associated with the community solar project’ s power generation. RECs from community solar projects are often sold to third parties to help finance the project, so subscribers do not retain the right to tout their use of solar power.', 'Community solar ( CS) can offer financial advantages and flexibility for customers that onsite renewable energy projects may not be readily able to achieve. These advantages of these projects can enable low- and moderate-income customers to participate in solar energy projects where rooftop solar would otherwise be out of reach.', 'The average residential CS subscription in the U.S. is approximately 3 kW in size, saving residential customers about 10% in electricity costs over the life of the subscription. Even these modest electricity bill savings from community solar subscriptions can go a long way for low- and moderate-income customers, who often face staggering energy bills compared to their income. U.S. households at or below twice the federal poverty level spend 3.5 times more of their income on energy costs ( 8.1%) compared to the median other households spend ( 2.3%).', 'Beyond the savings it can bring to low and moderate-income subscribers, community solar can also offer a broad array of services to under-resourced and frontline communities. These services include:', 'The cumulative installed capacity of U.S. community solar has grown dramatically in the last decade, more than doubling on average annually since 2010. At the end of 2021, there were at least 5,219 MW of installed CS capacity in the U.S., with active projects in 40 states and the District of Columbia. Approximately 1,813 MW of community-owned solar was deployed in the United States in 2021 alone, enough to power about 344,470 homes.', 'The size of community solar projects has increased over time too. The southern United States, a region not traditionally known for solar deployment, now boasts some of the largest community solar projects in the country.', 'And the market expansion shows no signs of halting. Although community solar currently represents less than 4% of all installed solar capacity in the United States, the energy market research consultancy Wood Mackenzie projects that the country will add 4.5 gigawatts of community solar capacity over the next five years. Last year, the U.S. Department of Energy announced a target of powering five million households with community solar by 2025, an increase in community solar deployment of more than 700% over the next four years.', 'The low- and moderate-income community solar market, in particular, promises massive growth. As of early 2021, the U.S. Department of Energy tallied at least 32.3 MW of low- and moderate-income community solar in operation with seven times that amount in the pipeline for development. In 2022, the renewable energy developer Invenergy and the investment firm Lafayette Square announced a joint venture called Reactivate focused on community solar development for under-resourced communities. Reactivate alone aims to develop 3,000 MW of solar capacity by 2030, serving up to 2.25 million homes.', 'While well-designed community solar programs can deliver important benefits to low- and moderate-income customers and the low- and moderate-income market is growing in the United States, it needs additional support to reach its market potential. According to the National Renewable Energy Laboratory ( NREL), low- and moderate-income households make up approximately 43% of all U.S. households, but only a tiny fraction are currently being served by community solar. Most of the CS capacity in the United States is served by “ anchor tenants, ” large subscribers that are often commercial entities rather than residential customers.', 'The disconnect between community solar’ s existing reach and its potential may partly be because most current CS offerings are not designed for low- and moderate-income customers. Some CS programs ask consumers to pay a premium for their subscriptions. These programs are designed for customers who can afford to sacrifice financially to support renewable energy, but they are typically out of reach for low- and moderate-income customers.', 'Even programs that provide customer savings may not be appropriate for low- and moderate-income customers if subscriptions come with sharp risks. For example, subscriptions that carry penalties or fees associated with contract termination will not be suitable for low- and moderate-income customers who rent and may need to relocate during the term of their subscription. Even small risks can outweigh the savings benefits for low- and moderate-income consumers, since they have less financial cushion to absorb any unexpected losses.', 'Many subscriptions ask for payment upfront. NREL calculates that about 46% of community solar projects employ upfront payment subscription models, while another 21% have subscriptions with combined upfront and monthly payments, which can make understanding and calculating the subscription value particularly challenging. Low- and moderate-income customers often simply do not have the means for an upfront financial investment, no matter the long-term savings these subscriptions may promise.', 'Without strong incentives and policy support, even well-meaning solar providers may be slow to market to low- and moderate-income customers. Acquisition costs are higher for subscribing low- and moderate-income customers than for their higher-income counterparts. There are several reasons for this, including:', 'To effectively reach low- and moderate-income customers, establishing a community solar program by itself is not enough. To enable meaningful low- and moderate-income customer participation, solar programs must include incentives and special outreach strategies.', 'Many states are catching on. Twenty-three states and Washington, D.C. now have community solar programs with low- and moderate-income customer-specific provisions.', 'These provisions generally either mandate or incentivize low-and moderate-income participation, such as setting minimum levels of low- and moderate-income subscribers on a project or program basis, or subsidizing subscriptions. States with low- and moderate-income solar mandates include Colorado, Connecticut, Hawaii, Maryland, Nevada and Oregon. States with low- and moderate-income solar incentives subsidize low- and moderate-income subscriptions. States with such incentives include California, Illinois, Massachusetts, New Hampshire and Rhode Island.', 'Even in places with established low- and moderate-income community solar programs, reaching those customers can be challenging. Community-based organizations can be instrumental partners for solar engagement. Take UPROSE, a multi-racial, women-led community organization in Brooklyn, New York, that has helped develop a cooperatively-owned CS project on the roof of the Brooklyn Army Terminal. The project promises to deliver bill savings to about 200 households in the neighborhood, where over 30% of residents live below the poverty line. UPROSE breathed life into the project through local meetings, door-to-door outreach, and disseminating informational materials in multiple languages.', 'Education and community outreach are especially important because community solar can be confusing. It involves complex ownership structures with multiple parties, and different subscription and payment configurations. The value proposition of subscriptions can vary dramatically across programs. Even the term “ community solar ” can be confusing because under many programs, a project does not need to be sited in the same community as those who subscribe to it. ( Many programs allow projects to be located anywhere within the same utility service territory as its subscribers.)', 'More than half of U.S. states have not enacted state policies to enable or establish community solar programs. In the absence of state-level enabling legislation, some utilities are launching community solar programs on their own. In Florida, Duke Energy and Florida Power & Light have both created utility-led community solar programs with provisions to ensure savings for participating low-income customers on an ongoing basis.', 'Supported by the Leon Lowenstein Foundation, WRI is working to expand utility-led community solar programs in targeted geographies to ensure they benefit low- and moderate-income customers. For example, in Kentucky, WRI advanced a partnership between electric utilities, Kentucky Habitat for Humanity and a philanthropic organization to pilot a solar subscription gifting program for low-income Kentuckians. Under the program, Kentucky Habitat for Humanity leverages philanthropic donations to purchase subscriptions on behalf of low-income customers, who receive credit on their electric utility bills associated with their subscriptions. The pilot has already lowered grid emissions and reduced the electricity bills of participating low-income households by an average of $ 27.94 a month and will continue to do so over the decades-long life of the project.', 'Community solar offers tremendous promise for providing low- and moderate-income customers with much-needed electricity bill savings, but reaching these customers will require focused policy support, deliberate program design and engagement. States, cities, utilities, community organizations, nonprofits, solar developers and financial institutions all have roles to play to ensure that solar benefits low- and moderate-income customers. After all, many hands make light work.', 'Originally published on WRI’ s Resource Institute. By Nate Hausman', 'WRI is a global research organization that spans more than 50 countries, with offices in Brazil, China, Europe, India, Indonesia, and the United States. Our more than 450 experts and staff work closely with leaders to turn big ideas into action to sustain our natural resources—the foundation of economic opportunity and human well-being. Find out more at www.wri.org', 'Advertise with CleanTechnica to get your company in front of millions of monthly readers.', 'Wind, solar, and battery storage are growing as a share of new electric-generating capacity each year. In 2023, these three technologies account for 82%...', 'According to the latest Rethink Energy report, “ global solar installations are on track for 222 GW of installations during 2022, and manufacturing output shows...', 'Developers and power plant owners plan to significantly increase utility-scale battery storage capacity in the United States over the next three years, reaching 30.0...', '']\""
      ]
     },
     "execution_count": 272,
     "metadata": {},
     "output_type": "execute_result"
    }
   ],
   "source": [
    "# Step 2: Remove copyright notices \n",
    "\n",
    "data_cleaned['content'] = data_cleaned['content'].apply(\n",
    "    lambda text: re.sub(r'©.*?All rights reserved\\.?', '', text, flags=re.IGNORECASE))\n",
    "\n",
    "# if domain is cleantechnica, remove the following text\n",
    "copyright_text_cleantechnica = 'Copyright © 2023 CleanTechnica. The content produced by this site is for entertainment purposes only. Opinions and comments published on this site may not be sanctioned by and do not necessarily represent the views of CleanTechnica, its owners, sponsors, affiliates, or subsidiaries.'\n",
    "data_cleaned['content'] = data_cleaned.apply(\n",
    "    lambda row: re.sub(re.escape(copyright_text_cleantechnica), '', row['content'], flags=re.IGNORECASE) if row['domain'] == 'cleantechnica' else row['content'], axis=1)\n",
    "\n",
    "data_cleaned['content'][1281]"
   ]
  },
  {
   "attachments": {},
   "cell_type": "markdown",
   "metadata": {},
   "source": [
    "### Remove Irrelevant Content"
   ]
  },
  {
   "attachments": {},
   "cell_type": "markdown",
   "metadata": {},
   "source": [
    "- Sentences like `\"By clicking `` Allow All \\'\\' you agree to the storing of cookies on your device to enhance site navigation, analyse site usage and support us in providing free open access scientific content. More info.\"` should be removed as they are not relevant to the content of the article.\n",
    "\n",
    "    -> found in 1627 rows totally\n",
    "\n",
    "- Copyright notices like `'© Copyright Zackin Publications Inc. All Rights Reserved.'` should be removed as they are not relevant to the content of the article.\n",
    "\n",
    "    -> found in 672 rows totally"
   ]
  },
  {
   "attachments": {},
   "cell_type": "markdown",
   "metadata": {},
   "source": [
    "### Tokenization"
   ]
  },
  {
   "attachments": {},
   "cell_type": "markdown",
   "metadata": {},
   "source": [
    "Tokenization is the process of breaking text down into individual units, typically words or tokens. This step is essential for most text preprocessing tasks as it allows us to manipulate and analyze the content at the word level. By splitting the content into tokens, we can more easily apply further processing techniques like stemming and lemmatization."
   ]
  },
  {
   "cell_type": "code",
   "execution_count": 14,
   "metadata": {},
   "outputs": [],
   "source": [
    "def tokenize(text):\n",
    "    return text.split()\n",
    "\n",
    "data['content_tokenized'] = data['content_cleaned'].apply(tokenize)"
   ]
  },
  {
   "attachments": {},
   "cell_type": "markdown",
   "metadata": {},
   "source": [
    "### Result"
   ]
  },
  {
   "cell_type": "markdown",
   "metadata": {},
   "source": []
  },
  {
   "attachments": {},
   "cell_type": "markdown",
   "metadata": {},
   "source": [
    "### Save Processed Data"
   ]
  },
  {
   "cell_type": "code",
   "execution_count": 22,
   "metadata": {},
   "outputs": [],
   "source": [
    "data.to_csv('../data/processed/cleantech_processed.csv', index=False)"
   ]
  },
  {
   "attachments": {},
   "cell_type": "markdown",
   "metadata": {},
   "source": [
    "### Next steps"
   ]
  },
  {
   "attachments": {},
   "cell_type": "markdown",
   "metadata": {},
   "source": [
    "- Text Analysis / NLP Task Preparation\n",
    "- Sentiment Analysis\n",
    "- Text Summarization\n",
    "- Save the cleaned data\n",
    "- Exploratory Data Analysis (EDA)\n",
    "\n",
    "\n",
    "the next steps could include limiting the vocabulary "
   ]
  }
 ],
 "metadata": {
  "kernelspec": {
   "display_name": "base",
   "language": "python",
   "name": "python3"
  },
  "language_info": {
   "codemirror_mode": {
    "name": "ipython",
    "version": 3
   },
   "file_extension": ".py",
   "mimetype": "text/x-python",
   "name": "python",
   "nbconvert_exporter": "python",
   "pygments_lexer": "ipython3",
   "version": "3.11.5"
  },
  "orig_nbformat": 4,
  "vscode": {
   "interpreter": {
    "hash": "cd9c78cbb62892232a2e8cf9a4bd699d988202e949c50bb9be5232199c394801"
   }
  }
 },
 "nbformat": 4,
 "nbformat_minor": 2
}
