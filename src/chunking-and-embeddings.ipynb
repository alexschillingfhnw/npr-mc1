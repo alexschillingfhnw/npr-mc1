{
 "cells": [
  {
   "attachments": {},
   "cell_type": "markdown",
   "metadata": {},
   "source": [
    "# Chunking & Embeddings"
   ]
  },
  {
   "attachments": {},
   "cell_type": "markdown",
   "metadata": {},
   "source": [
    "In this notebook, we will create chunking strategies and use two different embedding models to vectorize the chunks. We will use the following chunking strategies:\n",
    "- 1000 chunk size with 100 overlap\n",
    "- 500 chunk size with 50 overlap\n",
    "- 2500 chunk size with 300 overlap\n",
    "\n",
    "We will use the following models:\n",
    "- `text-embedding-ada-002`\n",
    "- `text-embedding-3-large`\n",
    "\n",
    "These created embeddings will be saved as a pickle file for further use."
   ]
  },
  {
   "attachments": {},
   "cell_type": "markdown",
   "metadata": {},
   "source": [
    "## Imports and Setup"
   ]
  },
  {
   "cell_type": "code",
   "execution_count": 82,
   "metadata": {},
   "outputs": [],
   "source": [
    "import pandas as pd\n",
    "import time\n",
    "import os\n",
    "\n",
    "from langchain.text_splitter import RecursiveCharacterTextSplitter\n",
    "from sentence_transformers import SentenceTransformer\n",
    "from openai import AzureOpenAI\n",
    "import openai\n",
    "\n",
    "import credentials\n",
    "\n",
    "from concurrent.futures import ThreadPoolExecutor, as_completed\n",
    "from tqdm import tqdm\n",
    "import math"
   ]
  },
  {
   "cell_type": "code",
   "execution_count": 83,
   "metadata": {},
   "outputs": [],
   "source": [
    "client = AzureOpenAI(\n",
    "    api_key=os.getenv(\"AZURE_OPENAI_API_KEY\"),  \n",
    "    api_version=\"2023-12-01-preview\",\n",
    "    azure_endpoint = os.getenv(\"AZURE_OPENAI_ENDPOINT\")\n",
    "    )"
   ]
  },
  {
   "attachments": {},
   "cell_type": "markdown",
   "metadata": {},
   "source": [
    "## Data Preparation and Chunking"
   ]
  },
  {
   "attachments": {},
   "cell_type": "markdown",
   "metadata": {},
   "source": [
    "Here we load the preprocessed data and chunk the texts with the defined parameters."
   ]
  },
  {
   "cell_type": "code",
   "execution_count": 84,
   "metadata": {},
   "outputs": [
    {
     "data": {
      "text/html": [
       "<div>\n",
       "<style scoped>\n",
       "    .dataframe tbody tr th:only-of-type {\n",
       "        vertical-align: middle;\n",
       "    }\n",
       "\n",
       "    .dataframe tbody tr th {\n",
       "        vertical-align: top;\n",
       "    }\n",
       "\n",
       "    .dataframe thead th {\n",
       "        text-align: right;\n",
       "    }\n",
       "</style>\n",
       "<table border=\"1\" class=\"dataframe\">\n",
       "  <thead>\n",
       "    <tr style=\"text-align: right;\">\n",
       "      <th></th>\n",
       "      <th>title</th>\n",
       "      <th>date</th>\n",
       "      <th>content</th>\n",
       "      <th>domain</th>\n",
       "      <th>url</th>\n",
       "    </tr>\n",
       "  </thead>\n",
       "  <tbody>\n",
       "    <tr>\n",
       "      <th>0</th>\n",
       "      <td>Qatar to Slash Emissions as LNG Expansion Adva...</td>\n",
       "      <td>2021-01-13</td>\n",
       "      <td>Qatar Petroleum (QP) is targeting aggressive c...</td>\n",
       "      <td>energyintel</td>\n",
       "      <td>https://www.energyintel.com/0000017b-a7dc-de4c...</td>\n",
       "    </tr>\n",
       "    <tr>\n",
       "      <th>1</th>\n",
       "      <td>India Launches Its First 700 MW PHWR</td>\n",
       "      <td>2021-01-15</td>\n",
       "      <td>Nuclear Power Corp of India Ltd (NPCIL) synchr...</td>\n",
       "      <td>energyintel</td>\n",
       "      <td>https://www.energyintel.com/0000017b-a7dc-de4c...</td>\n",
       "    </tr>\n",
       "    <tr>\n",
       "      <th>2</th>\n",
       "      <td>New Chapter for US-China Energy Trade</td>\n",
       "      <td>2021-01-20</td>\n",
       "      <td>New US President Joe Biden took office this we...</td>\n",
       "      <td>energyintel</td>\n",
       "      <td>https://www.energyintel.com/0000017b-a7dc-de4c...</td>\n",
       "    </tr>\n",
       "    <tr>\n",
       "      <th>3</th>\n",
       "      <td>Japan: Slow Restarts Cast Doubt on 2030 Energy...</td>\n",
       "      <td>2021-01-22</td>\n",
       "      <td>The slow pace of Japanese reactor restarts con...</td>\n",
       "      <td>energyintel</td>\n",
       "      <td>https://www.energyintel.com/0000017b-a7dc-de4c...</td>\n",
       "    </tr>\n",
       "    <tr>\n",
       "      <th>4</th>\n",
       "      <td>NYC Pension Funds to Divest Fossil Fuel Shares</td>\n",
       "      <td>2021-01-25</td>\n",
       "      <td>Two of New York City's largest pension funds s...</td>\n",
       "      <td>energyintel</td>\n",
       "      <td>https://www.energyintel.com/0000017b-a7dc-de4c...</td>\n",
       "    </tr>\n",
       "  </tbody>\n",
       "</table>\n",
       "</div>"
      ],
      "text/plain": [
       "                                               title        date  \\\n",
       "0  Qatar to Slash Emissions as LNG Expansion Adva...  2021-01-13   \n",
       "1               India Launches Its First 700 MW PHWR  2021-01-15   \n",
       "2              New Chapter for US-China Energy Trade  2021-01-20   \n",
       "3  Japan: Slow Restarts Cast Doubt on 2030 Energy...  2021-01-22   \n",
       "4     NYC Pension Funds to Divest Fossil Fuel Shares  2021-01-25   \n",
       "\n",
       "                                             content       domain  \\\n",
       "0  Qatar Petroleum (QP) is targeting aggressive c...  energyintel   \n",
       "1  Nuclear Power Corp of India Ltd (NPCIL) synchr...  energyintel   \n",
       "2  New US President Joe Biden took office this we...  energyintel   \n",
       "3  The slow pace of Japanese reactor restarts con...  energyintel   \n",
       "4  Two of New York City's largest pension funds s...  energyintel   \n",
       "\n",
       "                                                 url  \n",
       "0  https://www.energyintel.com/0000017b-a7dc-de4c...  \n",
       "1  https://www.energyintel.com/0000017b-a7dc-de4c...  \n",
       "2  https://www.energyintel.com/0000017b-a7dc-de4c...  \n",
       "3  https://www.energyintel.com/0000017b-a7dc-de4c...  \n",
       "4  https://www.energyintel.com/0000017b-a7dc-de4c...  "
      ]
     },
     "execution_count": 84,
     "metadata": {},
     "output_type": "execute_result"
    }
   ],
   "source": [
    "data = pd.read_csv('../data/processed/cleantech_processed.csv')\n",
    "data.head()\n",
    "\n",
    "print(\"Number of articles in the dataset: \", len(data))"
   ]
  },
  {
   "cell_type": "code",
   "execution_count": 86,
   "metadata": {},
   "outputs": [],
   "source": [
    "CHUNK_SIZE = 2500\n",
    "CHUNK_OVERLAP = 300\n",
    "EMBEDDING_MODEL = \"text-embedding-3-large\""
   ]
  },
  {
   "cell_type": "code",
   "execution_count": 87,
   "metadata": {},
   "outputs": [
    {
     "data": {
      "text/html": [
       "<div>\n",
       "<style scoped>\n",
       "    .dataframe tbody tr th:only-of-type {\n",
       "        vertical-align: middle;\n",
       "    }\n",
       "\n",
       "    .dataframe tbody tr th {\n",
       "        vertical-align: top;\n",
       "    }\n",
       "\n",
       "    .dataframe thead th {\n",
       "        text-align: right;\n",
       "    }\n",
       "</style>\n",
       "<table border=\"1\" class=\"dataframe\">\n",
       "  <thead>\n",
       "    <tr style=\"text-align: right;\">\n",
       "      <th></th>\n",
       "      <th>title</th>\n",
       "      <th>date</th>\n",
       "      <th>content</th>\n",
       "      <th>domain</th>\n",
       "      <th>url</th>\n",
       "      <th>content_chunks</th>\n",
       "    </tr>\n",
       "  </thead>\n",
       "  <tbody>\n",
       "    <tr>\n",
       "      <th>0</th>\n",
       "      <td>Qatar to Slash Emissions as LNG Expansion Adva...</td>\n",
       "      <td>2021-01-13</td>\n",
       "      <td>Qatar Petroleum (QP) is targeting aggressive c...</td>\n",
       "      <td>energyintel</td>\n",
       "      <td>https://www.energyintel.com/0000017b-a7dc-de4c...</td>\n",
       "      <td>Qatar Petroleum (QP) is targeting aggressive c...</td>\n",
       "    </tr>\n",
       "    <tr>\n",
       "      <th>1</th>\n",
       "      <td>Qatar to Slash Emissions as LNG Expansion Adva...</td>\n",
       "      <td>2021-01-13</td>\n",
       "      <td>Qatar Petroleum (QP) is targeting aggressive c...</td>\n",
       "      <td>energyintel</td>\n",
       "      <td>https://www.energyintel.com/0000017b-a7dc-de4c...</td>\n",
       "      <td>in the Phase 1 trains. Exxon Mobil, Royal Dutc...</td>\n",
       "    </tr>\n",
       "    <tr>\n",
       "      <th>2</th>\n",
       "      <td>India Launches Its First 700 MW PHWR</td>\n",
       "      <td>2021-01-15</td>\n",
       "      <td>Nuclear Power Corp of India Ltd (NPCIL) synchr...</td>\n",
       "      <td>energyintel</td>\n",
       "      <td>https://www.energyintel.com/0000017b-a7dc-de4c...</td>\n",
       "      <td>Nuclear Power Corp of India Ltd (NPCIL) synchr...</td>\n",
       "    </tr>\n",
       "    <tr>\n",
       "      <th>3</th>\n",
       "      <td>India Launches Its First 700 MW PHWR</td>\n",
       "      <td>2021-01-15</td>\n",
       "      <td>Nuclear Power Corp of India Ltd (NPCIL) synchr...</td>\n",
       "      <td>energyintel</td>\n",
       "      <td>https://www.energyintel.com/0000017b-a7dc-de4c...</td>\n",
       "      <td>dropped out of the project and another two off...</td>\n",
       "    </tr>\n",
       "    <tr>\n",
       "      <th>4</th>\n",
       "      <td>New Chapter for US-China Energy Trade</td>\n",
       "      <td>2021-01-20</td>\n",
       "      <td>New US President Joe Biden took office this we...</td>\n",
       "      <td>energyintel</td>\n",
       "      <td>https://www.energyintel.com/0000017b-a7dc-de4c...</td>\n",
       "      <td>New US President Joe Biden took office this we...</td>\n",
       "    </tr>\n",
       "  </tbody>\n",
       "</table>\n",
       "</div>"
      ],
      "text/plain": [
       "                                               title        date  \\\n",
       "0  Qatar to Slash Emissions as LNG Expansion Adva...  2021-01-13   \n",
       "1  Qatar to Slash Emissions as LNG Expansion Adva...  2021-01-13   \n",
       "2               India Launches Its First 700 MW PHWR  2021-01-15   \n",
       "3               India Launches Its First 700 MW PHWR  2021-01-15   \n",
       "4              New Chapter for US-China Energy Trade  2021-01-20   \n",
       "\n",
       "                                             content       domain  \\\n",
       "0  Qatar Petroleum (QP) is targeting aggressive c...  energyintel   \n",
       "1  Qatar Petroleum (QP) is targeting aggressive c...  energyintel   \n",
       "2  Nuclear Power Corp of India Ltd (NPCIL) synchr...  energyintel   \n",
       "3  Nuclear Power Corp of India Ltd (NPCIL) synchr...  energyintel   \n",
       "4  New US President Joe Biden took office this we...  energyintel   \n",
       "\n",
       "                                                 url  \\\n",
       "0  https://www.energyintel.com/0000017b-a7dc-de4c...   \n",
       "1  https://www.energyintel.com/0000017b-a7dc-de4c...   \n",
       "2  https://www.energyintel.com/0000017b-a7dc-de4c...   \n",
       "3  https://www.energyintel.com/0000017b-a7dc-de4c...   \n",
       "4  https://www.energyintel.com/0000017b-a7dc-de4c...   \n",
       "\n",
       "                                      content_chunks  \n",
       "0  Qatar Petroleum (QP) is targeting aggressive c...  \n",
       "1  in the Phase 1 trains. Exxon Mobil, Royal Dutc...  \n",
       "2  Nuclear Power Corp of India Ltd (NPCIL) synchr...  \n",
       "3  dropped out of the project and another two off...  \n",
       "4  New US President Joe Biden took office this we...  "
      ]
     },
     "execution_count": 87,
     "metadata": {},
     "output_type": "execute_result"
    }
   ],
   "source": [
    "def chunk_text(dataframe, text_column, chunk_size=1000, chunk_overlap=100):\n",
    "    # Initialize RecursiveCharacterTextSplitter with dynamic parameters\n",
    "    text_splitter = RecursiveCharacterTextSplitter(\n",
    "        chunk_size=chunk_size,\n",
    "        chunk_overlap=chunk_overlap\n",
    "    )\n",
    "    # Split text in the specified column\n",
    "    dataframe['content_chunks'] = dataframe[text_column].apply(lambda text: text_splitter.split_text(text))\n",
    "    \n",
    "    # Flatten the DataFrame for individual chunk rows\n",
    "    chunked_df = dataframe.explode('content_chunks').reset_index(drop=True)\n",
    "\n",
    "    return chunked_df\n",
    "\n",
    "chunked_data = chunk_text(data, text_column='content', chunk_size=CHUNK_SIZE, chunk_overlap=CHUNK_OVERLAP)\n",
    "chunked_data.head()"
   ]
  },
  {
   "cell_type": "code",
   "execution_count": 88,
   "metadata": {},
   "outputs": [
    {
     "data": {
      "text/plain": [
       "21632"
      ]
     },
     "execution_count": 88,
     "metadata": {},
     "output_type": "execute_result"
    }
   ],
   "source": [
    "len(chunked_data)"
   ]
  },
  {
   "attachments": {},
   "cell_type": "markdown",
   "metadata": {},
   "source": [
    "Now that we have chunked the texts into smaller segments, the next step is to pass these chunks through an embedding model to obtain their vector representations. The embedding model maps the textual information into high-dimensional vector spaces, where semantic similarities and relationships are preserved."
   ]
  },
  {
   "attachments": {},
   "cell_type": "markdown",
   "metadata": {},
   "source": [
    "## Embedding Creation"
   ]
  },
  {
   "attachments": {},
   "cell_type": "markdown",
   "metadata": {},
   "source": [
    "This code below generates embeddings for the text data in batches while handling rate-limiting errors. It splits the input data into manageable batches, each of size `BATCH_SIZE` and processes them concurrently using `ThreadPoolExecutor` with up to `MAX_WORKERS` threads. The `embed_batch` function sends each batch to the embedding model, implements retry logic to handle rate-limiting errors by waiting and retrying up to three times and collects the embeddings. The `embed_in_batches` function coordinates this process, maps batches to threads, and aggregates the results into a single list, ensuring each text chunk receives its embedding. The entire pipeline is designed for scalability and robustness against API limits."
   ]
  },
  {
   "cell_type": "code",
   "execution_count": 89,
   "metadata": {},
   "outputs": [
    {
     "name": "stderr",
     "output_type": "stream",
     "text": [
      "Embedding in Parallel:   0%|          | 0/433 [00:00<?, ?it/s]"
     ]
    },
    {
     "name": "stdout",
     "output_type": "stream",
     "text": [
      "Rate limit exceeded. Retrying in 60 seconds...\n",
      "Rate limit exceeded. Retrying in 60 seconds...\n",
      "Rate limit exceeded. Retrying in 60 seconds...\n",
      "Rate limit exceeded. Retrying in 60 seconds...\n",
      "Rate limit exceeded. Retrying in 60 seconds...\n",
      "Rate limit exceeded. Retrying in 60 seconds...\n",
      "Rate limit exceeded. Retrying in 60 seconds...\n",
      "Rate limit exceeded. Retrying in 60 seconds...\n"
     ]
    },
    {
     "name": "stderr",
     "output_type": "stream",
     "text": [
      "Embedding in Parallel:   2%|▏         | 9/433 [03:45<2:29:30, 21.16s/it]  "
     ]
    },
    {
     "name": "stdout",
     "output_type": "stream",
     "text": [
      "Rate limit exceeded. Retrying in 60 seconds...\n",
      "Rate limit exceeded. Retrying in 60 seconds...\n",
      "Rate limit exceeded. Retrying in 60 seconds...\n",
      "Rate limit exceeded. Retrying in 60 seconds...\n",
      "Rate limit exceeded. Retrying in 60 seconds...\n",
      "Rate limit exceeded. Retrying in 60 seconds...\n"
     ]
    },
    {
     "name": "stderr",
     "output_type": "stream",
     "text": [
      "Embedding in Parallel:   3%|▎         | 14/433 [06:03<2:28:39, 21.29s/it]"
     ]
    },
    {
     "name": "stdout",
     "output_type": "stream",
     "text": [
      "Rate limit exceeded. Retrying in 60 seconds...\n",
      "Rate limit exceeded. Retrying in 60 seconds...\n"
     ]
    },
    {
     "name": "stderr",
     "output_type": "stream",
     "text": [
      "Embedding in Parallel:   4%|▎         | 16/433 [06:46<2:48:05, 24.19s/it]"
     ]
    },
    {
     "name": "stdout",
     "output_type": "stream",
     "text": [
      "Rate limit exceeded. Retrying in 60 seconds...\n"
     ]
    },
    {
     "name": "stderr",
     "output_type": "stream",
     "text": [
      "Embedding in Parallel:   5%|▍         | 21/433 [07:47<2:01:01, 17.62s/it]"
     ]
    },
    {
     "name": "stdout",
     "output_type": "stream",
     "text": [
      "Rate limit exceeded. Retrying in 60 seconds...\n",
      "Rate limit exceeded. Retrying in 60 seconds...\n",
      "Rate limit exceeded. Retrying in 60 seconds...\n",
      "Rate limit exceeded. Retrying in 60 seconds...\n"
     ]
    },
    {
     "name": "stderr",
     "output_type": "stream",
     "text": [
      "Embedding in Parallel:   5%|▌         | 23/433 [08:48<2:21:40, 20.73s/it]"
     ]
    },
    {
     "name": "stdout",
     "output_type": "stream",
     "text": [
      "Rate limit exceeded. Retrying in 60 seconds...\n",
      "Rate limit exceeded. Retrying in 60 seconds...\n"
     ]
    },
    {
     "name": "stderr",
     "output_type": "stream",
     "text": [
      "Embedding in Parallel:   6%|▌         | 24/433 [09:51<3:03:11, 26.88s/it]"
     ]
    },
    {
     "name": "stdout",
     "output_type": "stream",
     "text": [
      "Rate limit exceeded. Retrying in 60 seconds...\n",
      "Rate limit exceeded. Retrying in 60 seconds...\n",
      "Rate limit exceeded. Retrying in 60 seconds...\n",
      "Rate limit exceeded. Retrying in 60 seconds...\n",
      "Rate limit exceeded. Retrying in 60 seconds...\n",
      "Rate limit exceeded. Retrying in 60 seconds...\n"
     ]
    },
    {
     "name": "stderr",
     "output_type": "stream",
     "text": [
      "Embedding in Parallel:   6%|▌         | 25/433 [11:49<4:48:29, 42.43s/it]"
     ]
    },
    {
     "name": "stdout",
     "output_type": "stream",
     "text": [
      "Rate limit exceeded. Retrying in 60 seconds...\n"
     ]
    },
    {
     "name": "stderr",
     "output_type": "stream",
     "text": [
      "Embedding in Parallel:   6%|▌         | 26/433 [12:49<5:11:28, 45.92s/it]"
     ]
    },
    {
     "name": "stdout",
     "output_type": "stream",
     "text": [
      "Rate limit exceeded. Retrying in 60 seconds...\n",
      "Rate limit exceeded. Retrying in 60 seconds...\n",
      "Rate limit exceeded. Retrying in 60 seconds...\n"
     ]
    },
    {
     "name": "stderr",
     "output_type": "stream",
     "text": [
      "Embedding in Parallel:   6%|▋         | 28/433 [13:49<4:40:38, 41.58s/it]"
     ]
    },
    {
     "name": "stdout",
     "output_type": "stream",
     "text": [
      "Failed to embed after multiple attempts.\n",
      "Rate limit exceeded. Retrying in 60 seconds...\n"
     ]
    },
    {
     "name": "stderr",
     "output_type": "stream",
     "text": [
      "Embedding in Parallel:   7%|▋         | 29/433 [13:49<3:29:19, 31.09s/it]"
     ]
    },
    {
     "name": "stdout",
     "output_type": "stream",
     "text": [
      "Rate limit exceeded. Retrying in 60 seconds...\n"
     ]
    },
    {
     "name": "stderr",
     "output_type": "stream",
     "text": [
      "Embedding in Parallel:   7%|▋         | 31/433 [14:50<3:26:07, 30.77s/it]"
     ]
    },
    {
     "name": "stdout",
     "output_type": "stream",
     "text": [
      "Rate limit exceeded. Retrying in 60 seconds...\n",
      "Rate limit exceeded. Retrying in 60 seconds...\n",
      "Rate limit exceeded. Retrying in 60 seconds...\n"
     ]
    },
    {
     "name": "stderr",
     "output_type": "stream",
     "text": [
      "Embedding in Parallel:   8%|▊         | 34/433 [15:50<2:40:20, 24.11s/it]"
     ]
    },
    {
     "name": "stdout",
     "output_type": "stream",
     "text": [
      "Rate limit exceeded. Retrying in 60 seconds...\n",
      "Rate limit exceeded. Retrying in 60 seconds...\n",
      "Rate limit exceeded. Retrying in 60 seconds...\n"
     ]
    },
    {
     "name": "stderr",
     "output_type": "stream",
     "text": [
      "Embedding in Parallel:   9%|▊         | 37/433 [17:04<2:09:15, 19.58s/it]"
     ]
    },
    {
     "name": "stdout",
     "output_type": "stream",
     "text": [
      "Rate limit exceeded. Retrying in 60 seconds...\n"
     ]
    },
    {
     "name": "stderr",
     "output_type": "stream",
     "text": [
      "Embedding in Parallel:   9%|▉         | 40/433 [18:04<1:54:59, 17.56s/it]"
     ]
    },
    {
     "name": "stdout",
     "output_type": "stream",
     "text": [
      "Rate limit exceeded. Retrying in 60 seconds...\n",
      "Rate limit exceeded. Retrying in 60 seconds...\n"
     ]
    },
    {
     "name": "stderr",
     "output_type": "stream",
     "text": [
      "Embedding in Parallel:  10%|▉         | 42/433 [18:52<2:24:05, 22.11s/it]"
     ]
    },
    {
     "name": "stdout",
     "output_type": "stream",
     "text": [
      "Rate limit exceeded. Retrying in 60 seconds...\n"
     ]
    },
    {
     "name": "stderr",
     "output_type": "stream",
     "text": [
      "Embedding in Parallel:  10%|█         | 44/433 [19:53<2:41:25, 24.90s/it]"
     ]
    },
    {
     "name": "stdout",
     "output_type": "stream",
     "text": [
      "Rate limit exceeded. Retrying in 60 seconds...\n"
     ]
    },
    {
     "name": "stderr",
     "output_type": "stream",
     "text": [
      "Embedding in Parallel:  15%|█▍        | 63/433 [23:14<1:02:56, 10.21s/it]"
     ]
    },
    {
     "name": "stdout",
     "output_type": "stream",
     "text": [
      "Rate limit exceeded. Retrying in 60 seconds...\n",
      "Rate limit exceeded. Retrying in 60 seconds...\n",
      "Rate limit exceeded. Retrying in 60 seconds...\n"
     ]
    },
    {
     "name": "stderr",
     "output_type": "stream",
     "text": [
      "Embedding in Parallel:  15%|█▍        | 64/433 [23:57<1:52:16, 18.26s/it]"
     ]
    },
    {
     "name": "stdout",
     "output_type": "stream",
     "text": [
      "Rate limit exceeded. Retrying in 60 seconds...\n",
      "Rate limit exceeded. Retrying in 60 seconds...\n"
     ]
    },
    {
     "name": "stderr",
     "output_type": "stream",
     "text": [
      "Embedding in Parallel:  16%|█▌        | 69/433 [25:58<2:10:03, 21.44s/it]"
     ]
    },
    {
     "name": "stdout",
     "output_type": "stream",
     "text": [
      "Rate limit exceeded. Retrying in 60 seconds...\n",
      "Rate limit exceeded. Retrying in 60 seconds...\n"
     ]
    },
    {
     "name": "stderr",
     "output_type": "stream",
     "text": [
      "Embedding in Parallel:  22%|██▏       | 96/433 [31:14<50:15,  8.95s/it]  "
     ]
    },
    {
     "name": "stdout",
     "output_type": "stream",
     "text": [
      "Rate limit exceeded. Retrying in 60 seconds...\n"
     ]
    },
    {
     "name": "stderr",
     "output_type": "stream",
     "text": [
      "Embedding in Parallel:  24%|██▍       | 105/433 [33:24<55:19, 10.12s/it]  "
     ]
    },
    {
     "name": "stdout",
     "output_type": "stream",
     "text": [
      "Rate limit exceeded. Retrying in 60 seconds...\n"
     ]
    },
    {
     "name": "stderr",
     "output_type": "stream",
     "text": [
      "Embedding in Parallel:  25%|██▍       | 108/433 [34:24<1:08:00, 12.56s/it]"
     ]
    },
    {
     "name": "stdout",
     "output_type": "stream",
     "text": [
      "Rate limit exceeded. Retrying in 60 seconds...\n"
     ]
    },
    {
     "name": "stderr",
     "output_type": "stream",
     "text": [
      "Embedding in Parallel:  25%|██▌       | 110/433 [35:05<1:37:50, 18.18s/it]"
     ]
    },
    {
     "name": "stdout",
     "output_type": "stream",
     "text": [
      "Rate limit exceeded. Retrying in 60 seconds...\n",
      "Rate limit exceeded. Retrying in 60 seconds...\n"
     ]
    },
    {
     "name": "stderr",
     "output_type": "stream",
     "text": [
      "Embedding in Parallel:  27%|██▋       | 115/433 [36:24<1:12:42, 13.72s/it]"
     ]
    },
    {
     "name": "stdout",
     "output_type": "stream",
     "text": [
      "Rate limit exceeded. Retrying in 60 seconds...\n",
      "Rate limit exceeded. Retrying in 60 seconds...\n",
      "Rate limit exceeded. Retrying in 60 seconds...\n"
     ]
    },
    {
     "name": "stderr",
     "output_type": "stream",
     "text": [
      "Embedding in Parallel:  27%|██▋       | 116/433 [37:06<1:53:13, 21.43s/it]"
     ]
    },
    {
     "name": "stdout",
     "output_type": "stream",
     "text": [
      "Rate limit exceeded. Retrying in 60 seconds...\n",
      "Rate limit exceeded. Retrying in 60 seconds...\n",
      "Rate limit exceeded. Retrying in 60 seconds...\n"
     ]
    },
    {
     "name": "stderr",
     "output_type": "stream",
     "text": [
      "Embedding in Parallel:  27%|██▋       | 117/433 [38:07<2:32:27, 28.95s/it]"
     ]
    },
    {
     "name": "stdout",
     "output_type": "stream",
     "text": [
      "Rate limit exceeded. Retrying in 60 seconds...\n"
     ]
    },
    {
     "name": "stderr",
     "output_type": "stream",
     "text": [
      "Embedding in Parallel:  27%|██▋       | 118/433 [39:07<3:07:08, 35.64s/it]"
     ]
    },
    {
     "name": "stdout",
     "output_type": "stream",
     "text": [
      "Rate limit exceeded. Retrying in 60 seconds...\n",
      "Rate limit exceeded. Retrying in 60 seconds...\n"
     ]
    },
    {
     "name": "stderr",
     "output_type": "stream",
     "text": [
      "Embedding in Parallel:  29%|██▉       | 126/433 [42:10<2:00:15, 23.50s/it]"
     ]
    },
    {
     "name": "stdout",
     "output_type": "stream",
     "text": [
      "Rate limit exceeded. Retrying in 60 seconds...\n"
     ]
    },
    {
     "name": "stderr",
     "output_type": "stream",
     "text": [
      "Embedding in Parallel:  31%|███       | 133/433 [44:09<1:35:12, 19.04s/it]"
     ]
    },
    {
     "name": "stdout",
     "output_type": "stream",
     "text": [
      "Failed to embed after multiple attempts.\n",
      "Rate limit exceeded. Retrying in 60 seconds...\n",
      "Rate limit exceeded. Retrying in 60 seconds...\n"
     ]
    },
    {
     "name": "stderr",
     "output_type": "stream",
     "text": [
      "Embedding in Parallel:  31%|███       | 134/433 [44:24<1:25:15, 17.11s/it]"
     ]
    },
    {
     "name": "stdout",
     "output_type": "stream",
     "text": [
      "Rate limit exceeded. Retrying in 60 seconds...\n",
      "Rate limit exceeded. Retrying in 60 seconds...\n",
      "Rate limit exceeded. Retrying in 60 seconds...\n",
      "Rate limit exceeded. Retrying in 60 seconds...\n",
      "Rate limit exceeded. Retrying in 60 seconds...\n"
     ]
    },
    {
     "name": "stderr",
     "output_type": "stream",
     "text": [
      "Embedding in Parallel:  31%|███       | 135/433 [45:11<1:55:15, 23.20s/it]"
     ]
    },
    {
     "name": "stdout",
     "output_type": "stream",
     "text": [
      "Rate limit exceeded. Retrying in 60 seconds...\n"
     ]
    },
    {
     "name": "stderr",
     "output_type": "stream",
     "text": [
      "Embedding in Parallel:  31%|███▏      | 136/433 [46:12<2:25:42, 29.43s/it]"
     ]
    },
    {
     "name": "stdout",
     "output_type": "stream",
     "text": [
      "Rate limit exceeded. Retrying in 60 seconds...\n"
     ]
    },
    {
     "name": "stderr",
     "output_type": "stream",
     "text": [
      "Embedding in Parallel:  32%|███▏      | 137/433 [47:13<2:54:47, 35.43s/it]"
     ]
    },
    {
     "name": "stdout",
     "output_type": "stream",
     "text": [
      "Rate limit exceeded. Retrying in 60 seconds...\n"
     ]
    },
    {
     "name": "stderr",
     "output_type": "stream",
     "text": [
      "Embedding in Parallel:  35%|███▌      | 153/433 [51:15<1:07:58, 14.57s/it]"
     ]
    },
    {
     "name": "stdout",
     "output_type": "stream",
     "text": [
      "Rate limit exceeded. Retrying in 60 seconds...\n",
      "Rate limit exceeded. Retrying in 60 seconds...\n",
      "Rate limit exceeded. Retrying in 60 seconds...\n",
      "Rate limit exceeded. Retrying in 60 seconds...\n"
     ]
    },
    {
     "name": "stderr",
     "output_type": "stream",
     "text": [
      "Embedding in Parallel:  36%|███▋      | 157/433 [52:15<1:07:59, 14.78s/it]"
     ]
    },
    {
     "name": "stdout",
     "output_type": "stream",
     "text": [
      "Rate limit exceeded. Retrying in 60 seconds...\n",
      "Rate limit exceeded. Retrying in 60 seconds...\n",
      "Rate limit exceeded. Retrying in 60 seconds...\n"
     ]
    },
    {
     "name": "stderr",
     "output_type": "stream",
     "text": [
      "Embedding in Parallel:  37%|███▋      | 159/433 [54:20<2:07:04, 27.83s/it]"
     ]
    },
    {
     "name": "stdout",
     "output_type": "stream",
     "text": [
      "Error embedding batch: Request timed out.\n"
     ]
    },
    {
     "name": "stderr",
     "output_type": "stream",
     "text": [
      "Embedding in Parallel:  37%|███▋      | 161/433 [54:20<1:21:03, 17.88s/it]"
     ]
    },
    {
     "name": "stdout",
     "output_type": "stream",
     "text": [
      "Error embedding batch: Request timed out.\n",
      "Error embedding batch: Request timed out.\n"
     ]
    },
    {
     "name": "stderr",
     "output_type": "stream",
     "text": [
      "Embedding in Parallel:  37%|███▋      | 162/433 [54:20<1:02:16, 13.79s/it]"
     ]
    },
    {
     "name": "stdout",
     "output_type": "stream",
     "text": [
      "Error embedding batch: Request timed out.\n",
      "Rate limit exceeded. Retrying in 60 seconds...\n"
     ]
    },
    {
     "name": "stderr",
     "output_type": "stream",
     "text": [
      "Embedding in Parallel:  39%|███▉      | 170/433 [56:18<58:00, 13.23s/it]  "
     ]
    },
    {
     "name": "stdout",
     "output_type": "stream",
     "text": [
      "Rate limit exceeded. Retrying in 60 seconds...\n"
     ]
    },
    {
     "name": "stderr",
     "output_type": "stream",
     "text": [
      "Embedding in Parallel:  41%|████      | 177/433 [58:19<1:04:11, 15.04s/it]"
     ]
    },
    {
     "name": "stdout",
     "output_type": "stream",
     "text": [
      "Rate limit exceeded. Retrying in 60 seconds...\n",
      "Rate limit exceeded. Retrying in 60 seconds...\n",
      "Rate limit exceeded. Retrying in 60 seconds...\n",
      "Rate limit exceeded. Retrying in 60 seconds...\n",
      "Rate limit exceeded. Retrying in 60 seconds...\n"
     ]
    },
    {
     "name": "stderr",
     "output_type": "stream",
     "text": [
      "Embedding in Parallel:  41%|████▏     | 179/433 [59:20<1:19:28, 18.77s/it]"
     ]
    },
    {
     "name": "stdout",
     "output_type": "stream",
     "text": [
      "Rate limit exceeded. Retrying in 60 seconds...\n",
      "Rate limit exceeded. Retrying in 60 seconds...\n"
     ]
    },
    {
     "name": "stderr",
     "output_type": "stream",
     "text": [
      "Embedding in Parallel:  42%|████▏     | 180/433 [1:00:20<1:44:47, 24.85s/it]"
     ]
    },
    {
     "name": "stdout",
     "output_type": "stream",
     "text": [
      "Rate limit exceeded. Retrying in 60 seconds...\n",
      "Rate limit exceeded. Retrying in 60 seconds...\n",
      "Rate limit exceeded. Retrying in 60 seconds...\n"
     ]
    },
    {
     "name": "stderr",
     "output_type": "stream",
     "text": [
      "Embedding in Parallel:  42%|████▏     | 181/433 [1:01:21<2:10:32, 31.08s/it]"
     ]
    },
    {
     "name": "stdout",
     "output_type": "stream",
     "text": [
      "Rate limit exceeded. Retrying in 60 seconds...\n",
      "Rate limit exceeded. Retrying in 60 seconds...\n",
      "Rate limit exceeded. Retrying in 60 seconds...\n",
      "Rate limit exceeded. Retrying in 60 seconds...\n"
     ]
    },
    {
     "name": "stderr",
     "output_type": "stream",
     "text": [
      "Embedding in Parallel:  42%|████▏     | 182/433 [1:02:22<2:34:38, 36.97s/it]"
     ]
    },
    {
     "name": "stdout",
     "output_type": "stream",
     "text": [
      "Rate limit exceeded. Retrying in 60 seconds...\n",
      "Rate limit exceeded. Retrying in 60 seconds...\n",
      "Rate limit exceeded. Retrying in 60 seconds...\n",
      "Rate limit exceeded. Retrying in 60 seconds...\n"
     ]
    },
    {
     "name": "stderr",
     "output_type": "stream",
     "text": [
      "Embedding in Parallel:  42%|████▏     | 183/433 [1:04:22<3:50:36, 55.35s/it]"
     ]
    },
    {
     "name": "stdout",
     "output_type": "stream",
     "text": [
      "Rate limit exceeded. Retrying in 60 seconds...\n"
     ]
    },
    {
     "name": "stderr",
     "output_type": "stream",
     "text": [
      "Embedding in Parallel:  43%|████▎     | 187/433 [1:05:21<2:03:01, 30.01s/it]"
     ]
    },
    {
     "name": "stdout",
     "output_type": "stream",
     "text": [
      "Failed to embed after multiple attempts.\n",
      "Failed to embed after multiple attempts.\n",
      "Failed to embed after multiple attempts.\n"
     ]
    },
    {
     "name": "stderr",
     "output_type": "stream",
     "text": [
      "Embedding in Parallel:  45%|████▍     | 193/433 [1:05:22<30:34,  7.64s/it]  "
     ]
    },
    {
     "name": "stdout",
     "output_type": "stream",
     "text": [
      "Rate limit exceeded. Retrying in 60 seconds...\n"
     ]
    },
    {
     "name": "stderr",
     "output_type": "stream",
     "text": [
      "Embedding in Parallel:  45%|████▌     | 196/433 [1:06:23<42:29, 10.76s/it]  "
     ]
    },
    {
     "name": "stdout",
     "output_type": "stream",
     "text": [
      "Rate limit exceeded. Retrying in 60 seconds...\n",
      "Rate limit exceeded. Retrying in 60 seconds...\n"
     ]
    },
    {
     "name": "stderr",
     "output_type": "stream",
     "text": [
      "Embedding in Parallel:  46%|████▌     | 199/433 [1:07:23<56:20, 14.45s/it]  "
     ]
    },
    {
     "name": "stdout",
     "output_type": "stream",
     "text": [
      "Rate limit exceeded. Retrying in 60 seconds...\n",
      "Rate limit exceeded. Retrying in 60 seconds...\n",
      "Rate limit exceeded. Retrying in 60 seconds...\n",
      "Rate limit exceeded. Retrying in 60 seconds...\n"
     ]
    },
    {
     "name": "stderr",
     "output_type": "stream",
     "text": [
      "Embedding in Parallel:  46%|████▋     | 201/433 [1:08:24<1:14:10, 19.18s/it]"
     ]
    },
    {
     "name": "stdout",
     "output_type": "stream",
     "text": [
      "Rate limit exceeded. Retrying in 60 seconds...\n"
     ]
    },
    {
     "name": "stderr",
     "output_type": "stream",
     "text": [
      "Embedding in Parallel:  47%|████▋     | 204/433 [1:09:26<1:06:10, 17.34s/it]"
     ]
    },
    {
     "name": "stdout",
     "output_type": "stream",
     "text": [
      "Rate limit exceeded. Retrying in 60 seconds...\n"
     ]
    },
    {
     "name": "stderr",
     "output_type": "stream",
     "text": [
      "Embedding in Parallel:  48%|████▊     | 206/433 [1:10:25<1:17:05, 20.38s/it]"
     ]
    },
    {
     "name": "stdout",
     "output_type": "stream",
     "text": [
      "Rate limit exceeded. Retrying in 60 seconds...\n",
      "Rate limit exceeded. Retrying in 60 seconds...\n",
      "Rate limit exceeded. Retrying in 60 seconds...\n"
     ]
    },
    {
     "name": "stderr",
     "output_type": "stream",
     "text": [
      "Embedding in Parallel:  48%|████▊     | 209/433 [1:11:26<1:15:44, 20.29s/it]"
     ]
    },
    {
     "name": "stdout",
     "output_type": "stream",
     "text": [
      "Rate limit exceeded. Retrying in 60 seconds...\n",
      "Rate limit exceeded. Retrying in 60 seconds...\n"
     ]
    },
    {
     "name": "stderr",
     "output_type": "stream",
     "text": [
      "Embedding in Parallel:  49%|████▊     | 211/433 [1:12:26<1:21:41, 22.08s/it]"
     ]
    },
    {
     "name": "stdout",
     "output_type": "stream",
     "text": [
      "Rate limit exceeded. Retrying in 60 seconds...\n",
      "Rate limit exceeded. Retrying in 60 seconds...\n",
      "Rate limit exceeded. Retrying in 60 seconds...\n",
      "Rate limit exceeded. Retrying in 60 seconds...\n",
      "Rate limit exceeded. Retrying in 60 seconds...\n"
     ]
    },
    {
     "name": "stderr",
     "output_type": "stream",
     "text": [
      "Embedding in Parallel:  49%|████▉     | 212/433 [1:14:29<2:49:47, 46.10s/it]"
     ]
    },
    {
     "name": "stdout",
     "output_type": "stream",
     "text": [
      "Rate limit exceeded. Retrying in 60 seconds...\n",
      "Rate limit exceeded. Retrying in 60 seconds...\n"
     ]
    },
    {
     "name": "stderr",
     "output_type": "stream",
     "text": [
      "Embedding in Parallel:  50%|████▉     | 216/433 [1:16:28<2:09:51, 35.91s/it]"
     ]
    },
    {
     "name": "stdout",
     "output_type": "stream",
     "text": [
      "Failed to embed after multiple attempts.\n"
     ]
    },
    {
     "name": "stderr",
     "output_type": "stream",
     "text": [
      "Embedding in Parallel:  50%|█████     | 218/433 [1:16:29<1:19:34, 22.21s/it]"
     ]
    },
    {
     "name": "stdout",
     "output_type": "stream",
     "text": [
      "Rate limit exceeded. Retrying in 60 seconds...\n",
      "Rate limit exceeded. Retrying in 60 seconds...\n",
      "Rate limit exceeded. Retrying in 60 seconds...\n"
     ]
    },
    {
     "name": "stderr",
     "output_type": "stream",
     "text": [
      "Embedding in Parallel:  52%|█████▏    | 224/433 [1:18:28<1:11:23, 20.50s/it]"
     ]
    },
    {
     "name": "stdout",
     "output_type": "stream",
     "text": [
      "Failed to embed after multiple attempts.\n",
      "Rate limit exceeded. Retrying in 60 seconds...\n",
      "Rate limit exceeded. Retrying in 60 seconds...\n"
     ]
    },
    {
     "name": "stderr",
     "output_type": "stream",
     "text": [
      "Embedding in Parallel:  52%|█████▏    | 225/433 [1:18:30<1:00:28, 17.44s/it]"
     ]
    },
    {
     "name": "stdout",
     "output_type": "stream",
     "text": [
      "Rate limit exceeded. Retrying in 60 seconds...Rate limit exceeded. Retrying in 60 seconds...\n",
      "\n",
      "Rate limit exceeded. Retrying in 60 seconds...\n"
     ]
    },
    {
     "name": "stderr",
     "output_type": "stream",
     "text": [
      "Embedding in Parallel:  52%|█████▏    | 227/433 [1:19:31<1:09:13, 20.16s/it]"
     ]
    },
    {
     "name": "stdout",
     "output_type": "stream",
     "text": [
      "Rate limit exceeded. Retrying in 60 seconds...\n"
     ]
    },
    {
     "name": "stderr",
     "output_type": "stream",
     "text": [
      "Embedding in Parallel:  53%|█████▎    | 230/433 [1:20:31<1:00:05, 17.76s/it]"
     ]
    },
    {
     "name": "stdout",
     "output_type": "stream",
     "text": [
      "Rate limit exceeded. Retrying in 60 seconds...\n",
      "Rate limit exceeded. Retrying in 60 seconds...\n"
     ]
    },
    {
     "name": "stderr",
     "output_type": "stream",
     "text": [
      "Embedding in Parallel:  54%|█████▎    | 232/433 [1:21:37<1:17:36, 23.17s/it]"
     ]
    },
    {
     "name": "stdout",
     "output_type": "stream",
     "text": [
      "Rate limit exceeded. Retrying in 60 seconds...\n",
      "Rate limit exceeded. Retrying in 60 seconds...\n",
      "Rate limit exceeded. Retrying in 60 seconds...\n",
      "Rate limit exceeded. Retrying in 60 seconds...\n"
     ]
    },
    {
     "name": "stderr",
     "output_type": "stream",
     "text": [
      "Embedding in Parallel:  54%|█████▍    | 233/433 [1:22:32<1:39:28, 29.84s/it]"
     ]
    },
    {
     "name": "stdout",
     "output_type": "stream",
     "text": [
      "Rate limit exceeded. Retrying in 60 seconds...\n"
     ]
    },
    {
     "name": "stderr",
     "output_type": "stream",
     "text": [
      "Embedding in Parallel:  54%|█████▍    | 235/433 [1:23:33<1:39:01, 30.01s/it]"
     ]
    },
    {
     "name": "stdout",
     "output_type": "stream",
     "text": [
      "Rate limit exceeded. Retrying in 60 seconds...\n"
     ]
    },
    {
     "name": "stderr",
     "output_type": "stream",
     "text": [
      "Embedding in Parallel:  58%|█████▊    | 249/433 [1:26:45<38:13, 12.46s/it]  "
     ]
    },
    {
     "name": "stdout",
     "output_type": "stream",
     "text": [
      "Rate limit exceeded. Retrying in 60 seconds...\n",
      "Rate limit exceeded. Retrying in 60 seconds...\n"
     ]
    },
    {
     "name": "stderr",
     "output_type": "stream",
     "text": [
      "Embedding in Parallel:  60%|█████▉    | 258/433 [1:29:36<55:50, 19.15s/it]  "
     ]
    },
    {
     "name": "stdout",
     "output_type": "stream",
     "text": [
      "Rate limit exceeded. Retrying in 60 seconds...\n"
     ]
    },
    {
     "name": "stderr",
     "output_type": "stream",
     "text": [
      "Embedding in Parallel:  60%|██████    | 261/433 [1:30:37<56:05, 19.57s/it]"
     ]
    },
    {
     "name": "stdout",
     "output_type": "stream",
     "text": [
      "Rate limit exceeded. Retrying in 60 seconds...\n"
     ]
    },
    {
     "name": "stderr",
     "output_type": "stream",
     "text": [
      "Embedding in Parallel:  64%|██████▎   | 276/433 [1:33:55<30:48, 11.78s/it]"
     ]
    },
    {
     "name": "stdout",
     "output_type": "stream",
     "text": [
      "Rate limit exceeded. Retrying in 60 seconds...\n"
     ]
    },
    {
     "name": "stderr",
     "output_type": "stream",
     "text": [
      "Embedding in Parallel:  64%|██████▍   | 278/433 [1:34:39<45:50, 17.74s/it]"
     ]
    },
    {
     "name": "stdout",
     "output_type": "stream",
     "text": [
      "Rate limit exceeded. Retrying in 60 seconds...\n"
     ]
    },
    {
     "name": "stderr",
     "output_type": "stream",
     "text": [
      "Embedding in Parallel:  70%|██████▉   | 301/433 [1:39:45<37:57, 17.26s/it]"
     ]
    },
    {
     "name": "stdout",
     "output_type": "stream",
     "text": [
      "Rate limit exceeded. Retrying in 60 seconds...\n"
     ]
    },
    {
     "name": "stderr",
     "output_type": "stream",
     "text": [
      "Embedding in Parallel:  71%|███████▏  | 309/433 [1:42:06<32:18, 15.63s/it]"
     ]
    },
    {
     "name": "stdout",
     "output_type": "stream",
     "text": [
      "Rate limit exceeded. Retrying in 60 seconds...\n"
     ]
    },
    {
     "name": "stderr",
     "output_type": "stream",
     "text": [
      "Embedding in Parallel:  72%|███████▏  | 312/433 [1:42:46<35:29, 17.60s/it]"
     ]
    },
    {
     "name": "stdout",
     "output_type": "stream",
     "text": [
      "Rate limit exceeded. Retrying in 60 seconds...\n"
     ]
    },
    {
     "name": "stderr",
     "output_type": "stream",
     "text": [
      "Embedding in Parallel:  75%|███████▌  | 326/433 [1:45:49<21:29, 12.05s/it]"
     ]
    },
    {
     "name": "stdout",
     "output_type": "stream",
     "text": [
      "Rate limit exceeded. Retrying in 60 seconds...\n",
      "Rate limit exceeded. Retrying in 60 seconds...\n",
      "Rate limit exceeded. Retrying in 60 seconds...\n"
     ]
    },
    {
     "name": "stderr",
     "output_type": "stream",
     "text": [
      "Embedding in Parallel:  76%|███████▌  | 329/433 [1:46:50<23:40, 13.66s/it]"
     ]
    },
    {
     "name": "stdout",
     "output_type": "stream",
     "text": [
      "Rate limit exceeded. Retrying in 60 seconds...\n",
      "Rate limit exceeded. Retrying in 60 seconds...\n"
     ]
    },
    {
     "name": "stderr",
     "output_type": "stream",
     "text": [
      "Embedding in Parallel:  77%|███████▋  | 333/433 [1:47:50<20:43, 12.43s/it]"
     ]
    },
    {
     "name": "stdout",
     "output_type": "stream",
     "text": [
      "Rate limit exceeded. Retrying in 60 seconds...\n"
     ]
    },
    {
     "name": "stderr",
     "output_type": "stream",
     "text": [
      "Embedding in Parallel:  78%|███████▊  | 336/433 [1:48:50<22:17, 13.79s/it]"
     ]
    },
    {
     "name": "stdout",
     "output_type": "stream",
     "text": [
      "Rate limit exceeded. Retrying in 60 seconds...\n"
     ]
    },
    {
     "name": "stderr",
     "output_type": "stream",
     "text": [
      "Embedding in Parallel:  80%|███████▉  | 345/433 [1:51:06<16:46, 11.44s/it]"
     ]
    },
    {
     "name": "stdout",
     "output_type": "stream",
     "text": [
      "Rate limit exceeded. Retrying in 60 seconds...\n"
     ]
    },
    {
     "name": "stderr",
     "output_type": "stream",
     "text": [
      "Embedding in Parallel:  81%|████████  | 349/433 [1:52:06<16:01, 11.45s/it]"
     ]
    },
    {
     "name": "stdout",
     "output_type": "stream",
     "text": [
      "Rate limit exceeded. Retrying in 60 seconds...\n"
     ]
    },
    {
     "name": "stderr",
     "output_type": "stream",
     "text": [
      "Embedding in Parallel:  85%|████████▍ | 368/433 [1:57:16<13:15, 12.24s/it]"
     ]
    },
    {
     "name": "stdout",
     "output_type": "stream",
     "text": [
      "Rate limit exceeded. Retrying in 60 seconds...\n"
     ]
    },
    {
     "name": "stderr",
     "output_type": "stream",
     "text": [
      "Embedding in Parallel:  90%|████████▉ | 388/433 [2:02:16<08:59, 11.98s/it]"
     ]
    },
    {
     "name": "stdout",
     "output_type": "stream",
     "text": [
      "Rate limit exceeded. Retrying in 60 seconds...\n"
     ]
    },
    {
     "name": "stderr",
     "output_type": "stream",
     "text": [
      "Embedding in Parallel:  90%|████████▉ | 389/433 [2:03:01<16:01, 21.86s/it]"
     ]
    },
    {
     "name": "stdout",
     "output_type": "stream",
     "text": [
      "Rate limit exceeded. Retrying in 60 seconds...\n"
     ]
    },
    {
     "name": "stderr",
     "output_type": "stream",
     "text": [
      "Embedding in Parallel: 100%|██████████| 433/433 [2:11:11<00:00, 18.18s/it]\n"
     ]
    }
   ],
   "source": [
    "BATCH_SIZE = 50\n",
    "MAX_WORKERS = 8  # Number of threads\n",
    "RETRY_DELAY = 60  # Retry delay in seconds for rate-limiting errors\n",
    "\n",
    "# Function to generate embeddings for a batch of texts with retry logic\n",
    "def embed_batch(text_batch, model, retries=3):\n",
    "    attempts = 0\n",
    "    while attempts < retries:\n",
    "        try:\n",
    "            response = client.embeddings.create(input=text_batch, model=model)\n",
    "            return [item.embedding for item in response.data]\n",
    "        except Exception as e:\n",
    "            if \"rate limit\" in str(e).lower() or \"429\" in str(e):\n",
    "                print(f\"Rate limit exceeded. Retrying in {RETRY_DELAY} seconds...\")\n",
    "                time.sleep(RETRY_DELAY)  # Wait before retrying\n",
    "                attempts += 1\n",
    "            else:\n",
    "                print(f\"Error embedding batch: {e}\")\n",
    "                return [None] * len(text_batch)\n",
    "    print(\"Failed to embed after multiple attempts.\")\n",
    "    return [None] * len(text_batch)\n",
    "\n",
    "# Function to process batches in parallel with rate limiting\n",
    "def embed_in_batches(data, model=EMBEDDING_MODEL, batch_size=BATCH_SIZE, max_workers=MAX_WORKERS):\n",
    "    total_chunks = len(data)\n",
    "    num_batches = math.ceil(total_chunks / batch_size)\n",
    "    \n",
    "    # Create batches\n",
    "    batches = [data[i * batch_size: (i + 1) * batch_size] for i in range(num_batches)]\n",
    "    embeddings = [None] * total_chunks  # Placeholder for embeddings\n",
    "\n",
    "    with ThreadPoolExecutor(max_workers=max_workers) as executor:\n",
    "        futures = {}\n",
    "        for i, batch in enumerate(batches):\n",
    "            futures[executor.submit(embed_batch, batch, model)] = i\n",
    "        \n",
    "        # Process results as they complete\n",
    "        for future in tqdm(as_completed(futures), total=len(futures), desc=\"Embedding in Parallel\"):\n",
    "            batch_index = futures[future]\n",
    "            try:\n",
    "                batch_embeddings = future.result()\n",
    "                embeddings[batch_index * batch_size: (batch_index + 1) * batch_size] = batch_embeddings\n",
    "            except Exception as e:\n",
    "                print(f\"Error processing batch {batch_index}: {e}\")\n",
    "    \n",
    "    return embeddings\n",
    "\n",
    "# Prepare data for embedding generation\n",
    "texts_to_embed = chunked_data[\"content_chunks\"].tolist()\n",
    "\n",
    "# Run batch embedding generation with rate limiting\n",
    "chunked_data['embeddings'] = embed_in_batches(\n",
    "    texts_to_embed, \n",
    "    model=EMBEDDING_MODEL,\n",
    "    batch_size=BATCH_SIZE,\n",
    "    max_workers=MAX_WORKERS\n",
    ")"
   ]
  },
  {
   "cell_type": "code",
   "execution_count": 90,
   "metadata": {},
   "outputs": [
    {
     "name": "stdout",
     "output_type": "stream",
     "text": [
      "Dimension of the embeddings:  3072\n"
     ]
    }
   ],
   "source": [
    "print(\"Dimension of the embeddings: \", len(chunked_data['embeddings'][0]))"
   ]
  },
  {
   "attachments": {},
   "cell_type": "markdown",
   "metadata": {},
   "source": [
    "The `chunked_data` DataFrame is structured so that each row represents an individual **chunk** of text derived from the original documents, with a corresponding **embedding vector** stored in the `embeddings` column. Each embedding vector is a dense list of floating-point numbers (1536 dimensions with the `text-embedding-ada-002` model and 3072 dimensions for the `text-embedding-3-large` model) that encapsulates the semantic meaning of the text chunk.\n",
    "\n",
    "These embeddings are critical for the RAG system, as they allow efficient similarity searches and retrieval tasks by representing the content of each text chunk in a high-dimensional vector space. When a query is embedded, the RAG system can quickly locate the most relevant text chunks by identifying embedding vectors in the database that are closest in meaning. This approach enables the system to retrieve contextually relevant information by comparing semantic relationships, streamlining the entire retrieval process."
   ]
  },
  {
   "cell_type": "code",
   "execution_count": 91,
   "metadata": {},
   "outputs": [
    {
     "name": "stdout",
     "output_type": "stream",
     "text": [
      "Embeddings and chunked data saved to ../data/experiments/recursive_2500_chunksize_300_overlap_text_embedding_3_large.pkl\n"
     ]
    }
   ],
   "source": [
    "import pickle\n",
    "\n",
    "# Construct the filename dynamically\n",
    "filename = f\"../embeddings/recursive_{CHUNK_SIZE}_chunksize_{CHUNK_OVERLAP}_overlap_{EMBEDDING_MODEL.replace('-', '_')}.pkl\"\n",
    "\n",
    "# Save embeddings and corresponding chunked data to a file\n",
    "with open(filename, 'wb') as f:\n",
    "    pickle.dump(chunked_data, f)\n",
    "\n",
    "print(f\"Embeddings and chunked data saved to {filename}\")"
   ]
  },
  {
   "attachments": {},
   "cell_type": "markdown",
   "metadata": {},
   "source": [
    "metric assessment of embedding results on artificially created chunk-query pairs (intrinsic evaluation)"
   ]
  },
  {
   "cell_type": "code",
   "execution_count": null,
   "metadata": {},
   "outputs": [],
   "source": []
  }
 ],
 "metadata": {
  "kernelspec": {
   "display_name": "base",
   "language": "python",
   "name": "python3"
  },
  "language_info": {
   "codemirror_mode": {
    "name": "ipython",
    "version": 3
   },
   "file_extension": ".py",
   "mimetype": "text/x-python",
   "name": "python",
   "nbconvert_exporter": "python",
   "pygments_lexer": "ipython3",
   "version": "3.11.5 (main, Sep 11 2023, 08:31:25) [Clang 14.0.6 ]"
  },
  "orig_nbformat": 4,
  "vscode": {
   "interpreter": {
    "hash": "cd9c78cbb62892232a2e8cf9a4bd699d988202e949c50bb9be5232199c394801"
   }
  }
 },
 "nbformat": 4,
 "nbformat_minor": 2
}
