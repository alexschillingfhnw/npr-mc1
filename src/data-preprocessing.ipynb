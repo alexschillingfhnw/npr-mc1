{
 "cells": [
  {
   "attachments": {},
   "cell_type": "markdown",
   "metadata": {},
   "source": [
    "# Data Preprocessing"
   ]
  },
  {
   "attachments": {},
   "cell_type": "markdown",
   "metadata": {},
   "source": [
    "For our mini-challenge, we will be utilizing the Cleantech Media Dataset, which serves as an invaluable resource for businesses, researchers, and students interested in the latest developments in Natural Language Processing and Large Language Models within the realm of cleantech and sustainability. In an industry that is constantly evolving, having access to timely and accurate information is crucial. This dataset is specifically designed to address those needs.\n",
    "\n",
    "This dataset is accessible on Kaggle and is credited to [Janna Lipenkova](https://www.kaggle.com/datasets/jannalipenkova/cleantech-media-dataset)."
   ]
  },
  {
   "attachments": {},
   "cell_type": "markdown",
   "metadata": {},
   "source": [
    "## Imports"
   ]
  },
  {
   "cell_type": "code",
   "execution_count": 378,
   "metadata": {},
   "outputs": [
    {
     "name": "stderr",
     "output_type": "stream",
     "text": [
      "[nltk_data] Downloading package stopwords to\n",
      "[nltk_data]     /Users/alexanderschilling/nltk_data...\n",
      "[nltk_data]   Package stopwords is already up-to-date!\n"
     ]
    }
   ],
   "source": [
    "import os\n",
    "import pandas as pd\n",
    "import numpy as np\n",
    "\n",
    "import re\n",
    "import nltk\n",
    "from nltk.corpus import stopwords\n",
    "from bs4 import BeautifulSoup\n",
    "from nltk.stem import PorterStemmer, WordNetLemmatizer\n",
    "\n",
    "# Ensure you have the NLTK stopwords\n",
    "nltk.download('stopwords')\n",
    "stop_words = set(stopwords.words('english'))\n",
    "\n",
    "# Initialize stemmer and lemmatizer\n",
    "stemmer = PorterStemmer()\n",
    "lemmatizer = WordNetLemmatizer()"
   ]
  },
  {
   "attachments": {},
   "cell_type": "markdown",
   "metadata": {},
   "source": [
    "## Data"
   ]
  },
  {
   "attachments": {},
   "cell_type": "markdown",
   "metadata": {},
   "source": [
    "### Training Data"
   ]
  },
  {
   "attachments": {},
   "cell_type": "markdown",
   "metadata": {},
   "source": [
    "- Comprehensive Coverage: Access a wide range of media texts on cleantech topics, from renewable energy to carbon reduction.\n",
    "- Efficiency: Utilize the dataset for quick and accurate question-answering, aiding informed decision-making.\n",
    "- Regular Updates: Stay current with monthly updates reflecting the latest trends in cleantech.\n",
    "- Sustainability Focus: Contribute to the sustainability movement by leveraging valuable insights from the dataset."
   ]
  },
  {
   "cell_type": "code",
   "execution_count": 379,
   "metadata": {},
   "outputs": [
    {
     "data": {
      "text/html": [
       "<div>\n",
       "<style scoped>\n",
       "    .dataframe tbody tr th:only-of-type {\n",
       "        vertical-align: middle;\n",
       "    }\n",
       "\n",
       "    .dataframe tbody tr th {\n",
       "        vertical-align: top;\n",
       "    }\n",
       "\n",
       "    .dataframe thead th {\n",
       "        text-align: right;\n",
       "    }\n",
       "</style>\n",
       "<table border=\"1\" class=\"dataframe\">\n",
       "  <thead>\n",
       "    <tr style=\"text-align: right;\">\n",
       "      <th></th>\n",
       "      <th>Unnamed: 0</th>\n",
       "      <th>title</th>\n",
       "      <th>date</th>\n",
       "      <th>author</th>\n",
       "      <th>content</th>\n",
       "      <th>domain</th>\n",
       "      <th>url</th>\n",
       "    </tr>\n",
       "  </thead>\n",
       "  <tbody>\n",
       "    <tr>\n",
       "      <th>0</th>\n",
       "      <td>1280</td>\n",
       "      <td>Qatar to Slash Emissions as LNG Expansion Adva...</td>\n",
       "      <td>2021-01-13</td>\n",
       "      <td>NaN</td>\n",
       "      <td>[\"Qatar Petroleum ( QP) is targeting aggressiv...</td>\n",
       "      <td>energyintel</td>\n",
       "      <td>https://www.energyintel.com/0000017b-a7dc-de4c...</td>\n",
       "    </tr>\n",
       "    <tr>\n",
       "      <th>1</th>\n",
       "      <td>1281</td>\n",
       "      <td>India Launches Its First 700 MW PHWR</td>\n",
       "      <td>2021-01-15</td>\n",
       "      <td>NaN</td>\n",
       "      <td>[\"• Nuclear Power Corp. of India Ltd. ( NPCIL)...</td>\n",
       "      <td>energyintel</td>\n",
       "      <td>https://www.energyintel.com/0000017b-a7dc-de4c...</td>\n",
       "    </tr>\n",
       "    <tr>\n",
       "      <th>2</th>\n",
       "      <td>1283</td>\n",
       "      <td>New Chapter for US-China Energy Trade</td>\n",
       "      <td>2021-01-20</td>\n",
       "      <td>NaN</td>\n",
       "      <td>[\"New US President Joe Biden took office this ...</td>\n",
       "      <td>energyintel</td>\n",
       "      <td>https://www.energyintel.com/0000017b-a7dc-de4c...</td>\n",
       "    </tr>\n",
       "    <tr>\n",
       "      <th>3</th>\n",
       "      <td>1284</td>\n",
       "      <td>Japan: Slow Restarts Cast Doubt on 2030 Energy...</td>\n",
       "      <td>2021-01-22</td>\n",
       "      <td>NaN</td>\n",
       "      <td>[\"The slow pace of Japanese reactor restarts c...</td>\n",
       "      <td>energyintel</td>\n",
       "      <td>https://www.energyintel.com/0000017b-a7dc-de4c...</td>\n",
       "    </tr>\n",
       "    <tr>\n",
       "      <th>4</th>\n",
       "      <td>1285</td>\n",
       "      <td>NYC Pension Funds to Divest Fossil Fuel Shares</td>\n",
       "      <td>2021-01-25</td>\n",
       "      <td>NaN</td>\n",
       "      <td>[\"Two of New York City's largest pension funds...</td>\n",
       "      <td>energyintel</td>\n",
       "      <td>https://www.energyintel.com/0000017b-a7dc-de4c...</td>\n",
       "    </tr>\n",
       "  </tbody>\n",
       "</table>\n",
       "</div>"
      ],
      "text/plain": [
       "   Unnamed: 0                                              title        date  \\\n",
       "0        1280  Qatar to Slash Emissions as LNG Expansion Adva...  2021-01-13   \n",
       "1        1281               India Launches Its First 700 MW PHWR  2021-01-15   \n",
       "2        1283              New Chapter for US-China Energy Trade  2021-01-20   \n",
       "3        1284  Japan: Slow Restarts Cast Doubt on 2030 Energy...  2021-01-22   \n",
       "4        1285     NYC Pension Funds to Divest Fossil Fuel Shares  2021-01-25   \n",
       "\n",
       "  author                                            content       domain  \\\n",
       "0    NaN  [\"Qatar Petroleum ( QP) is targeting aggressiv...  energyintel   \n",
       "1    NaN  [\"• Nuclear Power Corp. of India Ltd. ( NPCIL)...  energyintel   \n",
       "2    NaN  [\"New US President Joe Biden took office this ...  energyintel   \n",
       "3    NaN  [\"The slow pace of Japanese reactor restarts c...  energyintel   \n",
       "4    NaN  [\"Two of New York City's largest pension funds...  energyintel   \n",
       "\n",
       "                                                 url  \n",
       "0  https://www.energyintel.com/0000017b-a7dc-de4c...  \n",
       "1  https://www.energyintel.com/0000017b-a7dc-de4c...  \n",
       "2  https://www.energyintel.com/0000017b-a7dc-de4c...  \n",
       "3  https://www.energyintel.com/0000017b-a7dc-de4c...  \n",
       "4  https://www.energyintel.com/0000017b-a7dc-de4c...  "
      ]
     },
     "execution_count": 379,
     "metadata": {},
     "output_type": "execute_result"
    }
   ],
   "source": [
    "data = pd.read_csv('../data/cleantech_media_dataset_v2_2024-02-23.csv')\n",
    "data.head()"
   ]
  },
  {
   "attachments": {},
   "cell_type": "markdown",
   "metadata": {},
   "source": [
    "### Evaluation data"
   ]
  },
  {
   "attachments": {},
   "cell_type": "markdown",
   "metadata": {},
   "source": [
    "- The dataset comes with a small, high-quality evaluation dataset for the \"Retrieval\" step in Retrieval-Augmented Generation\n",
    "- In addition, a small collection of human gold-standard query-passage-answer triplets will be provided for further evaluation"
   ]
  },
  {
   "cell_type": "code",
   "execution_count": 380,
   "metadata": {},
   "outputs": [
    {
     "data": {
      "text/html": [
       "<div>\n",
       "<style scoped>\n",
       "    .dataframe tbody tr th:only-of-type {\n",
       "        vertical-align: middle;\n",
       "    }\n",
       "\n",
       "    .dataframe tbody tr th {\n",
       "        vertical-align: top;\n",
       "    }\n",
       "\n",
       "    .dataframe thead th {\n",
       "        text-align: right;\n",
       "    }\n",
       "</style>\n",
       "<table border=\"1\" class=\"dataframe\">\n",
       "  <thead>\n",
       "    <tr style=\"text-align: right;\">\n",
       "      <th></th>\n",
       "      <th>example_id</th>\n",
       "      <th>question_id</th>\n",
       "      <th>question</th>\n",
       "      <th>relevant_text</th>\n",
       "      <th>answer</th>\n",
       "      <th>article_url</th>\n",
       "    </tr>\n",
       "  </thead>\n",
       "  <tbody>\n",
       "    <tr>\n",
       "      <th>0</th>\n",
       "      <td>1</td>\n",
       "      <td>1</td>\n",
       "      <td>What is the innovation behind Leclanché's new ...</td>\n",
       "      <td>Leclanché said it has developed an environment...</td>\n",
       "      <td>Leclanché's innovation is using a water-based ...</td>\n",
       "      <td>https://www.sgvoice.net/strategy/technology/23...</td>\n",
       "    </tr>\n",
       "    <tr>\n",
       "      <th>1</th>\n",
       "      <td>2</td>\n",
       "      <td>2</td>\n",
       "      <td>What is the EU’s Green Deal Industrial Plan?</td>\n",
       "      <td>The Green Deal Industrial Plan is a bid by the...</td>\n",
       "      <td>The EU’s Green Deal Industrial Plan aims to en...</td>\n",
       "      <td>https://www.sgvoice.net/policy/25396/eu-seeks-...</td>\n",
       "    </tr>\n",
       "    <tr>\n",
       "      <th>2</th>\n",
       "      <td>3</td>\n",
       "      <td>2</td>\n",
       "      <td>What is the EU’s Green Deal Industrial Plan?</td>\n",
       "      <td>The European counterpart to the US Inflation R...</td>\n",
       "      <td>The EU’s Green Deal Industrial Plan aims to en...</td>\n",
       "      <td>https://www.pv-magazine.com/2023/02/02/europea...</td>\n",
       "    </tr>\n",
       "    <tr>\n",
       "      <th>3</th>\n",
       "      <td>4</td>\n",
       "      <td>3</td>\n",
       "      <td>What are the four focus areas of the EU's Gree...</td>\n",
       "      <td>The new plan is fundamentally focused on four ...</td>\n",
       "      <td>The four focus areas of the EU's Green Deal In...</td>\n",
       "      <td>https://www.sgvoice.net/policy/25396/eu-seeks-...</td>\n",
       "    </tr>\n",
       "    <tr>\n",
       "      <th>4</th>\n",
       "      <td>5</td>\n",
       "      <td>4</td>\n",
       "      <td>When did the cooperation between GM and Honda ...</td>\n",
       "      <td>What caught our eye was a new hookup between G...</td>\n",
       "      <td>July 2013</td>\n",
       "      <td>https://cleantechnica.com/2023/05/08/general-m...</td>\n",
       "    </tr>\n",
       "  </tbody>\n",
       "</table>\n",
       "</div>"
      ],
      "text/plain": [
       "   example_id  question_id                                           question  \\\n",
       "0           1            1  What is the innovation behind Leclanché's new ...   \n",
       "1           2            2       What is the EU’s Green Deal Industrial Plan?   \n",
       "2           3            2       What is the EU’s Green Deal Industrial Plan?   \n",
       "3           4            3  What are the four focus areas of the EU's Gree...   \n",
       "4           5            4  When did the cooperation between GM and Honda ...   \n",
       "\n",
       "                                       relevant_text  \\\n",
       "0  Leclanché said it has developed an environment...   \n",
       "1  The Green Deal Industrial Plan is a bid by the...   \n",
       "2  The European counterpart to the US Inflation R...   \n",
       "3  The new plan is fundamentally focused on four ...   \n",
       "4  What caught our eye was a new hookup between G...   \n",
       "\n",
       "                                              answer  \\\n",
       "0  Leclanché's innovation is using a water-based ...   \n",
       "1  The EU’s Green Deal Industrial Plan aims to en...   \n",
       "2  The EU’s Green Deal Industrial Plan aims to en...   \n",
       "3  The four focus areas of the EU's Green Deal In...   \n",
       "4                                          July 2013   \n",
       "\n",
       "                                         article_url  \n",
       "0  https://www.sgvoice.net/strategy/technology/23...  \n",
       "1  https://www.sgvoice.net/policy/25396/eu-seeks-...  \n",
       "2  https://www.pv-magazine.com/2023/02/02/europea...  \n",
       "3  https://www.sgvoice.net/policy/25396/eu-seeks-...  \n",
       "4  https://cleantechnica.com/2023/05/08/general-m...  "
      ]
     },
     "execution_count": 380,
     "metadata": {},
     "output_type": "execute_result"
    }
   ],
   "source": [
    "data_eval = pd.read_csv('../data/cleantech_rag_evaluation_data_2024-09-20.csv', delimiter=\";\")\n",
    "data_eval.head()"
   ]
  },
  {
   "attachments": {},
   "cell_type": "markdown",
   "metadata": {},
   "source": [
    "## Initial Exploration"
   ]
  },
  {
   "cell_type": "code",
   "execution_count": 381,
   "metadata": {},
   "outputs": [
    {
     "name": "stdout",
     "output_type": "stream",
     "text": [
      "<class 'pandas.core.frame.DataFrame'>\n",
      "RangeIndex: 9593 entries, 0 to 9592\n",
      "Data columns (total 7 columns):\n",
      " #   Column      Non-Null Count  Dtype \n",
      "---  ------      --------------  ----- \n",
      " 0   Unnamed: 0  9593 non-null   int64 \n",
      " 1   title       9593 non-null   object\n",
      " 2   date        9593 non-null   object\n",
      " 3   author      31 non-null     object\n",
      " 4   content     9593 non-null   object\n",
      " 5   domain      9593 non-null   object\n",
      " 6   url         9593 non-null   object\n",
      "dtypes: int64(1), object(6)\n",
      "memory usage: 524.7+ KB\n",
      "None\n"
     ]
    }
   ],
   "source": [
    "print(data.info())"
   ]
  },
  {
   "cell_type": "code",
   "execution_count": 382,
   "metadata": {},
   "outputs": [
    {
     "name": "stdout",
     "output_type": "stream",
     "text": [
      "Unnamed: 0       0\n",
      "title            0\n",
      "date             0\n",
      "author        9562\n",
      "content          0\n",
      "domain           0\n",
      "url              0\n",
      "dtype: int64\n"
     ]
    }
   ],
   "source": [
    "# Check for missing values\n",
    "print(data.isnull().sum())"
   ]
  },
  {
   "cell_type": "code",
   "execution_count": 383,
   "metadata": {},
   "outputs": [
    {
     "name": "stdout",
     "output_type": "stream",
     "text": [
      "['energyintel' 'energyvoice' 'eurosolar' 'indorenergy' 'cleantechnica'\n",
      " 'decarbxpo' 'ecofriend' 'greenprophet' 'azocleantech' 'naturalgasintel'\n",
      " 'businessgreen' 'rechargenews' 'solarquarter' 'thinkgeoenergy'\n",
      " 'pv-magazine' 'solarpowerworldonline' 'pv-tech' 'solarpowerportal.co'\n",
      " 'solarindustrymag']\n"
     ]
    }
   ],
   "source": [
    "print(data[\"domain\"].unique())"
   ]
  },
  {
   "attachments": {},
   "cell_type": "markdown",
   "metadata": {},
   "source": [
    "Now we want to see what the text oin the column \"content\" looks like. This will give us a better idea on how the texts are structured so that we can make a good plan for the data cleaning process."
   ]
  },
  {
   "cell_type": "code",
   "execution_count": 384,
   "metadata": {},
   "outputs": [
    {
     "data": {
      "text/plain": [
       "\"['Velocys has signed two offtake agreements that cover the entire sustainable aviation fuel ( SAF) production from its Bayou Fuels plant in Mississippi for at least ten years from start up in 2026. US Southwest Airlines will take-or-pay for 219 million gallons of carbon-negative SAF — generating 575 million gallons of carbon neutral blended SAF — over 15 years. Europe’ s IAG will take 73 million gallons of carbon negative SAF — 192 million gallons of carbon-neutral SAF after blending — over 10 years. Velocys said the deal with IAG was worth $ 800 million. Both deals include a price support mechanism for the greenhouse gas credits associated with Bayou’ s SAF production, which claims a carbon reduction of 6.5 million tons over the term of the contract. The plant has negative lifecycle emissions thanks to its biogenic waste feedstock, renewable power and carbon capture and storage. “ This long-dated offtake, encompassing support for environmental credits, will provide certainty of revenue for the project, which should enable construction capital financing, ” Velocys CEO Henrik Wareborn said about both deals. “ This agreement shows that commercial-scale demand for SAF can be satisfied already by the middle of this decade and that Velocys plays a pivotal role in enabling this, ” he added.']\""
      ]
     },
     "execution_count": 384,
     "metadata": {},
     "output_type": "execute_result"
    }
   ],
   "source": [
    "data[\"content\"][100]"
   ]
  },
  {
   "attachments": {},
   "cell_type": "markdown",
   "metadata": {},
   "source": [
    "## Text Preprocessing"
   ]
  },
  {
   "attachments": {},
   "cell_type": "markdown",
   "metadata": {},
   "source": [
    "**Steps to clean the data**\n",
    "- convert to lowercase\n",
    "- some content rows contain urls -> remove them\n",
    "- remove special characters (for example \", !, ?, ', `)\n",
    "- replace \"%\" with \"percent\"\n",
    "- \"/\" between letters or words should not be removed (for example \"tons/yr\" should become \"tons per year\" and not \"tonsyr\")\n",
    "- \"-\" that are word connectors (for example \"carbon-negative\") should not be removed -> maybe a space could be made instead\n",
    "- \"-\" that are between two empty spaces (for example \"SAF — 192 million gallons\") -> these should be removed\n",
    "- currency symbols should be replaced by written words (for example $ turns to dollars)\n",
    "- Country abbreviations can be the same as words (for example US and us) -> what can we do here?"
   ]
  },
  {
   "attachments": {},
   "cell_type": "markdown",
   "metadata": {},
   "source": [
    "### Lowercase"
   ]
  },
  {
   "cell_type": "code",
   "execution_count": 385,
   "metadata": {},
   "outputs": [],
   "source": [
    "def to_lowercase(text):\n",
    "    return text.lower()\n",
    "\n",
    "data['content_cleaned'] = data['content'].apply(to_lowercase)"
   ]
  },
  {
   "attachments": {},
   "cell_type": "markdown",
   "metadata": {},
   "source": [
    "### Remove HTML tags"
   ]
  },
  {
   "cell_type": "code",
   "execution_count": 386,
   "metadata": {},
   "outputs": [],
   "source": [
    "def remove_html_tags(text):\n",
    "    return BeautifulSoup(text, \"html.parser\").get_text()\n",
    "\n",
    "data['content_cleaned'] = data['content_cleaned'].apply(remove_html_tags)"
   ]
  },
  {
   "attachments": {},
   "cell_type": "markdown",
   "metadata": {},
   "source": [
    "### Remove URLs"
   ]
  },
  {
   "cell_type": "code",
   "execution_count": 387,
   "metadata": {},
   "outputs": [],
   "source": [
    "def remove_urls(text):\n",
    "    return re.sub(r'http\\S+|www\\S+|https\\S+', '', text)\n",
    "\n",
    "data['content_cleaned'] = data['content_cleaned'].apply(remove_urls)"
   ]
  },
  {
   "attachments": {},
   "cell_type": "markdown",
   "metadata": {},
   "source": [
    "### Remove Special Characters"
   ]
  },
  {
   "cell_type": "code",
   "execution_count": 388,
   "metadata": {},
   "outputs": [],
   "source": [
    "def remove_special_characters(text):\n",
    "    # Keep alphanumeric characters, certain punctuation, and hyphens/slashes while removing unwanted special characters\n",
    "    # Allow periods, commas, question marks, exclamation marks, percentage symbols, and ampersands\n",
    "    text = re.sub(r\"[\\\\\\'\\\"`]\", '', text)  # Remove backslashes, single quotes, double quotes, and backticks\n",
    "    text = re.sub(r'[^A-Za-z0-9\\s\\-\\/\\.\\,\\?\\!\\%&]', '', text)  # Keep allowed punctuation marks\n",
    "\n",
    "    # Replace \"/\" with \" per \" and specific words with their full forms\n",
    "    text = re.sub(r'(\\w+)/(\\w+)', lambda m: f\"{m.group(1)} per {'year' if m.group(2) == 'yr' else m.group(2)}\", text)\n",
    "    \n",
    "    text = re.sub(r'\\s*-\\s*', ' ', text)  # Replace hyphens surrounded by spaces with a space\n",
    "    text = re.sub(r'(?<!\\w)-|-(?!\\w)', '', text)  # Remove hyphens not surrounded by words\n",
    "\n",
    "    result = result.replace('%', ' percent')\n",
    "\n",
    "    # remove double space\n",
    "    text = re.sub(r'\\s+', ' ', text).strip()\n",
    "    \n",
    "    return text\n",
    "\n",
    "data['content_cleaned'] = data['content_cleaned'].apply(remove_special_characters)"
   ]
  },
  {
   "cell_type": "code",
   "execution_count": 389,
   "metadata": {},
   "outputs": [
    {
     "data": {
      "text/plain": [
       "'qatar petroleum qp is targeting aggressive cuts in its greenhouse gas emissions as it prepares to launch phase 2 of its planned 48 million ton per year lng expansion. in its latest sustainability report published on wednesday, qp said its goals include reducing the emissions intensity of qatars lng facilities by 25% and of its upstream facilities by at least 15%. the company is also aiming to reduce gas flaring intensity across its upstream facilities by more than 75% and has raised its carbon capture and storage ambitions from 5 million tons per year to 7 million tons per year by 2027. about 2.2 million tons per year of the carbon capture goal will come from the 32 million ton per year phase 1 of the lng expansion, also known as the north field east project. a further 1.1 million tons per year will come from phase 2, known as the north field south project, which will raise qatars lng capacity by a further 16 million tons per year. qatar currently has an lng production capacity of around 78 million tons per year and is eyeing a phased expansion to 126 million tons per year. qp says it should be able to eliminate routine gas flaring by 2030, with methane emissions limited by setting a methane intensity target of 0.2% across all facilities by 2025. the company also plans to build some 1.6 gigawatts of solar energy capacity by 2025, half of which should come from the siraj solar power project next year eif jan.2220. until this month, there had been little news about phase 2 of qatars massive lng expansion. but mcdermott international said last week that it had been awarded the front end engineering and design contract for five offshore wellhead platforms lngi jan.1221. bids for construction of all four trains for phase 1 of the lng expansion were submitted in september lngi sep.1520. but qp judged them to be too expensive and none met its targeted 50 week construction schedule. shortlisted contractors were asked to look for cost savings and submit new bids. the contract, which consultancy rystad estimates to be worth around 35 billion, is expected to be awarded by mar. 31. shortly after the construction contract is awarded, qp is expected to select foreign investments partners to take stakes of up to 30% in the phase 1 trains. exxon mobil, royal dutch shell, total, chevron, conocophillips and eni have been shortlisted. qp has repeatedly said that it is prepared to proceed without international investment partners if it determines that the offers it receives are not sufficiently attractive. but the shortlisted companies are expected to bid aggressively for what is expected to be the worlds lowest cost and most environmentally friendly lng lngi nov.920. rafiq latta, nicosia'"
      ]
     },
     "execution_count": 389,
     "metadata": {},
     "output_type": "execute_result"
    }
   ],
   "source": [
    "data['content_cleaned'][0]"
   ]
  },
  {
   "attachments": {},
   "cell_type": "markdown",
   "metadata": {},
   "source": [
    "### Remove punctuation"
   ]
  },
  {
   "attachments": {},
   "cell_type": "markdown",
   "metadata": {},
   "source": [
    "- 0.2% would turn to 02 \n",
    "- 2.2 million would turn into 22 million\n",
    "-> we have to be careful how we delete the punctuations"
   ]
  },
  {
   "cell_type": "code",
   "execution_count": 390,
   "metadata": {},
   "outputs": [],
   "source": [
    "def remove_periods(text):\n",
    "    # This regex pattern matches a period that is NOT followed by a digit\n",
    "    pattern = r'\\.(?!\\d)'\n",
    "    # Replace matched periods with an empty string\n",
    "    result = re.sub(pattern, '', text)\n",
    "    # Remove all commas\n",
    "    result = result.replace(',', '')\n",
    "    return result\n",
    "\n",
    "data['content_cleaned'] = data['content_cleaned'].apply(remove_periods)"
   ]
  },
  {
   "attachments": {},
   "cell_type": "markdown",
   "metadata": {},
   "source": [
    "### Remove stop words"
   ]
  },
  {
   "cell_type": "code",
   "execution_count": 391,
   "metadata": {},
   "outputs": [],
   "source": [
    "def remove_stop_words(text):\n",
    "    tokens = text.split()\n",
    "    tokens = [word for word in tokens if word not in stop_words]\n",
    "    return ' '.join(tokens)\n",
    "\n",
    "data['content_cleaned'] = data['content_cleaned'].apply(remove_stop_words)"
   ]
  },
  {
   "attachments": {},
   "cell_type": "markdown",
   "metadata": {},
   "source": [
    "### Tokenization"
   ]
  },
  {
   "cell_type": "code",
   "execution_count": 392,
   "metadata": {},
   "outputs": [],
   "source": [
    "def tokenize(text):\n",
    "    return text.split()\n",
    "\n",
    "data['content_tokenized'] = data['content_cleaned'].apply(tokenize)"
   ]
  },
  {
   "attachments": {},
   "cell_type": "markdown",
   "metadata": {},
   "source": [
    "### Stemming"
   ]
  },
  {
   "attachments": {},
   "cell_type": "markdown",
   "metadata": {},
   "source": [
    "here we will stemm the words in the content column"
   ]
  },
  {
   "cell_type": "code",
   "execution_count": 393,
   "metadata": {},
   "outputs": [],
   "source": [
    "def stem_text(tokens):\n",
    "    return ' '.join(stemmer.stem(word) for word in tokens)\n",
    "\n",
    "data['content_stemmed'] = data['content_tokenized'].apply(stem_text)"
   ]
  },
  {
   "attachments": {},
   "cell_type": "markdown",
   "metadata": {},
   "source": [
    "### Lemmatization"
   ]
  },
  {
   "attachments": {},
   "cell_type": "markdown",
   "metadata": {},
   "source": [
    "here we will lemmatize the words in the content column"
   ]
  },
  {
   "cell_type": "code",
   "execution_count": 394,
   "metadata": {},
   "outputs": [],
   "source": [
    "def lemmatize_text(tokens):\n",
    "    return ' '.join(lemmatizer.lemmatize(word) for word in tokens)\n",
    "\n",
    "data['content_lemmatized'] = data['content_tokenized'].apply(lemmatize_text)"
   ]
  },
  {
   "attachments": {},
   "cell_type": "markdown",
   "metadata": {},
   "source": [
    "### Result"
   ]
  },
  {
   "cell_type": "code",
   "execution_count": 395,
   "metadata": {},
   "outputs": [
    {
     "data": {
      "text/plain": [
       "'[\"Qatar Petroleum ( QP) is targeting aggressive cuts in its greenhouse gas emissions as it prepares to launch Phase 2 of its planned 48 million ton per year LNG expansion. In its latest Sustainability Report published on Wednesday, QP said its goals include `` reducing the emissions intensity of Qatar\\'s LNG facilities by 25% and of its upstream facilities by at least 15%. \\'\\' The company is also aiming to reduce gas flaring intensity across its upstream facilities by more than 75% and has raised its carbon capture and storage ambitions from 5 million tons/yr to 7 million tons/yr by 2027. About 2.2 million tons/yr of the carbon capture goal will come from the 32 million ton/yr Phase 1 of the LNG expansion, also known as the North Field East project. A further 1.1 million tons/yr will come from Phase 2, known as the North Field South project, which will raise Qatar\\'s LNG capacity by a further 16 million tons/yr. Qatar currently has an LNG production capacity of around 78 million tons/yr and is eyeing a phased expansion to 126 million tons/yr. QP says it should be able to eliminate routine gas flaring by 2030, with methane emissions limited `` by setting a methane intensity target of 0.2% across all facilities by 2025. \\'\\' The company also plans to build some 1.6 gigawatts of solar energy capacity by 2025, half of which should come from the Siraj solar power project next year ( EIF Jan.22\\'20). Until this month, there had been little news about Phase 2 of Qatar\\'s massive LNG expansion. But McDermott International said last week that it had been awarded the front-end engineering and design contract for five offshore wellhead platforms ( LNGI Jan.12\\'21). Bids for construction of all four trains for Phase 1 of the LNG expansion were submitted in September ( LNGI Sep.15\\'20). But QP judged them to be too expensive and none met its targeted 50-week construction schedule. Shortlisted contractors were asked to look for cost savings and submit new bids. The contract, which consultancy Rystad estimates to be worth around $ 35 billion, is expected to be awarded by Mar. 31. Shortly after the construction contract is awarded, QP is expected to select foreign investments partners to take stakes of up to 30% in the Phase 1 trains. Exxon Mobil, Royal Dutch Shell, Total, Chevron, ConocoPhillips and Eni have been shortlisted. QP has repeatedly said that it is prepared to proceed without international investment partners if it determines that the offers it receives are not sufficiently attractive. But the shortlisted companies are expected to bid aggressively for what is expected to be the world\\'s lowest-cost and most environmentally friendly LNG ( LNGI Nov.9\\'20). Rafiq Latta, Nicosia\"]'"
      ]
     },
     "execution_count": 395,
     "metadata": {},
     "output_type": "execute_result"
    }
   ],
   "source": [
    "data[\"content\"][0]"
   ]
  },
  {
   "cell_type": "code",
   "execution_count": 396,
   "metadata": {},
   "outputs": [
    {
     "data": {
      "text/plain": [
       "'qatar petroleum qp targeting aggressive cuts greenhouse gas emissions prepares launch phase 2 planned 48 million ton per year lng expansion latest sustainability report published wednesday qp said goals include reducing emissions intensity qatars lng facilities 25% upstream facilities least 15% company also aiming reduce gas flaring intensity across upstream facilities 75% raised carbon capture storage ambitions 5 million tons per year 7 million tons per year 2027 2.2 million tons per year carbon capture goal come 32 million ton per year phase 1 lng expansion also known north field east project 1.1 million tons per year come phase 2 known north field south project raise qatars lng capacity 16 million tons per year qatar currently lng production capacity around 78 million tons per year eyeing phased expansion 126 million tons per year qp says able eliminate routine gas flaring 2030 methane emissions limited setting methane intensity target 0.2% across facilities 2025 company also plans build 1.6 gigawatts solar energy capacity 2025 half come siraj solar power project next year eif jan.2220 month little news phase 2 qatars massive lng expansion mcdermott international said last week awarded front end engineering design contract five offshore wellhead platforms lngi jan.1221 bids construction four trains phase 1 lng expansion submitted september lngi sep.1520 qp judged expensive none met targeted 50 week construction schedule shortlisted contractors asked look cost savings submit new bids contract consultancy rystad estimates worth around 35 billion expected awarded mar 31 shortly construction contract awarded qp expected select foreign investments partners take stakes 30% phase 1 trains exxon mobil royal dutch shell total chevron conocophillips eni shortlisted qp repeatedly said prepared proceed without international investment partners determines offers receives sufficiently attractive shortlisted companies expected bid aggressively expected worlds lowest cost environmentally friendly lng lngi nov.920 rafiq latta nicosia'"
      ]
     },
     "execution_count": 396,
     "metadata": {},
     "output_type": "execute_result"
    }
   ],
   "source": [
    "data['content_cleaned'][0]"
   ]
  },
  {
   "cell_type": "code",
   "execution_count": 397,
   "metadata": {},
   "outputs": [
    {
     "data": {
      "text/plain": [
       "'qatar petroleum qp target aggress cut greenhous ga emiss prepar launch phase 2 plan 48 million ton per year lng expans latest sustain report publish wednesday qp said goal includ reduc emiss intens qatar lng facil 25% upstream facil least 15% compani also aim reduc ga flare intens across upstream facil 75% rais carbon captur storag ambit 5 million ton per year 7 million ton per year 2027 2.2 million ton per year carbon captur goal come 32 million ton per year phase 1 lng expans also known north field east project 1.1 million ton per year come phase 2 known north field south project rais qatar lng capac 16 million ton per year qatar current lng product capac around 78 million ton per year eye phase expans 126 million ton per year qp say abl elimin routin ga flare 2030 methan emiss limit set methan intens target 0.2% across facil 2025 compani also plan build 1.6 gigawatt solar energi capac 2025 half come siraj solar power project next year eif jan.2220 month littl news phase 2 qatar massiv lng expans mcdermott intern said last week award front end engin design contract five offshor wellhead platform lngi jan.1221 bid construct four train phase 1 lng expans submit septemb lngi sep.1520 qp judg expens none met target 50 week construct schedul shortlist contractor ask look cost save submit new bid contract consult rystad estim worth around 35 billion expect award mar 31 shortli construct contract award qp expect select foreign invest partner take stake 30% phase 1 train exxon mobil royal dutch shell total chevron conocophillip eni shortlist qp repeatedli said prepar proceed without intern invest partner determin offer receiv suffici attract shortlist compani expect bid aggress expect world lowest cost environment friendli lng lngi nov.920 rafiq latta nicosia'"
      ]
     },
     "execution_count": 397,
     "metadata": {},
     "output_type": "execute_result"
    }
   ],
   "source": [
    "data['content_stemmed'][0]"
   ]
  },
  {
   "cell_type": "code",
   "execution_count": 398,
   "metadata": {},
   "outputs": [
    {
     "data": {
      "text/plain": [
       "'qatar petroleum qp targeting aggressive cut greenhouse gas emission prepares launch phase 2 planned 48 million ton per year lng expansion latest sustainability report published wednesday qp said goal include reducing emission intensity qatar lng facility 25% upstream facility least 15% company also aiming reduce gas flaring intensity across upstream facility 75% raised carbon capture storage ambition 5 million ton per year 7 million ton per year 2027 2.2 million ton per year carbon capture goal come 32 million ton per year phase 1 lng expansion also known north field east project 1.1 million ton per year come phase 2 known north field south project raise qatar lng capacity 16 million ton per year qatar currently lng production capacity around 78 million ton per year eyeing phased expansion 126 million ton per year qp say able eliminate routine gas flaring 2030 methane emission limited setting methane intensity target 0.2% across facility 2025 company also plan build 1.6 gigawatts solar energy capacity 2025 half come siraj solar power project next year eif jan.2220 month little news phase 2 qatar massive lng expansion mcdermott international said last week awarded front end engineering design contract five offshore wellhead platform lngi jan.1221 bid construction four train phase 1 lng expansion submitted september lngi sep.1520 qp judged expensive none met targeted 50 week construction schedule shortlisted contractor asked look cost saving submit new bid contract consultancy rystad estimate worth around 35 billion expected awarded mar 31 shortly construction contract awarded qp expected select foreign investment partner take stake 30% phase 1 train exxon mobil royal dutch shell total chevron conocophillips eni shortlisted qp repeatedly said prepared proceed without international investment partner determines offer receives sufficiently attractive shortlisted company expected bid aggressively expected world lowest cost environmentally friendly lng lngi nov.920 rafiq latta nicosia'"
      ]
     },
     "execution_count": 398,
     "metadata": {},
     "output_type": "execute_result"
    }
   ],
   "source": [
    "data['content_lemmatized'][0]"
   ]
  },
  {
   "attachments": {},
   "cell_type": "markdown",
   "metadata": {},
   "source": [
    "### Next steps"
   ]
  },
  {
   "attachments": {},
   "cell_type": "markdown",
   "metadata": {},
   "source": [
    "- Text Analysis / NLP Task Preparation\n",
    "- Sentiment Analysis\n",
    "- Text Summarization\n",
    "- Save the cleaned data\n",
    "- Exploratory Data Analysis (EDA)\n",
    "\n",
    "\n",
    "the next steps could include limiting the vocabulary "
   ]
  }
 ],
 "metadata": {
  "kernelspec": {
   "display_name": "base",
   "language": "python",
   "name": "python3"
  },
  "language_info": {
   "codemirror_mode": {
    "name": "ipython",
    "version": 3
   },
   "file_extension": ".py",
   "mimetype": "text/x-python",
   "name": "python",
   "nbconvert_exporter": "python",
   "pygments_lexer": "ipython3",
   "version": "3.11.5"
  },
  "orig_nbformat": 4,
  "vscode": {
   "interpreter": {
    "hash": "cd9c78cbb62892232a2e8cf9a4bd699d988202e949c50bb9be5232199c394801"
   }
  }
 },
 "nbformat": 4,
 "nbformat_minor": 2
}
