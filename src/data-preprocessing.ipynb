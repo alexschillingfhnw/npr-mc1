{
 "cells": [
  {
   "attachments": {},
   "cell_type": "markdown",
   "metadata": {},
   "source": [
    "# Data Preprocessing"
   ]
  },
  {
   "attachments": {},
   "cell_type": "markdown",
   "metadata": {},
   "source": [
    "For our mini-challenge, we will be utilizing the Cleantech Media Dataset, which serves as an invaluable resource for businesses, researchers, and students interested in the latest developments in Natural Language Processing and Large Language Models within the realm of cleantech and sustainability. In an industry that is constantly evolving, having access to timely and accurate information is crucial. This dataset is specifically designed to address those needs.\n",
    "\n",
    "This dataset is accessible on Kaggle and is credited to [Janna Lipenkova](https://www.kaggle.com/datasets/jannalipenkova/cleantech-media-dataset)."
   ]
  },
  {
   "attachments": {},
   "cell_type": "markdown",
   "metadata": {},
   "source": [
    "## Imports"
   ]
  },
  {
   "cell_type": "code",
   "execution_count": 1,
   "metadata": {},
   "outputs": [
    {
     "name": "stderr",
     "output_type": "stream",
     "text": [
      "[nltk_data] Downloading package stopwords to /Users/nicko/nltk_data...\n",
      "[nltk_data]   Package stopwords is already up-to-date!\n"
     ]
    }
   ],
   "source": [
    "import os\n",
    "import pandas as pd\n",
    "import numpy as np\n",
    "\n",
    "import re\n",
    "import nltk\n",
    "from nltk.corpus import stopwords\n",
    "from bs4 import BeautifulSoup\n",
    "from nltk.stem import PorterStemmer, WordNetLemmatizer\n",
    "\n",
    "# Ensure you have the NLTK stopwords\n",
    "nltk.download('stopwords')\n",
    "stop_words = set(stopwords.words('english'))\n",
    "\n",
    "# Initialize stemmer and lemmatizer\n",
    "stemmer = PorterStemmer()\n",
    "lemmatizer = WordNetLemmatizer()"
   ]
  },
  {
   "attachments": {},
   "cell_type": "markdown",
   "metadata": {},
   "source": [
    "## Data"
   ]
  },
  {
   "attachments": {},
   "cell_type": "markdown",
   "metadata": {},
   "source": [
    "### Training Data"
   ]
  },
  {
   "attachments": {},
   "cell_type": "markdown",
   "metadata": {},
   "source": [
    "- Comprehensive Coverage: Access a wide range of media texts on cleantech topics, from renewable energy to carbon reduction.\n",
    "- Efficiency: Utilize the dataset for quick and accurate question-answering, aiding informed decision-making.\n",
    "- Regular Updates: Stay current with monthly updates reflecting the latest trends in cleantech.\n",
    "- Sustainability Focus: Contribute to the sustainability movement by leveraging valuable insights from the dataset."
   ]
  },
  {
   "cell_type": "code",
   "execution_count": 2,
   "metadata": {},
   "outputs": [
    {
     "data": {
      "text/html": [
       "<div>\n",
       "<style scoped>\n",
       "    .dataframe tbody tr th:only-of-type {\n",
       "        vertical-align: middle;\n",
       "    }\n",
       "\n",
       "    .dataframe tbody tr th {\n",
       "        vertical-align: top;\n",
       "    }\n",
       "\n",
       "    .dataframe thead th {\n",
       "        text-align: right;\n",
       "    }\n",
       "</style>\n",
       "<table border=\"1\" class=\"dataframe\">\n",
       "  <thead>\n",
       "    <tr style=\"text-align: right;\">\n",
       "      <th></th>\n",
       "      <th>title</th>\n",
       "      <th>date</th>\n",
       "      <th>author</th>\n",
       "      <th>content</th>\n",
       "      <th>domain</th>\n",
       "      <th>url</th>\n",
       "    </tr>\n",
       "  </thead>\n",
       "  <tbody>\n",
       "    <tr>\n",
       "      <th>0</th>\n",
       "      <td>Qatar to Slash Emissions as LNG Expansion Adva...</td>\n",
       "      <td>2021-01-13</td>\n",
       "      <td>NaN</td>\n",
       "      <td>[\"Qatar Petroleum ( QP) is targeting aggressiv...</td>\n",
       "      <td>energyintel</td>\n",
       "      <td>https://www.energyintel.com/0000017b-a7dc-de4c...</td>\n",
       "    </tr>\n",
       "    <tr>\n",
       "      <th>1</th>\n",
       "      <td>India Launches Its First 700 MW PHWR</td>\n",
       "      <td>2021-01-15</td>\n",
       "      <td>NaN</td>\n",
       "      <td>[\"• Nuclear Power Corp. of India Ltd. ( NPCIL)...</td>\n",
       "      <td>energyintel</td>\n",
       "      <td>https://www.energyintel.com/0000017b-a7dc-de4c...</td>\n",
       "    </tr>\n",
       "    <tr>\n",
       "      <th>2</th>\n",
       "      <td>New Chapter for US-China Energy Trade</td>\n",
       "      <td>2021-01-20</td>\n",
       "      <td>NaN</td>\n",
       "      <td>[\"New US President Joe Biden took office this ...</td>\n",
       "      <td>energyintel</td>\n",
       "      <td>https://www.energyintel.com/0000017b-a7dc-de4c...</td>\n",
       "    </tr>\n",
       "    <tr>\n",
       "      <th>3</th>\n",
       "      <td>Japan: Slow Restarts Cast Doubt on 2030 Energy...</td>\n",
       "      <td>2021-01-22</td>\n",
       "      <td>NaN</td>\n",
       "      <td>[\"The slow pace of Japanese reactor restarts c...</td>\n",
       "      <td>energyintel</td>\n",
       "      <td>https://www.energyintel.com/0000017b-a7dc-de4c...</td>\n",
       "    </tr>\n",
       "    <tr>\n",
       "      <th>4</th>\n",
       "      <td>NYC Pension Funds to Divest Fossil Fuel Shares</td>\n",
       "      <td>2021-01-25</td>\n",
       "      <td>NaN</td>\n",
       "      <td>[\"Two of New York City's largest pension funds...</td>\n",
       "      <td>energyintel</td>\n",
       "      <td>https://www.energyintel.com/0000017b-a7dc-de4c...</td>\n",
       "    </tr>\n",
       "  </tbody>\n",
       "</table>\n",
       "</div>"
      ],
      "text/plain": [
       "                                               title        date author  \\\n",
       "0  Qatar to Slash Emissions as LNG Expansion Adva...  2021-01-13    NaN   \n",
       "1               India Launches Its First 700 MW PHWR  2021-01-15    NaN   \n",
       "2              New Chapter for US-China Energy Trade  2021-01-20    NaN   \n",
       "3  Japan: Slow Restarts Cast Doubt on 2030 Energy...  2021-01-22    NaN   \n",
       "4     NYC Pension Funds to Divest Fossil Fuel Shares  2021-01-25    NaN   \n",
       "\n",
       "                                             content       domain  \\\n",
       "0  [\"Qatar Petroleum ( QP) is targeting aggressiv...  energyintel   \n",
       "1  [\"• Nuclear Power Corp. of India Ltd. ( NPCIL)...  energyintel   \n",
       "2  [\"New US President Joe Biden took office this ...  energyintel   \n",
       "3  [\"The slow pace of Japanese reactor restarts c...  energyintel   \n",
       "4  [\"Two of New York City's largest pension funds...  energyintel   \n",
       "\n",
       "                                                 url  \n",
       "0  https://www.energyintel.com/0000017b-a7dc-de4c...  \n",
       "1  https://www.energyintel.com/0000017b-a7dc-de4c...  \n",
       "2  https://www.energyintel.com/0000017b-a7dc-de4c...  \n",
       "3  https://www.energyintel.com/0000017b-a7dc-de4c...  \n",
       "4  https://www.energyintel.com/0000017b-a7dc-de4c...  "
      ]
     },
     "execution_count": 2,
     "metadata": {},
     "output_type": "execute_result"
    }
   ],
   "source": [
    "data = pd.read_csv('../data/raw/cleantech_media_dataset_v2_2024-02-23.csv', index_col=0).reset_index(drop=True)\n",
    "data.head()"
   ]
  },
  {
   "attachments": {},
   "cell_type": "markdown",
   "metadata": {},
   "source": [
    "### Evaluation data"
   ]
  },
  {
   "attachments": {},
   "cell_type": "markdown",
   "metadata": {},
   "source": [
    "- The dataset comes with a small, high-quality evaluation dataset for the \"Retrieval\" step in Retrieval-Augmented Generation\n",
    "- In addition, a small collection of human gold-standard query-passage-answer triplets will be provided for further evaluation"
   ]
  },
  {
   "cell_type": "code",
   "execution_count": 3,
   "metadata": {},
   "outputs": [
    {
     "data": {
      "text/html": [
       "<div>\n",
       "<style scoped>\n",
       "    .dataframe tbody tr th:only-of-type {\n",
       "        vertical-align: middle;\n",
       "    }\n",
       "\n",
       "    .dataframe tbody tr th {\n",
       "        vertical-align: top;\n",
       "    }\n",
       "\n",
       "    .dataframe thead th {\n",
       "        text-align: right;\n",
       "    }\n",
       "</style>\n",
       "<table border=\"1\" class=\"dataframe\">\n",
       "  <thead>\n",
       "    <tr style=\"text-align: right;\">\n",
       "      <th></th>\n",
       "      <th>example_id</th>\n",
       "      <th>question_id</th>\n",
       "      <th>question</th>\n",
       "      <th>relevant_text</th>\n",
       "      <th>answer</th>\n",
       "      <th>article_url</th>\n",
       "    </tr>\n",
       "  </thead>\n",
       "  <tbody>\n",
       "    <tr>\n",
       "      <th>0</th>\n",
       "      <td>1</td>\n",
       "      <td>1</td>\n",
       "      <td>What is the innovation behind Leclanché's new ...</td>\n",
       "      <td>Leclanché said it has developed an environment...</td>\n",
       "      <td>Leclanché's innovation is using a water-based ...</td>\n",
       "      <td>https://www.sgvoice.net/strategy/technology/23...</td>\n",
       "    </tr>\n",
       "    <tr>\n",
       "      <th>1</th>\n",
       "      <td>2</td>\n",
       "      <td>2</td>\n",
       "      <td>What is the EU’s Green Deal Industrial Plan?</td>\n",
       "      <td>The Green Deal Industrial Plan is a bid by the...</td>\n",
       "      <td>The EU’s Green Deal Industrial Plan aims to en...</td>\n",
       "      <td>https://www.sgvoice.net/policy/25396/eu-seeks-...</td>\n",
       "    </tr>\n",
       "    <tr>\n",
       "      <th>2</th>\n",
       "      <td>3</td>\n",
       "      <td>2</td>\n",
       "      <td>What is the EU’s Green Deal Industrial Plan?</td>\n",
       "      <td>The European counterpart to the US Inflation R...</td>\n",
       "      <td>The EU’s Green Deal Industrial Plan aims to en...</td>\n",
       "      <td>https://www.pv-magazine.com/2023/02/02/europea...</td>\n",
       "    </tr>\n",
       "    <tr>\n",
       "      <th>3</th>\n",
       "      <td>4</td>\n",
       "      <td>3</td>\n",
       "      <td>What are the four focus areas of the EU's Gree...</td>\n",
       "      <td>The new plan is fundamentally focused on four ...</td>\n",
       "      <td>The four focus areas of the EU's Green Deal In...</td>\n",
       "      <td>https://www.sgvoice.net/policy/25396/eu-seeks-...</td>\n",
       "    </tr>\n",
       "    <tr>\n",
       "      <th>4</th>\n",
       "      <td>5</td>\n",
       "      <td>4</td>\n",
       "      <td>When did the cooperation between GM and Honda ...</td>\n",
       "      <td>What caught our eye was a new hookup between G...</td>\n",
       "      <td>July 2013</td>\n",
       "      <td>https://cleantechnica.com/2023/05/08/general-m...</td>\n",
       "    </tr>\n",
       "  </tbody>\n",
       "</table>\n",
       "</div>"
      ],
      "text/plain": [
       "   example_id  question_id                                           question  \\\n",
       "0           1            1  What is the innovation behind Leclanché's new ...   \n",
       "1           2            2       What is the EU’s Green Deal Industrial Plan?   \n",
       "2           3            2       What is the EU’s Green Deal Industrial Plan?   \n",
       "3           4            3  What are the four focus areas of the EU's Gree...   \n",
       "4           5            4  When did the cooperation between GM and Honda ...   \n",
       "\n",
       "                                       relevant_text  \\\n",
       "0  Leclanché said it has developed an environment...   \n",
       "1  The Green Deal Industrial Plan is a bid by the...   \n",
       "2  The European counterpart to the US Inflation R...   \n",
       "3  The new plan is fundamentally focused on four ...   \n",
       "4  What caught our eye was a new hookup between G...   \n",
       "\n",
       "                                              answer  \\\n",
       "0  Leclanché's innovation is using a water-based ...   \n",
       "1  The EU’s Green Deal Industrial Plan aims to en...   \n",
       "2  The EU’s Green Deal Industrial Plan aims to en...   \n",
       "3  The four focus areas of the EU's Green Deal In...   \n",
       "4                                          July 2013   \n",
       "\n",
       "                                         article_url  \n",
       "0  https://www.sgvoice.net/strategy/technology/23...  \n",
       "1  https://www.sgvoice.net/policy/25396/eu-seeks-...  \n",
       "2  https://www.pv-magazine.com/2023/02/02/europea...  \n",
       "3  https://www.sgvoice.net/policy/25396/eu-seeks-...  \n",
       "4  https://cleantechnica.com/2023/05/08/general-m...  "
      ]
     },
     "execution_count": 3,
     "metadata": {},
     "output_type": "execute_result"
    }
   ],
   "source": [
    "data_eval = pd.read_csv('../data/evaluation/cleantech_rag_evaluation_data_2024-09-20.csv', delimiter=\";\")\n",
    "data_eval.head()"
   ]
  },
  {
   "attachments": {},
   "cell_type": "markdown",
   "metadata": {},
   "source": [
    "## Initial Exploration"
   ]
  },
  {
   "cell_type": "code",
   "execution_count": 4,
   "metadata": {},
   "outputs": [
    {
     "name": "stdout",
     "output_type": "stream",
     "text": [
      "<class 'pandas.core.frame.DataFrame'>\n",
      "RangeIndex: 9593 entries, 0 to 9592\n",
      "Data columns (total 6 columns):\n",
      " #   Column   Non-Null Count  Dtype \n",
      "---  ------   --------------  ----- \n",
      " 0   title    9593 non-null   object\n",
      " 1   date     9593 non-null   object\n",
      " 2   author   31 non-null     object\n",
      " 3   content  9593 non-null   object\n",
      " 4   domain   9593 non-null   object\n",
      " 5   url      9593 non-null   object\n",
      "dtypes: object(6)\n",
      "memory usage: 449.8+ KB\n",
      "None\n"
     ]
    }
   ],
   "source": [
    "print(data.info())"
   ]
  },
  {
   "cell_type": "code",
   "execution_count": 5,
   "metadata": {},
   "outputs": [
    {
     "name": "stdout",
     "output_type": "stream",
     "text": [
      "title         0\n",
      "date          0\n",
      "author     9562\n",
      "content       0\n",
      "domain        0\n",
      "url           0\n",
      "dtype: int64\n"
     ]
    }
   ],
   "source": [
    "# Check for missing values\n",
    "print(data.isnull().sum())"
   ]
  },
  {
   "cell_type": "code",
   "execution_count": 6,
   "metadata": {},
   "outputs": [
    {
     "name": "stdout",
     "output_type": "stream",
     "text": [
      "['energyintel' 'energyvoice' 'eurosolar' 'indorenergy' 'cleantechnica'\n",
      " 'decarbxpo' 'ecofriend' 'greenprophet' 'azocleantech' 'naturalgasintel'\n",
      " 'businessgreen' 'rechargenews' 'solarquarter' 'thinkgeoenergy'\n",
      " 'pv-magazine' 'solarpowerworldonline' 'pv-tech' 'solarpowerportal.co'\n",
      " 'solarindustrymag']\n"
     ]
    }
   ],
   "source": [
    "print(data[\"domain\"].unique())"
   ]
  },
  {
   "attachments": {},
   "cell_type": "markdown",
   "metadata": {},
   "source": [
    "Now we want to see what the text oin the column \"content\" looks like. This will give us a better idea on how the texts are structured so that we can make a good plan for the data cleaning process."
   ]
  },
  {
   "cell_type": "code",
   "execution_count": 7,
   "metadata": {},
   "outputs": [
    {
     "data": {
      "text/plain": [
       "'[\"Qatar Petroleum ( QP) is targeting aggressive cuts in its greenhouse gas emissions as it prepares to launch Phase 2 of its planned 48 million ton per year LNG expansion. In its latest Sustainability Report published on Wednesday, QP said its goals include `` reducing the emissions intensity of Qatar\\'s LNG facilities by 25% and of its upstream facilities by at least 15%. \\'\\' The company is also aiming to reduce gas flaring intensity across its upstream facilities by more than 75% and has raised its carbon capture and storage ambitions from 5 million tons/yr to 7 million tons/yr by 2027. About 2.2 million tons/yr of the carbon capture goal will come from the 32 million ton/yr Phase 1 of the LNG expansion, also known as the North Field East project. A further 1.1 million tons/yr will come from Phase 2, known as the North Field South project, which will raise Qatar\\'s LNG capacity by a further 16 million tons/yr. Qatar currently has an LNG production capacity of around 78 million tons/yr and is eyeing a phased expansion to 126 million tons/yr. QP says it should be able to eliminate routine gas flaring by 2030, with methane emissions limited `` by setting a methane intensity target of 0.2% across all facilities by 2025. \\'\\' The company also plans to build some 1.6 gigawatts of solar energy capacity by 2025, half of which should come from the Siraj solar power project next year ( EIF Jan.22\\'20). Until this month, there had been little news about Phase 2 of Qatar\\'s massive LNG expansion. But McDermott International said last week that it had been awarded the front-end engineering and design contract for five offshore wellhead platforms ( LNGI Jan.12\\'21). Bids for construction of all four trains for Phase 1 of the LNG expansion were submitted in September ( LNGI Sep.15\\'20). But QP judged them to be too expensive and none met its targeted 50-week construction schedule. Shortlisted contractors were asked to look for cost savings and submit new bids. The contract, which consultancy Rystad estimates to be worth around $ 35 billion, is expected to be awarded by Mar. 31. Shortly after the construction contract is awarded, QP is expected to select foreign investments partners to take stakes of up to 30% in the Phase 1 trains. Exxon Mobil, Royal Dutch Shell, Total, Chevron, ConocoPhillips and Eni have been shortlisted. QP has repeatedly said that it is prepared to proceed without international investment partners if it determines that the offers it receives are not sufficiently attractive. But the shortlisted companies are expected to bid aggressively for what is expected to be the world\\'s lowest-cost and most environmentally friendly LNG ( LNGI Nov.9\\'20). Rafiq Latta, Nicosia\"]'"
      ]
     },
     "execution_count": 7,
     "metadata": {},
     "output_type": "execute_result"
    }
   ],
   "source": [
    "data[\"content\"][0]"
   ]
  },
  {
   "attachments": {},
   "cell_type": "markdown",
   "metadata": {},
   "source": [
    "## Text Preprocessing"
   ]
  },
  {
   "attachments": {},
   "cell_type": "markdown",
   "metadata": {},
   "source": [
    "Effective text preprocessing is a critical step in preparing our data for further analysis, as it directly impacts the quality and accuracy of the results we can achieve. After conducting an initial exploration of the dataset, we identified several areas that require attention to ensure our text data is clean, consistent and usable for analysis.\n",
    "\n",
    "Text preprocessing in this case involves handling various nuances that are common in unstructured textual data, such as URLs, special characters and abbreviations. Each preprocessing decision must strike a balance between cleaning the data and preserving key information that could affect the integrity of the analysis.\n",
    "\n",
    "**The following steps outline our approach to cleaning the text data:**\n",
    "- Converting all text to lowercase ensures uniformity and reduces redundancy, as \"Carbon\" and \"carbon\" would be treated as the same word.\n",
    "- Removing URLs, because they dont provide meaningful insight.\n",
    "- Special characters (for example \", !, ?, ', ` etc.) can introduce noise if not handled carefully. However, not all punctuation marks should be removed entirely. For example, percentages (like \"0.2%\") or numerical ranges (\"2.2 million\") contain important information that must be preserved - if we delete these punctuations the information in the text would not be factually correct anymore (\"2.2 million\" would turn into 22 million).\n",
    "- The handling of symbols like `/` and `-` also requires nuance. A forward slash (`/`) used in phrases such as \"tons/yr\" should be replaced with \"per,\" while hyphens connecting words (for example \"carbon-negative\") should be replaced with spaces rather than being removed, to retain the meaning of compound terms. Hyphens surrounded by spaces, on the other hand, can be safely removed as they often act as separators rather than meaningful connectors.\n",
    "- Finally, careful consideration needs to be given to country abbreviations that could be misinterpreted as common words (for example \"US\" and \"us\"). Ensuring context-driven handling of these abbreviations is necessary to avoid misclassification or distortion of the data."
   ]
  },
  {
   "attachments": {},
   "cell_type": "markdown",
   "metadata": {},
   "source": [
    "### Lowercase"
   ]
  },
  {
   "cell_type": "code",
   "execution_count": 8,
   "metadata": {},
   "outputs": [],
   "source": [
    "def to_lowercase(text):\n",
    "    return text.lower()\n",
    "\n",
    "data['content_cleaned'] = data['content'].apply(to_lowercase)"
   ]
  },
  {
   "attachments": {},
   "cell_type": "markdown",
   "metadata": {},
   "source": [
    "### Remove HTML tags"
   ]
  },
  {
   "cell_type": "code",
   "execution_count": 9,
   "metadata": {},
   "outputs": [],
   "source": [
    "def remove_html_tags(text):\n",
    "    return BeautifulSoup(text, \"html.parser\").get_text()\n",
    "\n",
    "data['content_cleaned'] = data['content_cleaned'].apply(remove_html_tags)"
   ]
  },
  {
   "attachments": {},
   "cell_type": "markdown",
   "metadata": {},
   "source": [
    "### Remove URLs"
   ]
  },
  {
   "cell_type": "code",
   "execution_count": 10,
   "metadata": {},
   "outputs": [],
   "source": [
    "def remove_urls(text):\n",
    "    return re.sub(r'http\\S+|www\\S+|https\\S+', '', text)\n",
    "\n",
    "data['content_cleaned'] = data['content_cleaned'].apply(remove_urls)"
   ]
  },
  {
   "attachments": {},
   "cell_type": "markdown",
   "metadata": {},
   "source": [
    "### Remove Special Characters"
   ]
  },
  {
   "cell_type": "code",
   "execution_count": 11,
   "metadata": {},
   "outputs": [],
   "source": [
    "def remove_special_characters(text):\n",
    "    # Keep alphanumeric characters, certain punctuation, and hyphens/slashes while removing unwanted special characters\n",
    "    # Allow periods, commas, question marks, exclamation marks, percentage symbols, and ampersands\n",
    "    text = re.sub(r\"[\\\\\\'\\\"`]|[^A-Za-z0-9\\s\\-\\/\\.\\%&]\", '', text)\n",
    "\n",
    "    # Replace \"/\" with \" per \" and specific words with their full forms\n",
    "    text = re.sub(r'(\\w+)/(\\w+)', lambda m: f\"{m.group(1)} per {'year' if m.group(2) == 'yr' else m.group(2)}\", text)\n",
    "    \n",
    "    # Remove hyphens surrounded by spaces\n",
    "    text = re.sub(r'\\s*-\\s*', '', text)\n",
    "\n",
    "    # Remove hyphens not surrounded by words\n",
    "    text = re.sub(r'(?<!\\w)-|-(?!\\w)', '', text)\n",
    "\n",
    "    text = text.replace('%', ' percent')\n",
    "\n",
    "    # Remove double space\n",
    "    text = re.sub(r'\\s+', ' ', text).strip()\n",
    "    \n",
    "    return text\n",
    "\n",
    "data['content_cleaned'] = data['content_cleaned'].apply(remove_special_characters)"
   ]
  },
  {
   "attachments": {},
   "cell_type": "markdown",
   "metadata": {},
   "source": [
    "### Remove punctuation"
   ]
  },
  {
   "cell_type": "code",
   "execution_count": 12,
   "metadata": {},
   "outputs": [],
   "source": [
    "def remove_periods(text):\n",
    "    # This regex pattern matches a period that is NOT followed by a digit\n",
    "    pattern = r'\\.(?!\\d)'\n",
    "\n",
    "    # Replace matched periods with an empty string\n",
    "    result = re.sub(pattern, '', text)\n",
    "    \n",
    "    return result\n",
    "\n",
    "data['content_cleaned'] = data['content_cleaned'].apply(remove_periods)"
   ]
  },
  {
   "attachments": {},
   "cell_type": "markdown",
   "metadata": {},
   "source": [
    "### Remove stop words"
   ]
  },
  {
   "cell_type": "code",
   "execution_count": 13,
   "metadata": {},
   "outputs": [],
   "source": [
    "def remove_stop_words(text):\n",
    "    tokens = text.split()\n",
    "    tokens = [word for word in tokens if word not in stop_words]\n",
    "    return ' '.join(tokens)\n",
    "\n",
    "data['content_cleaned'] = data['content_cleaned'].apply(remove_stop_words)"
   ]
  },
  {
   "attachments": {},
   "cell_type": "markdown",
   "metadata": {},
   "source": [
    "### Tokenization"
   ]
  },
  {
   "attachments": {},
   "cell_type": "markdown",
   "metadata": {},
   "source": [
    "Tokenization is the process of breaking text down into individual units, typically words or tokens. This step is essential for most text preprocessing tasks as it allows us to manipulate and analyze the content at the word level. By splitting the content into tokens, we can more easily apply further processing techniques like stemming and lemmatization."
   ]
  },
  {
   "cell_type": "code",
   "execution_count": 14,
   "metadata": {},
   "outputs": [],
   "source": [
    "def tokenize(text):\n",
    "    return text.split()\n",
    "\n",
    "data['content_tokenized'] = data['content_cleaned'].apply(tokenize)"
   ]
  },
  {
   "attachments": {},
   "cell_type": "markdown",
   "metadata": {},
   "source": [
    "### Stemming"
   ]
  },
  {
   "attachments": {},
   "cell_type": "markdown",
   "metadata": {},
   "source": [
    "Stemming is the process of reducing words to their base or root form. It involves stripping off word endings to standardize the word, which helps in reducing the complexity of the vocabulary without losing the essential meaning. This is especially useful in cases where different word forms (e.g., \"running\" and \"runner\") need to be treated as the same root concept."
   ]
  },
  {
   "cell_type": "code",
   "execution_count": 15,
   "metadata": {},
   "outputs": [],
   "source": [
    "def stem_text(tokens):\n",
    "    return ' '.join(stemmer.stem(word) for word in tokens)\n",
    "\n",
    "data['content_stemmed'] = data['content_tokenized'].apply(stem_text)"
   ]
  },
  {
   "attachments": {},
   "cell_type": "markdown",
   "metadata": {},
   "source": [
    "### Lemmatization"
   ]
  },
  {
   "attachments": {},
   "cell_type": "markdown",
   "metadata": {},
   "source": [
    "Lemmatization, similar to stemming, is a technique used to reduce words to their base form. However, unlike stemming, lemmatization takes the context and grammatical role of the word into account, providing a more accurate base form. This process helps normalize the text while maintaining proper word meaning, which is particularly beneficial for more nuanced text analysis tasks."
   ]
  },
  {
   "cell_type": "code",
   "execution_count": 16,
   "metadata": {},
   "outputs": [],
   "source": [
    "def lemmatize_text(tokens):\n",
    "    return ' '.join(lemmatizer.lemmatize(word) for word in tokens)\n",
    "\n",
    "data['content_lemmatized'] = data['content_tokenized'].apply(lemmatize_text)"
   ]
  },
  {
   "attachments": {},
   "cell_type": "markdown",
   "metadata": {},
   "source": [
    "### Result"
   ]
  },
  {
   "attachments": {},
   "cell_type": "markdown",
   "metadata": {},
   "source": [
    "In this section, we present the results of our data preprocessing, comparing the original content with the cleaned, tokenized, stemmed and lemmatized versions. A notable observation is the presence of numerous abbreviations, such as company or organization names. Since these abbreviations do not represent standard words, we anticipate that their frequency within the corpus will be low. As a result, they are likely to be filtered out during vocabulary pruning, thereby streamlining the text and enhancing the language model's ability to interpret and process the content more effectively."
   ]
  },
  {
   "attachments": {},
   "cell_type": "markdown",
   "metadata": {},
   "source": [
    "#### Initial Content"
   ]
  },
  {
   "cell_type": "code",
   "execution_count": 17,
   "metadata": {},
   "outputs": [
    {
     "data": {
      "text/plain": [
       "'[\"Qatar Petroleum ( QP) is targeting aggressive cuts in its greenhouse gas emissions as it prepares to launch Phase 2 of its planned 48 million ton per year LNG expansion. In its latest Sustainability Report published on Wednesday, QP said its goals include `` reducing the emissions intensity of Qatar\\'s LNG facilities by 25% and of its upstream facilities by at least 15%. \\'\\' The company is also aiming to reduce gas flaring intensity across its upstream facilities by more than 75% and has raised its carbon capture and storage ambitions from 5 million tons/yr to 7 million tons/yr by 2027. About 2.2 million tons/yr of the carbon capture goal will come from the 32 million ton/yr Phase 1 of the LNG expansion, also known as the North Field East project. A further 1.1 million tons/yr will come from Phase 2, known as the North Field South project, which will raise Qatar\\'s LNG capacity by a further 16 million tons/yr. Qatar currently has an LNG production capacity of around 78 million tons/yr and is eyeing a phased expansion to 126 million tons/yr. QP says it should be able to eliminate routine gas flaring by 2030, with methane emissions limited `` by setting a methane intensity target of 0.2% across all facilities by 2025. \\'\\' The company also plans to build some 1.6 gigawatts of solar energy capacity by 2025, half of which should come from the Siraj solar power project next year ( EIF Jan.22\\'20). Until this month, there had been little news about Phase 2 of Qatar\\'s massive LNG expansion. But McDermott International said last week that it had been awarded the front-end engineering and design contract for five offshore wellhead platforms ( LNGI Jan.12\\'21). Bids for construction of all four trains for Phase 1 of the LNG expansion were submitted in September ( LNGI Sep.15\\'20). But QP judged them to be too expensive and none met its targeted 50-week construction schedule. Shortlisted contractors were asked to look for cost savings and submit new bids. The contract, which consultancy Rystad estimates to be worth around $ 35 billion, is expected to be awarded by Mar. 31. Shortly after the construction contract is awarded, QP is expected to select foreign investments partners to take stakes of up to 30% in the Phase 1 trains. Exxon Mobil, Royal Dutch Shell, Total, Chevron, ConocoPhillips and Eni have been shortlisted. QP has repeatedly said that it is prepared to proceed without international investment partners if it determines that the offers it receives are not sufficiently attractive. But the shortlisted companies are expected to bid aggressively for what is expected to be the world\\'s lowest-cost and most environmentally friendly LNG ( LNGI Nov.9\\'20). Rafiq Latta, Nicosia\"]'"
      ]
     },
     "execution_count": 17,
     "metadata": {},
     "output_type": "execute_result"
    }
   ],
   "source": [
    "data[\"content\"][0]"
   ]
  },
  {
   "attachments": {},
   "cell_type": "markdown",
   "metadata": {},
   "source": [
    "#### Cleaned Content"
   ]
  },
  {
   "cell_type": "code",
   "execution_count": 18,
   "metadata": {},
   "outputs": [
    {
     "data": {
      "text/plain": [
       "'qatar petroleum qp targeting aggressive cuts greenhouse gas emissions prepares launch phase 2 planned 48 million ton per year lng expansion latest sustainability report published wednesday qp said goals include reducing emissions intensity qatars lng facilities 25 percent upstream facilities least 15 percent company also aiming reduce gas flaring intensity across upstream facilities 75 percent raised carbon capture storage ambitions 5 million tons per year 7 million tons per year 2027 2.2 million tons per year carbon capture goal come 32 million ton per year phase 1 lng expansion also known north field east project 1.1 million tons per year come phase 2 known north field south project raise qatars lng capacity 16 million tons per year qatar currently lng production capacity around 78 million tons per year eyeing phased expansion 126 million tons per year qp says able eliminate routine gas flaring 2030 methane emissions limited setting methane intensity target 0.2 percent across facilities 2025 company also plans build 1.6 gigawatts solar energy capacity 2025 half come siraj solar power project next year eif jan.2220 month little news phase 2 qatars massive lng expansion mcdermott international said last week awarded frontend engineering design contract five offshore wellhead platforms lngi jan.1221 bids construction four trains phase 1 lng expansion submitted september lngi sep.1520 qp judged expensive none met targeted 50week construction schedule shortlisted contractors asked look cost savings submit new bids contract consultancy rystad estimates worth around 35 billion expected awarded mar 31 shortly construction contract awarded qp expected select foreign investments partners take stakes 30 percent phase 1 trains exxon mobil royal dutch shell total chevron conocophillips eni shortlisted qp repeatedly said prepared proceed without international investment partners determines offers receives sufficiently attractive shortlisted companies expected bid aggressively expected worlds lowestcost environmentally friendly lng lngi nov.920 rafiq latta nicosia'"
      ]
     },
     "execution_count": 18,
     "metadata": {},
     "output_type": "execute_result"
    }
   ],
   "source": [
    "data['content_cleaned'][0]"
   ]
  },
  {
   "attachments": {},
   "cell_type": "markdown",
   "metadata": {},
   "source": [
    "#### Cleaned & Tokenized Content"
   ]
  },
  {
   "cell_type": "code",
   "execution_count": 19,
   "metadata": {},
   "outputs": [
    {
     "data": {
      "text/plain": [
       "['qatar',\n",
       " 'petroleum',\n",
       " 'qp',\n",
       " 'targeting',\n",
       " 'aggressive',\n",
       " 'cuts',\n",
       " 'greenhouse',\n",
       " 'gas',\n",
       " 'emissions',\n",
       " 'prepares',\n",
       " 'launch',\n",
       " 'phase',\n",
       " '2',\n",
       " 'planned',\n",
       " '48',\n",
       " 'million',\n",
       " 'ton',\n",
       " 'per',\n",
       " 'year',\n",
       " 'lng',\n",
       " 'expansion',\n",
       " 'latest',\n",
       " 'sustainability',\n",
       " 'report',\n",
       " 'published',\n",
       " 'wednesday',\n",
       " 'qp',\n",
       " 'said',\n",
       " 'goals',\n",
       " 'include',\n",
       " 'reducing',\n",
       " 'emissions',\n",
       " 'intensity',\n",
       " 'qatars',\n",
       " 'lng',\n",
       " 'facilities',\n",
       " '25',\n",
       " 'percent',\n",
       " 'upstream',\n",
       " 'facilities',\n",
       " 'least',\n",
       " '15',\n",
       " 'percent',\n",
       " 'company',\n",
       " 'also',\n",
       " 'aiming',\n",
       " 'reduce',\n",
       " 'gas',\n",
       " 'flaring',\n",
       " 'intensity',\n",
       " 'across',\n",
       " 'upstream',\n",
       " 'facilities',\n",
       " '75',\n",
       " 'percent',\n",
       " 'raised',\n",
       " 'carbon',\n",
       " 'capture',\n",
       " 'storage',\n",
       " 'ambitions',\n",
       " '5',\n",
       " 'million',\n",
       " 'tons',\n",
       " 'per',\n",
       " 'year',\n",
       " '7',\n",
       " 'million',\n",
       " 'tons',\n",
       " 'per',\n",
       " 'year',\n",
       " '2027',\n",
       " '2.2',\n",
       " 'million',\n",
       " 'tons',\n",
       " 'per',\n",
       " 'year',\n",
       " 'carbon',\n",
       " 'capture',\n",
       " 'goal',\n",
       " 'come',\n",
       " '32',\n",
       " 'million',\n",
       " 'ton',\n",
       " 'per',\n",
       " 'year',\n",
       " 'phase',\n",
       " '1',\n",
       " 'lng',\n",
       " 'expansion',\n",
       " 'also',\n",
       " 'known',\n",
       " 'north',\n",
       " 'field',\n",
       " 'east',\n",
       " 'project',\n",
       " '1.1',\n",
       " 'million',\n",
       " 'tons',\n",
       " 'per',\n",
       " 'year',\n",
       " 'come',\n",
       " 'phase',\n",
       " '2',\n",
       " 'known',\n",
       " 'north',\n",
       " 'field',\n",
       " 'south',\n",
       " 'project',\n",
       " 'raise',\n",
       " 'qatars',\n",
       " 'lng',\n",
       " 'capacity',\n",
       " '16',\n",
       " 'million',\n",
       " 'tons',\n",
       " 'per',\n",
       " 'year',\n",
       " 'qatar',\n",
       " 'currently',\n",
       " 'lng',\n",
       " 'production',\n",
       " 'capacity',\n",
       " 'around',\n",
       " '78',\n",
       " 'million',\n",
       " 'tons',\n",
       " 'per',\n",
       " 'year',\n",
       " 'eyeing',\n",
       " 'phased',\n",
       " 'expansion',\n",
       " '126',\n",
       " 'million',\n",
       " 'tons',\n",
       " 'per',\n",
       " 'year',\n",
       " 'qp',\n",
       " 'says',\n",
       " 'able',\n",
       " 'eliminate',\n",
       " 'routine',\n",
       " 'gas',\n",
       " 'flaring',\n",
       " '2030',\n",
       " 'methane',\n",
       " 'emissions',\n",
       " 'limited',\n",
       " 'setting',\n",
       " 'methane',\n",
       " 'intensity',\n",
       " 'target',\n",
       " '0.2',\n",
       " 'percent',\n",
       " 'across',\n",
       " 'facilities',\n",
       " '2025',\n",
       " 'company',\n",
       " 'also',\n",
       " 'plans',\n",
       " 'build',\n",
       " '1.6',\n",
       " 'gigawatts',\n",
       " 'solar',\n",
       " 'energy',\n",
       " 'capacity',\n",
       " '2025',\n",
       " 'half',\n",
       " 'come',\n",
       " 'siraj',\n",
       " 'solar',\n",
       " 'power',\n",
       " 'project',\n",
       " 'next',\n",
       " 'year',\n",
       " 'eif',\n",
       " 'jan.2220',\n",
       " 'month',\n",
       " 'little',\n",
       " 'news',\n",
       " 'phase',\n",
       " '2',\n",
       " 'qatars',\n",
       " 'massive',\n",
       " 'lng',\n",
       " 'expansion',\n",
       " 'mcdermott',\n",
       " 'international',\n",
       " 'said',\n",
       " 'last',\n",
       " 'week',\n",
       " 'awarded',\n",
       " 'frontend',\n",
       " 'engineering',\n",
       " 'design',\n",
       " 'contract',\n",
       " 'five',\n",
       " 'offshore',\n",
       " 'wellhead',\n",
       " 'platforms',\n",
       " 'lngi',\n",
       " 'jan.1221',\n",
       " 'bids',\n",
       " 'construction',\n",
       " 'four',\n",
       " 'trains',\n",
       " 'phase',\n",
       " '1',\n",
       " 'lng',\n",
       " 'expansion',\n",
       " 'submitted',\n",
       " 'september',\n",
       " 'lngi',\n",
       " 'sep.1520',\n",
       " 'qp',\n",
       " 'judged',\n",
       " 'expensive',\n",
       " 'none',\n",
       " 'met',\n",
       " 'targeted',\n",
       " '50week',\n",
       " 'construction',\n",
       " 'schedule',\n",
       " 'shortlisted',\n",
       " 'contractors',\n",
       " 'asked',\n",
       " 'look',\n",
       " 'cost',\n",
       " 'savings',\n",
       " 'submit',\n",
       " 'new',\n",
       " 'bids',\n",
       " 'contract',\n",
       " 'consultancy',\n",
       " 'rystad',\n",
       " 'estimates',\n",
       " 'worth',\n",
       " 'around',\n",
       " '35',\n",
       " 'billion',\n",
       " 'expected',\n",
       " 'awarded',\n",
       " 'mar',\n",
       " '31',\n",
       " 'shortly',\n",
       " 'construction',\n",
       " 'contract',\n",
       " 'awarded',\n",
       " 'qp',\n",
       " 'expected',\n",
       " 'select',\n",
       " 'foreign',\n",
       " 'investments',\n",
       " 'partners',\n",
       " 'take',\n",
       " 'stakes',\n",
       " '30',\n",
       " 'percent',\n",
       " 'phase',\n",
       " '1',\n",
       " 'trains',\n",
       " 'exxon',\n",
       " 'mobil',\n",
       " 'royal',\n",
       " 'dutch',\n",
       " 'shell',\n",
       " 'total',\n",
       " 'chevron',\n",
       " 'conocophillips',\n",
       " 'eni',\n",
       " 'shortlisted',\n",
       " 'qp',\n",
       " 'repeatedly',\n",
       " 'said',\n",
       " 'prepared',\n",
       " 'proceed',\n",
       " 'without',\n",
       " 'international',\n",
       " 'investment',\n",
       " 'partners',\n",
       " 'determines',\n",
       " 'offers',\n",
       " 'receives',\n",
       " 'sufficiently',\n",
       " 'attractive',\n",
       " 'shortlisted',\n",
       " 'companies',\n",
       " 'expected',\n",
       " 'bid',\n",
       " 'aggressively',\n",
       " 'expected',\n",
       " 'worlds',\n",
       " 'lowestcost',\n",
       " 'environmentally',\n",
       " 'friendly',\n",
       " 'lng',\n",
       " 'lngi',\n",
       " 'nov.920',\n",
       " 'rafiq',\n",
       " 'latta',\n",
       " 'nicosia']"
      ]
     },
     "execution_count": 19,
     "metadata": {},
     "output_type": "execute_result"
    }
   ],
   "source": [
    "data['content_tokenized'][0]"
   ]
  },
  {
   "attachments": {},
   "cell_type": "markdown",
   "metadata": {},
   "source": [
    "#### Cleaned & Stemmed Content"
   ]
  },
  {
   "cell_type": "code",
   "execution_count": 20,
   "metadata": {},
   "outputs": [
    {
     "data": {
      "text/plain": [
       "'qatar petroleum qp target aggress cut greenhous ga emiss prepar launch phase 2 plan 48 million ton per year lng expans latest sustain report publish wednesday qp said goal includ reduc emiss intens qatar lng facil 25 percent upstream facil least 15 percent compani also aim reduc ga flare intens across upstream facil 75 percent rais carbon captur storag ambit 5 million ton per year 7 million ton per year 2027 2.2 million ton per year carbon captur goal come 32 million ton per year phase 1 lng expans also known north field east project 1.1 million ton per year come phase 2 known north field south project rais qatar lng capac 16 million ton per year qatar current lng product capac around 78 million ton per year eye phase expans 126 million ton per year qp say abl elimin routin ga flare 2030 methan emiss limit set methan intens target 0.2 percent across facil 2025 compani also plan build 1.6 gigawatt solar energi capac 2025 half come siraj solar power project next year eif jan.2220 month littl news phase 2 qatar massiv lng expans mcdermott intern said last week award frontend engin design contract five offshor wellhead platform lngi jan.1221 bid construct four train phase 1 lng expans submit septemb lngi sep.1520 qp judg expens none met target 50week construct schedul shortlist contractor ask look cost save submit new bid contract consult rystad estim worth around 35 billion expect award mar 31 shortli construct contract award qp expect select foreign invest partner take stake 30 percent phase 1 train exxon mobil royal dutch shell total chevron conocophillip eni shortlist qp repeatedli said prepar proceed without intern invest partner determin offer receiv suffici attract shortlist compani expect bid aggress expect world lowestcost environment friendli lng lngi nov.920 rafiq latta nicosia'"
      ]
     },
     "execution_count": 20,
     "metadata": {},
     "output_type": "execute_result"
    }
   ],
   "source": [
    "data['content_stemmed'][0]"
   ]
  },
  {
   "attachments": {},
   "cell_type": "markdown",
   "metadata": {},
   "source": [
    "#### Cleaned & Lemmatized Content"
   ]
  },
  {
   "cell_type": "code",
   "execution_count": 21,
   "metadata": {},
   "outputs": [
    {
     "data": {
      "text/plain": [
       "'qatar petroleum qp targeting aggressive cut greenhouse gas emission prepares launch phase 2 planned 48 million ton per year lng expansion latest sustainability report published wednesday qp said goal include reducing emission intensity qatar lng facility 25 percent upstream facility least 15 percent company also aiming reduce gas flaring intensity across upstream facility 75 percent raised carbon capture storage ambition 5 million ton per year 7 million ton per year 2027 2.2 million ton per year carbon capture goal come 32 million ton per year phase 1 lng expansion also known north field east project 1.1 million ton per year come phase 2 known north field south project raise qatar lng capacity 16 million ton per year qatar currently lng production capacity around 78 million ton per year eyeing phased expansion 126 million ton per year qp say able eliminate routine gas flaring 2030 methane emission limited setting methane intensity target 0.2 percent across facility 2025 company also plan build 1.6 gigawatts solar energy capacity 2025 half come siraj solar power project next year eif jan.2220 month little news phase 2 qatar massive lng expansion mcdermott international said last week awarded frontend engineering design contract five offshore wellhead platform lngi jan.1221 bid construction four train phase 1 lng expansion submitted september lngi sep.1520 qp judged expensive none met targeted 50week construction schedule shortlisted contractor asked look cost saving submit new bid contract consultancy rystad estimate worth around 35 billion expected awarded mar 31 shortly construction contract awarded qp expected select foreign investment partner take stake 30 percent phase 1 train exxon mobil royal dutch shell total chevron conocophillips eni shortlisted qp repeatedly said prepared proceed without international investment partner determines offer receives sufficiently attractive shortlisted company expected bid aggressively expected world lowestcost environmentally friendly lng lngi nov.920 rafiq latta nicosia'"
      ]
     },
     "execution_count": 21,
     "metadata": {},
     "output_type": "execute_result"
    }
   ],
   "source": [
    "data['content_lemmatized'][0]"
   ]
  },
  {
   "attachments": {},
   "cell_type": "markdown",
   "metadata": {},
   "source": [
    "### Save Processed Data"
   ]
  },
  {
   "cell_type": "code",
   "execution_count": null,
   "metadata": {},
   "outputs": [],
   "source": []
  },
  {
   "attachments": {},
   "cell_type": "markdown",
   "metadata": {},
   "source": [
    "### Next steps"
   ]
  },
  {
   "attachments": {},
   "cell_type": "markdown",
   "metadata": {},
   "source": [
    "- Text Analysis / NLP Task Preparation\n",
    "- Sentiment Analysis\n",
    "- Text Summarization\n",
    "- Save the cleaned data\n",
    "- Exploratory Data Analysis (EDA)\n",
    "\n",
    "\n",
    "the next steps could include limiting the vocabulary "
   ]
  }
 ],
 "metadata": {
  "kernelspec": {
   "display_name": "Python 3",
   "language": "python",
   "name": "python3"
  },
  "language_info": {
   "codemirror_mode": {
    "name": "ipython",
    "version": 3
   },
   "file_extension": ".py",
   "mimetype": "text/x-python",
   "name": "python",
   "nbconvert_exporter": "python",
   "pygments_lexer": "ipython3",
   "version": "3.11.5"
  },
  "orig_nbformat": 4
 },
 "nbformat": 4,
 "nbformat_minor": 2
}
