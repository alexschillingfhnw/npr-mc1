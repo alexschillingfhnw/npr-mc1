{
 "cells": [
  {
   "attachments": {},
   "cell_type": "markdown",
   "metadata": {},
   "source": [
    "# Data Preprocessing"
   ]
  },
  {
   "attachments": {},
   "cell_type": "markdown",
   "metadata": {},
   "source": [
    "For our mini-challenge, we will be utilizing the Cleantech Media Dataset, which serves as an invaluable resource for businesses, researchers, and students interested in the latest developments in Natural Language Processing and Large Language Models within the realm of cleantech and sustainability. In an industry that is constantly evolving, having access to timely and accurate information is crucial. This dataset is specifically designed to address those needs.\n",
    "\n",
    "This dataset is accessible on Kaggle and is credited to [Janna Lipenkova](https://www.kaggle.com/datasets/jannalipenkova/cleantech-media-dataset)."
   ]
  },
  {
   "attachments": {},
   "cell_type": "markdown",
   "metadata": {},
   "source": [
    "## Imports"
   ]
  },
  {
   "cell_type": "code",
   "execution_count": 478,
   "metadata": {},
   "outputs": [
    {
     "name": "stderr",
     "output_type": "stream",
     "text": [
      "[nltk_data] Downloading package stopwords to\n",
      "[nltk_data]     /Users/alexanderschilling/nltk_data...\n",
      "[nltk_data]   Package stopwords is already up-to-date!\n"
     ]
    }
   ],
   "source": [
    "import os\n",
    "import pandas as pd\n",
    "import numpy as np\n",
    "\n",
    "import re\n",
    "import nltk\n",
    "from nltk.corpus import stopwords\n",
    "from bs4 import BeautifulSoup\n",
    "from nltk.stem import PorterStemmer, WordNetLemmatizer\n",
    "\n",
    "# Ensure you have the NLTK stopwords\n",
    "nltk.download('stopwords')\n",
    "stop_words = set(stopwords.words('english'))\n",
    "\n",
    "# Initialize stemmer and lemmatizer\n",
    "stemmer = PorterStemmer()\n",
    "lemmatizer = WordNetLemmatizer()"
   ]
  },
  {
   "attachments": {},
   "cell_type": "markdown",
   "metadata": {},
   "source": [
    "## Data"
   ]
  },
  {
   "attachments": {},
   "cell_type": "markdown",
   "metadata": {},
   "source": [
    "### Training Data"
   ]
  },
  {
   "attachments": {},
   "cell_type": "markdown",
   "metadata": {},
   "source": [
    "- Comprehensive Coverage: Access a wide range of media texts on cleantech topics, from renewable energy to carbon reduction.\n",
    "- Efficiency: Utilize the dataset for quick and accurate question-answering, aiding informed decision-making.\n",
    "- Regular Updates: Stay current with monthly updates reflecting the latest trends in cleantech.\n",
    "- Sustainability Focus: Contribute to the sustainability movement by leveraging valuable insights from the dataset."
   ]
  },
  {
   "cell_type": "code",
   "execution_count": 500,
   "metadata": {},
   "outputs": [
    {
     "data": {
      "text/html": [
       "<div>\n",
       "<style scoped>\n",
       "    .dataframe tbody tr th:only-of-type {\n",
       "        vertical-align: middle;\n",
       "    }\n",
       "\n",
       "    .dataframe tbody tr th {\n",
       "        vertical-align: top;\n",
       "    }\n",
       "\n",
       "    .dataframe thead th {\n",
       "        text-align: right;\n",
       "    }\n",
       "</style>\n",
       "<table border=\"1\" class=\"dataframe\">\n",
       "  <thead>\n",
       "    <tr style=\"text-align: right;\">\n",
       "      <th></th>\n",
       "      <th>title</th>\n",
       "      <th>date</th>\n",
       "      <th>author</th>\n",
       "      <th>content</th>\n",
       "      <th>domain</th>\n",
       "      <th>url</th>\n",
       "    </tr>\n",
       "  </thead>\n",
       "  <tbody>\n",
       "    <tr>\n",
       "      <th>1280</th>\n",
       "      <td>Qatar to Slash Emissions as LNG Expansion Adva...</td>\n",
       "      <td>2021-01-13</td>\n",
       "      <td>NaN</td>\n",
       "      <td>[\"Qatar Petroleum ( QP) is targeting aggressiv...</td>\n",
       "      <td>energyintel</td>\n",
       "      <td>https://www.energyintel.com/0000017b-a7dc-de4c...</td>\n",
       "    </tr>\n",
       "    <tr>\n",
       "      <th>1281</th>\n",
       "      <td>India Launches Its First 700 MW PHWR</td>\n",
       "      <td>2021-01-15</td>\n",
       "      <td>NaN</td>\n",
       "      <td>[\"• Nuclear Power Corp. of India Ltd. ( NPCIL)...</td>\n",
       "      <td>energyintel</td>\n",
       "      <td>https://www.energyintel.com/0000017b-a7dc-de4c...</td>\n",
       "    </tr>\n",
       "    <tr>\n",
       "      <th>1283</th>\n",
       "      <td>New Chapter for US-China Energy Trade</td>\n",
       "      <td>2021-01-20</td>\n",
       "      <td>NaN</td>\n",
       "      <td>[\"New US President Joe Biden took office this ...</td>\n",
       "      <td>energyintel</td>\n",
       "      <td>https://www.energyintel.com/0000017b-a7dc-de4c...</td>\n",
       "    </tr>\n",
       "    <tr>\n",
       "      <th>1284</th>\n",
       "      <td>Japan: Slow Restarts Cast Doubt on 2030 Energy...</td>\n",
       "      <td>2021-01-22</td>\n",
       "      <td>NaN</td>\n",
       "      <td>[\"The slow pace of Japanese reactor restarts c...</td>\n",
       "      <td>energyintel</td>\n",
       "      <td>https://www.energyintel.com/0000017b-a7dc-de4c...</td>\n",
       "    </tr>\n",
       "    <tr>\n",
       "      <th>1285</th>\n",
       "      <td>NYC Pension Funds to Divest Fossil Fuel Shares</td>\n",
       "      <td>2021-01-25</td>\n",
       "      <td>NaN</td>\n",
       "      <td>[\"Two of New York City's largest pension funds...</td>\n",
       "      <td>energyintel</td>\n",
       "      <td>https://www.energyintel.com/0000017b-a7dc-de4c...</td>\n",
       "    </tr>\n",
       "  </tbody>\n",
       "</table>\n",
       "</div>"
      ],
      "text/plain": [
       "                                                  title        date author  \\\n",
       "1280  Qatar to Slash Emissions as LNG Expansion Adva...  2021-01-13    NaN   \n",
       "1281               India Launches Its First 700 MW PHWR  2021-01-15    NaN   \n",
       "1283              New Chapter for US-China Energy Trade  2021-01-20    NaN   \n",
       "1284  Japan: Slow Restarts Cast Doubt on 2030 Energy...  2021-01-22    NaN   \n",
       "1285     NYC Pension Funds to Divest Fossil Fuel Shares  2021-01-25    NaN   \n",
       "\n",
       "                                                content       domain  \\\n",
       "1280  [\"Qatar Petroleum ( QP) is targeting aggressiv...  energyintel   \n",
       "1281  [\"• Nuclear Power Corp. of India Ltd. ( NPCIL)...  energyintel   \n",
       "1283  [\"New US President Joe Biden took office this ...  energyintel   \n",
       "1284  [\"The slow pace of Japanese reactor restarts c...  energyintel   \n",
       "1285  [\"Two of New York City's largest pension funds...  energyintel   \n",
       "\n",
       "                                                    url  \n",
       "1280  https://www.energyintel.com/0000017b-a7dc-de4c...  \n",
       "1281  https://www.energyintel.com/0000017b-a7dc-de4c...  \n",
       "1283  https://www.energyintel.com/0000017b-a7dc-de4c...  \n",
       "1284  https://www.energyintel.com/0000017b-a7dc-de4c...  \n",
       "1285  https://www.energyintel.com/0000017b-a7dc-de4c...  "
      ]
     },
     "execution_count": 500,
     "metadata": {},
     "output_type": "execute_result"
    }
   ],
   "source": [
    "data = pd.read_csv('../data/raw/cleantech_media_dataset_v2_2024-02-23.csv', index_col=0)\n",
    "data.head()"
   ]
  },
  {
   "attachments": {},
   "cell_type": "markdown",
   "metadata": {},
   "source": [
    "### Evaluation data"
   ]
  },
  {
   "attachments": {},
   "cell_type": "markdown",
   "metadata": {},
   "source": [
    "- The dataset comes with a small, high-quality evaluation dataset for the \"Retrieval\" step in Retrieval-Augmented Generation\n",
    "- In addition, a small collection of human gold-standard query-passage-answer triplets will be provided for further evaluation"
   ]
  },
  {
   "cell_type": "code",
   "execution_count": 480,
   "metadata": {},
   "outputs": [
    {
     "data": {
      "text/html": [
       "<div>\n",
       "<style scoped>\n",
       "    .dataframe tbody tr th:only-of-type {\n",
       "        vertical-align: middle;\n",
       "    }\n",
       "\n",
       "    .dataframe tbody tr th {\n",
       "        vertical-align: top;\n",
       "    }\n",
       "\n",
       "    .dataframe thead th {\n",
       "        text-align: right;\n",
       "    }\n",
       "</style>\n",
       "<table border=\"1\" class=\"dataframe\">\n",
       "  <thead>\n",
       "    <tr style=\"text-align: right;\">\n",
       "      <th></th>\n",
       "      <th>example_id</th>\n",
       "      <th>question_id</th>\n",
       "      <th>question</th>\n",
       "      <th>relevant_text</th>\n",
       "      <th>answer</th>\n",
       "      <th>article_url</th>\n",
       "    </tr>\n",
       "  </thead>\n",
       "  <tbody>\n",
       "    <tr>\n",
       "      <th>0</th>\n",
       "      <td>1</td>\n",
       "      <td>1</td>\n",
       "      <td>What is the innovation behind Leclanché's new ...</td>\n",
       "      <td>Leclanché said it has developed an environment...</td>\n",
       "      <td>Leclanché's innovation is using a water-based ...</td>\n",
       "      <td>https://www.sgvoice.net/strategy/technology/23...</td>\n",
       "    </tr>\n",
       "    <tr>\n",
       "      <th>1</th>\n",
       "      <td>2</td>\n",
       "      <td>2</td>\n",
       "      <td>What is the EU’s Green Deal Industrial Plan?</td>\n",
       "      <td>The Green Deal Industrial Plan is a bid by the...</td>\n",
       "      <td>The EU’s Green Deal Industrial Plan aims to en...</td>\n",
       "      <td>https://www.sgvoice.net/policy/25396/eu-seeks-...</td>\n",
       "    </tr>\n",
       "    <tr>\n",
       "      <th>2</th>\n",
       "      <td>3</td>\n",
       "      <td>2</td>\n",
       "      <td>What is the EU’s Green Deal Industrial Plan?</td>\n",
       "      <td>The European counterpart to the US Inflation R...</td>\n",
       "      <td>The EU’s Green Deal Industrial Plan aims to en...</td>\n",
       "      <td>https://www.pv-magazine.com/2023/02/02/europea...</td>\n",
       "    </tr>\n",
       "    <tr>\n",
       "      <th>3</th>\n",
       "      <td>4</td>\n",
       "      <td>3</td>\n",
       "      <td>What are the four focus areas of the EU's Gree...</td>\n",
       "      <td>The new plan is fundamentally focused on four ...</td>\n",
       "      <td>The four focus areas of the EU's Green Deal In...</td>\n",
       "      <td>https://www.sgvoice.net/policy/25396/eu-seeks-...</td>\n",
       "    </tr>\n",
       "    <tr>\n",
       "      <th>4</th>\n",
       "      <td>5</td>\n",
       "      <td>4</td>\n",
       "      <td>When did the cooperation between GM and Honda ...</td>\n",
       "      <td>What caught our eye was a new hookup between G...</td>\n",
       "      <td>July 2013</td>\n",
       "      <td>https://cleantechnica.com/2023/05/08/general-m...</td>\n",
       "    </tr>\n",
       "  </tbody>\n",
       "</table>\n",
       "</div>"
      ],
      "text/plain": [
       "   example_id  question_id                                           question  \\\n",
       "0           1            1  What is the innovation behind Leclanché's new ...   \n",
       "1           2            2       What is the EU’s Green Deal Industrial Plan?   \n",
       "2           3            2       What is the EU’s Green Deal Industrial Plan?   \n",
       "3           4            3  What are the four focus areas of the EU's Gree...   \n",
       "4           5            4  When did the cooperation between GM and Honda ...   \n",
       "\n",
       "                                       relevant_text  \\\n",
       "0  Leclanché said it has developed an environment...   \n",
       "1  The Green Deal Industrial Plan is a bid by the...   \n",
       "2  The European counterpart to the US Inflation R...   \n",
       "3  The new plan is fundamentally focused on four ...   \n",
       "4  What caught our eye was a new hookup between G...   \n",
       "\n",
       "                                              answer  \\\n",
       "0  Leclanché's innovation is using a water-based ...   \n",
       "1  The EU’s Green Deal Industrial Plan aims to en...   \n",
       "2  The EU’s Green Deal Industrial Plan aims to en...   \n",
       "3  The four focus areas of the EU's Green Deal In...   \n",
       "4                                          July 2013   \n",
       "\n",
       "                                         article_url  \n",
       "0  https://www.sgvoice.net/strategy/technology/23...  \n",
       "1  https://www.sgvoice.net/policy/25396/eu-seeks-...  \n",
       "2  https://www.pv-magazine.com/2023/02/02/europea...  \n",
       "3  https://www.sgvoice.net/policy/25396/eu-seeks-...  \n",
       "4  https://cleantechnica.com/2023/05/08/general-m...  "
      ]
     },
     "execution_count": 480,
     "metadata": {},
     "output_type": "execute_result"
    }
   ],
   "source": [
    "data_eval = pd.read_csv('../data/evaluation/cleantech_rag_evaluation_data_2024-09-20.csv', delimiter=\";\")\n",
    "data_eval.head()"
   ]
  },
  {
   "attachments": {},
   "cell_type": "markdown",
   "metadata": {},
   "source": [
    "## Initial Exploration"
   ]
  },
  {
   "cell_type": "code",
   "execution_count": 481,
   "metadata": {},
   "outputs": [
    {
     "name": "stdout",
     "output_type": "stream",
     "text": [
      "<class 'pandas.core.frame.DataFrame'>\n",
      "RangeIndex: 9593 entries, 0 to 9592\n",
      "Data columns (total 7 columns):\n",
      " #   Column      Non-Null Count  Dtype \n",
      "---  ------      --------------  ----- \n",
      " 0   Unnamed: 0  9593 non-null   int64 \n",
      " 1   title       9593 non-null   object\n",
      " 2   date        9593 non-null   object\n",
      " 3   author      31 non-null     object\n",
      " 4   content     9593 non-null   object\n",
      " 5   domain      9593 non-null   object\n",
      " 6   url         9593 non-null   object\n",
      "dtypes: int64(1), object(6)\n",
      "memory usage: 524.7+ KB\n",
      "None\n"
     ]
    }
   ],
   "source": [
    "print(data.info())"
   ]
  },
  {
   "cell_type": "code",
   "execution_count": 482,
   "metadata": {},
   "outputs": [
    {
     "name": "stdout",
     "output_type": "stream",
     "text": [
      "Unnamed: 0       0\n",
      "title            0\n",
      "date             0\n",
      "author        9562\n",
      "content          0\n",
      "domain           0\n",
      "url              0\n",
      "dtype: int64\n"
     ]
    }
   ],
   "source": [
    "# Check for missing values\n",
    "print(data.isnull().sum())"
   ]
  },
  {
   "cell_type": "code",
   "execution_count": 483,
   "metadata": {},
   "outputs": [
    {
     "name": "stdout",
     "output_type": "stream",
     "text": [
      "['energyintel' 'energyvoice' 'eurosolar' 'indorenergy' 'cleantechnica'\n",
      " 'decarbxpo' 'ecofriend' 'greenprophet' 'azocleantech' 'naturalgasintel'\n",
      " 'businessgreen' 'rechargenews' 'solarquarter' 'thinkgeoenergy'\n",
      " 'pv-magazine' 'solarpowerworldonline' 'pv-tech' 'solarpowerportal.co'\n",
      " 'solarindustrymag']\n"
     ]
    }
   ],
   "source": [
    "print(data[\"domain\"].unique())"
   ]
  },
  {
   "attachments": {},
   "cell_type": "markdown",
   "metadata": {},
   "source": [
    "Now we want to see what the text oin the column \"content\" looks like. This will give us a better idea on how the texts are structured so that we can make a good plan for the data cleaning process."
   ]
  },
  {
   "cell_type": "code",
   "execution_count": 484,
   "metadata": {},
   "outputs": [
    {
     "data": {
      "text/plain": [
       "\"['Velocys has signed two offtake agreements that cover the entire sustainable aviation fuel ( SAF) production from its Bayou Fuels plant in Mississippi for at least ten years from start up in 2026. US Southwest Airlines will take-or-pay for 219 million gallons of carbon-negative SAF — generating 575 million gallons of carbon neutral blended SAF — over 15 years. Europe’ s IAG will take 73 million gallons of carbon negative SAF — 192 million gallons of carbon-neutral SAF after blending — over 10 years. Velocys said the deal with IAG was worth $ 800 million. Both deals include a price support mechanism for the greenhouse gas credits associated with Bayou’ s SAF production, which claims a carbon reduction of 6.5 million tons over the term of the contract. The plant has negative lifecycle emissions thanks to its biogenic waste feedstock, renewable power and carbon capture and storage. “ This long-dated offtake, encompassing support for environmental credits, will provide certainty of revenue for the project, which should enable construction capital financing, ” Velocys CEO Henrik Wareborn said about both deals. “ This agreement shows that commercial-scale demand for SAF can be satisfied already by the middle of this decade and that Velocys plays a pivotal role in enabling this, ” he added.']\""
      ]
     },
     "execution_count": 484,
     "metadata": {},
     "output_type": "execute_result"
    }
   ],
   "source": [
    "data[\"content\"][1]"
   ]
  },
  {
   "attachments": {},
   "cell_type": "markdown",
   "metadata": {},
   "source": [
    "## Text Preprocessing"
   ]
  },
  {
   "attachments": {},
   "cell_type": "markdown",
   "metadata": {},
   "source": [
    "Effective text preprocessing is a critical step in preparing our data for further analysis, as it directly impacts the quality and accuracy of the results we can achieve. After conducting an initial exploration of the dataset, we identified several areas that require attention to ensure our text data is clean, consistent and usable for analysis.\n",
    "\n",
    "Text preprocessing in this case involves handling various nuances that are common in unstructured textual data, such as URLs, special characters and abbreviations. Each preprocessing decision must strike a balance between cleaning the data and preserving key information that could affect the integrity of the analysis.\n",
    "\n",
    "**The following steps outline our approach to cleaning the text data:**\n",
    "- Converting all text to lowercase ensures uniformity and reduces redundancy, as \"Carbon\" and \"carbon\" would be treated as the same word.\n",
    "- Removing URLs, because they dont provide meaningful insight.\n",
    "- Special characters (for example \", !, ?, ', ` etc.) can introduce noise if not handled carefully. However, not all punctuation marks should be removed entirely. For example, percentages (like \"0.2%\") or numerical ranges (\"2.2 million\") contain important information that must be preserved - if we delete these punctuations the information in the text would not be factually correct anymore (\"2.2 million\" would turn into 22 million).\n",
    "- The handling of symbols like `/` and `-` also requires nuance. A forward slash (`/`) used in phrases such as \"tons/yr\" should be replaced with \"per,\" while hyphens connecting words (for example \"carbon-negative\") should be replaced with spaces rather than being removed, to retain the meaning of compound terms. Hyphens surrounded by spaces, on the other hand, can be safely removed as they often act as separators rather than meaningful connectors.\n",
    "- Finally, careful consideration needs to be given to country abbreviations that could be misinterpreted as common words (for example \"US\" and \"us\"). Ensuring context-driven handling of these abbreviations is necessary to avoid misclassification or distortion of the data."
   ]
  },
  {
   "attachments": {},
   "cell_type": "markdown",
   "metadata": {},
   "source": [
    "### Lowercase"
   ]
  },
  {
   "cell_type": "code",
   "execution_count": 485,
   "metadata": {},
   "outputs": [],
   "source": [
    "def to_lowercase(text):\n",
    "    return text.lower()\n",
    "\n",
    "data['content_cleaned'] = data['content'].apply(to_lowercase)"
   ]
  },
  {
   "attachments": {},
   "cell_type": "markdown",
   "metadata": {},
   "source": [
    "### Remove HTML tags"
   ]
  },
  {
   "cell_type": "code",
   "execution_count": 486,
   "metadata": {},
   "outputs": [],
   "source": [
    "def remove_html_tags(text):\n",
    "    return BeautifulSoup(text, \"html.parser\").get_text()\n",
    "\n",
    "data['content_cleaned'] = data['content_cleaned'].apply(remove_html_tags)"
   ]
  },
  {
   "attachments": {},
   "cell_type": "markdown",
   "metadata": {},
   "source": [
    "### Remove URLs"
   ]
  },
  {
   "cell_type": "code",
   "execution_count": 487,
   "metadata": {},
   "outputs": [],
   "source": [
    "def remove_urls(text):\n",
    "    return re.sub(r'http\\S+|www\\S+|https\\S+', '', text)\n",
    "\n",
    "data['content_cleaned'] = data['content_cleaned'].apply(remove_urls)"
   ]
  },
  {
   "attachments": {},
   "cell_type": "markdown",
   "metadata": {},
   "source": [
    "### Remove Special Characters"
   ]
  },
  {
   "cell_type": "code",
   "execution_count": 488,
   "metadata": {},
   "outputs": [],
   "source": [
    "def remove_special_characters(text):\n",
    "    # Keep alphanumeric characters, certain punctuation, and hyphens/slashes while removing unwanted special characters\n",
    "    # Allow periods, commas, question marks, exclamation marks, percentage symbols, and ampersands\n",
    "    text = re.sub(r\"[\\\\\\'\\\"`]|[^A-Za-z0-9\\s\\-\\/\\.\\%&]\", '', text)\n",
    "\n",
    "    # Replace \"/\" with \" per \" and specific words with their full forms\n",
    "    text = re.sub(r'(\\w+)/(\\w+)', lambda m: f\"{m.group(1)} per {'year' if m.group(2) == 'yr' else m.group(2)}\", text)\n",
    "    \n",
    "    # Remove hyphens surrounded by spaces\n",
    "    text = re.sub(r'\\s*-\\s*', '', text)\n",
    "\n",
    "    # Remove hyphens not surrounded by words\n",
    "    text = re.sub(r'(?<!\\w)-|-(?!\\w)', '', text)\n",
    "\n",
    "    text = text.replace('%', ' percent')\n",
    "\n",
    "    # Remove double space\n",
    "    text = re.sub(r'\\s+', ' ', text).strip()\n",
    "    \n",
    "    return text\n",
    "\n",
    "data['content_cleaned'] = data['content_cleaned'].apply(remove_special_characters)"
   ]
  },
  {
   "attachments": {},
   "cell_type": "markdown",
   "metadata": {},
   "source": [
    "### Remove punctuation"
   ]
  },
  {
   "cell_type": "code",
   "execution_count": 489,
   "metadata": {},
   "outputs": [],
   "source": [
    "def remove_periods(text):\n",
    "    # This regex pattern matches a period that is NOT followed by a digit\n",
    "    pattern = r'\\.(?!\\d)'\n",
    "\n",
    "    # Replace matched periods with an empty string\n",
    "    result = re.sub(pattern, '', text)\n",
    "    \n",
    "    return result\n",
    "\n",
    "data['content_cleaned'] = data['content_cleaned'].apply(remove_periods)"
   ]
  },
  {
   "attachments": {},
   "cell_type": "markdown",
   "metadata": {},
   "source": [
    "### Remove stop words"
   ]
  },
  {
   "cell_type": "code",
   "execution_count": 490,
   "metadata": {},
   "outputs": [],
   "source": [
    "def remove_stop_words(text):\n",
    "    tokens = text.split()\n",
    "    tokens = [word for word in tokens if word not in stop_words]\n",
    "    return ' '.join(tokens)\n",
    "\n",
    "data['content_cleaned'] = data['content_cleaned'].apply(remove_stop_words)"
   ]
  },
  {
   "attachments": {},
   "cell_type": "markdown",
   "metadata": {},
   "source": [
    "### Tokenization"
   ]
  },
  {
   "attachments": {},
   "cell_type": "markdown",
   "metadata": {},
   "source": [
    "Tokenization is the process of breaking text down into individual units, typically words or tokens. This step is essential for most text preprocessing tasks as it allows us to manipulate and analyze the content at the word level. By splitting the content into tokens, we can more easily apply further processing techniques like stemming and lemmatization."
   ]
  },
  {
   "cell_type": "code",
   "execution_count": 491,
   "metadata": {},
   "outputs": [],
   "source": [
    "def tokenize(text):\n",
    "    return text.split()\n",
    "\n",
    "data['content_tokenized'] = data['content_cleaned'].apply(tokenize)"
   ]
  },
  {
   "attachments": {},
   "cell_type": "markdown",
   "metadata": {},
   "source": [
    "### Stemming"
   ]
  },
  {
   "attachments": {},
   "cell_type": "markdown",
   "metadata": {},
   "source": [
    "Stemming is the process of reducing words to their base or root form. It involves stripping off word endings to standardize the word, which helps in reducing the complexity of the vocabulary without losing the essential meaning. This is especially useful in cases where different word forms (e.g., \"running\" and \"runner\") need to be treated as the same root concept."
   ]
  },
  {
   "cell_type": "code",
   "execution_count": 492,
   "metadata": {},
   "outputs": [],
   "source": [
    "def stem_text(tokens):\n",
    "    return ' '.join(stemmer.stem(word) for word in tokens)\n",
    "\n",
    "data['content_stemmed'] = data['content_tokenized'].apply(stem_text)"
   ]
  },
  {
   "attachments": {},
   "cell_type": "markdown",
   "metadata": {},
   "source": [
    "### Lemmatization"
   ]
  },
  {
   "attachments": {},
   "cell_type": "markdown",
   "metadata": {},
   "source": [
    "Lemmatization, similar to stemming, is a technique used to reduce words to their base form. However, unlike stemming, lemmatization takes the context and grammatical role of the word into account, providing a more accurate base form. This process helps normalize the text while maintaining proper word meaning, which is particularly beneficial for more nuanced text analysis tasks."
   ]
  },
  {
   "cell_type": "code",
   "execution_count": 493,
   "metadata": {},
   "outputs": [],
   "source": [
    "def lemmatize_text(tokens):\n",
    "    return ' '.join(lemmatizer.lemmatize(word) for word in tokens)\n",
    "\n",
    "data['content_lemmatized'] = data['content_tokenized'].apply(lemmatize_text)"
   ]
  },
  {
   "attachments": {},
   "cell_type": "markdown",
   "metadata": {},
   "source": [
    "### Result"
   ]
  },
  {
   "attachments": {},
   "cell_type": "markdown",
   "metadata": {},
   "source": [
    "In this section, we present the results of our data preprocessing, comparing the original content with the cleaned, tokenized, stemmed and lemmatized versions. A notable observation is the presence of numerous abbreviations, such as company or organization names. Since these abbreviations do not represent standard words, we anticipate that their frequency within the corpus will be low. As a result, they are likely to be filtered out during vocabulary pruning, thereby streamlining the text and enhancing the language model's ability to interpret and process the content more effectively."
   ]
  },
  {
   "attachments": {},
   "cell_type": "markdown",
   "metadata": {},
   "source": [
    "#### Initial Content"
   ]
  },
  {
   "cell_type": "code",
   "execution_count": 494,
   "metadata": {},
   "outputs": [
    {
     "data": {
      "text/plain": [
       "'[\"• Nuclear Power Corp. of India Ltd. ( NPCIL) synchronized Kakrapar-3 in the western state of Gujarat to the grid on Jan. 10, making it the first of India\\'s 700 megawatt indigenously developed pressurized heavy water reactors ( PHWRs) to reach this milestone ( NIW Sep.18\\'20). The news was tweeted by Anil Kakodkar, former chairman of the Department of Atomic Energy, who said that 15 more units of the same design will follow. Three of these are currently under construction -- another at Kakrapar, and two at NPCIL\\'s Rajasthan plant. They will be followed by two at the greenfield Gorakhpur site in Haryana, and then a planned 10-unit fleet at Gorakhpur and three other sites. Kakrapar-3 was five years past its 2015 completion date, achieving criticality in July 2020, 10 years after construction began. Commercial operations are slated to begin in March, according to NPCIL\\'s website, although that deadline will likely not be met. India\\'s nuclear suppliers should be feeling some relief over Kakrapar-3\\'s start-up, although order flows will depend on how quickly NPCIL can get other projects moving, and the course of the Covid-19 pandemic ( NIW Dec.11\\'20). • The inaugural US small modular reactor ( SMR) project has moved into its second phase with Fluor and its NuScale subsidiary announcing Jan. 11 that per agreements with the Utah Associated Municipal Power Systems ( Uamps) they `` are to develop higher maturity cost estimates and initial project planning work for the licensing, manufacturing and construction of the CFPP [ Carbon Free Power Project ]. \\'\\' However, Uamps confirmed to Energy Intelligence that committed offtake now stands at just 100 MW for what was planned as a 750 MW, 12-module SMR plant. With NuScale providing additional options for `` plant size configuration, Uamps could decide to build a plant ranging from 4 modules ( 308 megawatts) to 12 modules ( 924 megawatts), \\'\\' a Uamps spokesman wrote in an email. In early 2019 Uamps boasted offtake commitments of 230 MW. But that included US Department of Energy ( DOE) plans to take output from up to two 60 MW modules. Those plans ended last year with the DOE instead offering $ 1.35 billion in multiyear funding for the project. Eight Uamps subscribers dropped out of the project and another two offtakers substantially reduced their commitments. • Across the ocean NuScale has launched a play for the UK market via a memorandum of understanding with start-up clean energy firm Shearwater Energy to explore the deployment of hybrid SMR and wind energy projects across the country. The companies are hoping to score a flagship site at or near the Wylfa plant in north Wales, where last year Hitachi decided to wind down its advanced boiling water reactor ( ABWR) project development company ( NIW Sep.18\\'20). A Wylfa SMR-wind plant `` will provide 3 GW of reliable, zero-carbon electricity at a fraction of the cost of a conventional nuclear power station with surplus energy generation focused on the production of hydrogen to support the transport sector’ s transition to low-carbon fuels, \\'\\' Shearwater CEO Simon Forster said in a Jan. 12 statement. But Shearwater was only incorporated in 2018, and any way forward for the project is likely to depend on suitably attractive economics, a UK government nuclear subsidy regime, plus locking in a site that may be grabbed by another interested consortium first ( related).\"]'"
      ]
     },
     "execution_count": 494,
     "metadata": {},
     "output_type": "execute_result"
    }
   ],
   "source": [
    "data[\"content\"][1]"
   ]
  },
  {
   "attachments": {},
   "cell_type": "markdown",
   "metadata": {},
   "source": [
    "#### Cleaned Content"
   ]
  },
  {
   "cell_type": "code",
   "execution_count": 495,
   "metadata": {},
   "outputs": [
    {
     "data": {
      "text/plain": [
       "'nuclear power corp india ltd npcil synchronized kakrapar3 western state gujarat grid jan 10 making first indias 700 megawatt indigenously developed pressurized heavy water reactors phwrs reach milestone niw sep.1820 news tweeted anil kakodkar former chairman department atomic energy said 15 units design follow three currently constructionanother kakrapar two npcils rajasthan plant followed two greenfield gorakhpur site haryana planned 10unit fleet gorakhpur three sites kakrapar3 five years past 2015 completion date achieving criticality july 2020 10 years construction began commercial operations slated begin march according npcils website although deadline likely met indias nuclear suppliers feeling relief kakrapar3s startup although order flows depend quickly npcil get projects moving course covid19 pandemic niw dec.1120 inaugural us small modular reactor smr project moved second phase fluor nuscale subsidiary announcing jan 11 per agreements utah associated municipal power systems uamps develop higher maturity cost estimates initial project planning work licensing manufacturing construction cfpp carbon free power project however uamps confirmed energy intelligence committed offtake stands 100 mw planned 750 mw 12module smr plant nuscale providing additional options plant size configuration uamps could decide build plant ranging 4 modules 308 megawatts 12 modules 924 megawatts uamps spokesman wrote email early 2019 uamps boasted offtake commitments 230 mw included us department energy doe plans take output two 60 mw modules plans ended last year doe instead offering 1.35 billion multiyear funding project eight uamps subscribers dropped project another two offtakers substantially reduced commitments across ocean nuscale launched play uk market via memorandum understanding startup clean energy firm shearwater energy explore deployment hybrid smr wind energy projects across country companies hoping score flagship site near wylfa plant north wales last year hitachi decided wind advanced boiling water reactor abwr project development company niw sep.1820 wylfa smrwind plant provide 3 gw reliable zerocarbon electricity fraction cost conventional nuclear power station surplus energy generation focused production hydrogen support transport sector transition lowcarbon fuels shearwater ceo simon forster said jan 12 statement shearwater incorporated 2018 way forward project likely depend suitably attractive economics uk government nuclear subsidy regime plus locking site may grabbed another interested consortium first related'"
      ]
     },
     "execution_count": 495,
     "metadata": {},
     "output_type": "execute_result"
    }
   ],
   "source": [
    "data['content_cleaned'][1]"
   ]
  },
  {
   "attachments": {},
   "cell_type": "markdown",
   "metadata": {},
   "source": [
    "#### Cleaned & Tokenized Content"
   ]
  },
  {
   "cell_type": "code",
   "execution_count": 496,
   "metadata": {},
   "outputs": [
    {
     "data": {
      "text/plain": [
       "['nuclear',\n",
       " 'power',\n",
       " 'corp',\n",
       " 'india',\n",
       " 'ltd',\n",
       " 'npcil',\n",
       " 'synchronized',\n",
       " 'kakrapar3',\n",
       " 'western',\n",
       " 'state',\n",
       " 'gujarat',\n",
       " 'grid',\n",
       " 'jan',\n",
       " '10',\n",
       " 'making',\n",
       " 'first',\n",
       " 'indias',\n",
       " '700',\n",
       " 'megawatt',\n",
       " 'indigenously',\n",
       " 'developed',\n",
       " 'pressurized',\n",
       " 'heavy',\n",
       " 'water',\n",
       " 'reactors',\n",
       " 'phwrs',\n",
       " 'reach',\n",
       " 'milestone',\n",
       " 'niw',\n",
       " 'sep.1820',\n",
       " 'news',\n",
       " 'tweeted',\n",
       " 'anil',\n",
       " 'kakodkar',\n",
       " 'former',\n",
       " 'chairman',\n",
       " 'department',\n",
       " 'atomic',\n",
       " 'energy',\n",
       " 'said',\n",
       " '15',\n",
       " 'units',\n",
       " 'design',\n",
       " 'follow',\n",
       " 'three',\n",
       " 'currently',\n",
       " 'constructionanother',\n",
       " 'kakrapar',\n",
       " 'two',\n",
       " 'npcils',\n",
       " 'rajasthan',\n",
       " 'plant',\n",
       " 'followed',\n",
       " 'two',\n",
       " 'greenfield',\n",
       " 'gorakhpur',\n",
       " 'site',\n",
       " 'haryana',\n",
       " 'planned',\n",
       " '10unit',\n",
       " 'fleet',\n",
       " 'gorakhpur',\n",
       " 'three',\n",
       " 'sites',\n",
       " 'kakrapar3',\n",
       " 'five',\n",
       " 'years',\n",
       " 'past',\n",
       " '2015',\n",
       " 'completion',\n",
       " 'date',\n",
       " 'achieving',\n",
       " 'criticality',\n",
       " 'july',\n",
       " '2020',\n",
       " '10',\n",
       " 'years',\n",
       " 'construction',\n",
       " 'began',\n",
       " 'commercial',\n",
       " 'operations',\n",
       " 'slated',\n",
       " 'begin',\n",
       " 'march',\n",
       " 'according',\n",
       " 'npcils',\n",
       " 'website',\n",
       " 'although',\n",
       " 'deadline',\n",
       " 'likely',\n",
       " 'met',\n",
       " 'indias',\n",
       " 'nuclear',\n",
       " 'suppliers',\n",
       " 'feeling',\n",
       " 'relief',\n",
       " 'kakrapar3s',\n",
       " 'startup',\n",
       " 'although',\n",
       " 'order',\n",
       " 'flows',\n",
       " 'depend',\n",
       " 'quickly',\n",
       " 'npcil',\n",
       " 'get',\n",
       " 'projects',\n",
       " 'moving',\n",
       " 'course',\n",
       " 'covid19',\n",
       " 'pandemic',\n",
       " 'niw',\n",
       " 'dec.1120',\n",
       " 'inaugural',\n",
       " 'us',\n",
       " 'small',\n",
       " 'modular',\n",
       " 'reactor',\n",
       " 'smr',\n",
       " 'project',\n",
       " 'moved',\n",
       " 'second',\n",
       " 'phase',\n",
       " 'fluor',\n",
       " 'nuscale',\n",
       " 'subsidiary',\n",
       " 'announcing',\n",
       " 'jan',\n",
       " '11',\n",
       " 'per',\n",
       " 'agreements',\n",
       " 'utah',\n",
       " 'associated',\n",
       " 'municipal',\n",
       " 'power',\n",
       " 'systems',\n",
       " 'uamps',\n",
       " 'develop',\n",
       " 'higher',\n",
       " 'maturity',\n",
       " 'cost',\n",
       " 'estimates',\n",
       " 'initial',\n",
       " 'project',\n",
       " 'planning',\n",
       " 'work',\n",
       " 'licensing',\n",
       " 'manufacturing',\n",
       " 'construction',\n",
       " 'cfpp',\n",
       " 'carbon',\n",
       " 'free',\n",
       " 'power',\n",
       " 'project',\n",
       " 'however',\n",
       " 'uamps',\n",
       " 'confirmed',\n",
       " 'energy',\n",
       " 'intelligence',\n",
       " 'committed',\n",
       " 'offtake',\n",
       " 'stands',\n",
       " '100',\n",
       " 'mw',\n",
       " 'planned',\n",
       " '750',\n",
       " 'mw',\n",
       " '12module',\n",
       " 'smr',\n",
       " 'plant',\n",
       " 'nuscale',\n",
       " 'providing',\n",
       " 'additional',\n",
       " 'options',\n",
       " 'plant',\n",
       " 'size',\n",
       " 'configuration',\n",
       " 'uamps',\n",
       " 'could',\n",
       " 'decide',\n",
       " 'build',\n",
       " 'plant',\n",
       " 'ranging',\n",
       " '4',\n",
       " 'modules',\n",
       " '308',\n",
       " 'megawatts',\n",
       " '12',\n",
       " 'modules',\n",
       " '924',\n",
       " 'megawatts',\n",
       " 'uamps',\n",
       " 'spokesman',\n",
       " 'wrote',\n",
       " 'email',\n",
       " 'early',\n",
       " '2019',\n",
       " 'uamps',\n",
       " 'boasted',\n",
       " 'offtake',\n",
       " 'commitments',\n",
       " '230',\n",
       " 'mw',\n",
       " 'included',\n",
       " 'us',\n",
       " 'department',\n",
       " 'energy',\n",
       " 'doe',\n",
       " 'plans',\n",
       " 'take',\n",
       " 'output',\n",
       " 'two',\n",
       " '60',\n",
       " 'mw',\n",
       " 'modules',\n",
       " 'plans',\n",
       " 'ended',\n",
       " 'last',\n",
       " 'year',\n",
       " 'doe',\n",
       " 'instead',\n",
       " 'offering',\n",
       " '1.35',\n",
       " 'billion',\n",
       " 'multiyear',\n",
       " 'funding',\n",
       " 'project',\n",
       " 'eight',\n",
       " 'uamps',\n",
       " 'subscribers',\n",
       " 'dropped',\n",
       " 'project',\n",
       " 'another',\n",
       " 'two',\n",
       " 'offtakers',\n",
       " 'substantially',\n",
       " 'reduced',\n",
       " 'commitments',\n",
       " 'across',\n",
       " 'ocean',\n",
       " 'nuscale',\n",
       " 'launched',\n",
       " 'play',\n",
       " 'uk',\n",
       " 'market',\n",
       " 'via',\n",
       " 'memorandum',\n",
       " 'understanding',\n",
       " 'startup',\n",
       " 'clean',\n",
       " 'energy',\n",
       " 'firm',\n",
       " 'shearwater',\n",
       " 'energy',\n",
       " 'explore',\n",
       " 'deployment',\n",
       " 'hybrid',\n",
       " 'smr',\n",
       " 'wind',\n",
       " 'energy',\n",
       " 'projects',\n",
       " 'across',\n",
       " 'country',\n",
       " 'companies',\n",
       " 'hoping',\n",
       " 'score',\n",
       " 'flagship',\n",
       " 'site',\n",
       " 'near',\n",
       " 'wylfa',\n",
       " 'plant',\n",
       " 'north',\n",
       " 'wales',\n",
       " 'last',\n",
       " 'year',\n",
       " 'hitachi',\n",
       " 'decided',\n",
       " 'wind',\n",
       " 'advanced',\n",
       " 'boiling',\n",
       " 'water',\n",
       " 'reactor',\n",
       " 'abwr',\n",
       " 'project',\n",
       " 'development',\n",
       " 'company',\n",
       " 'niw',\n",
       " 'sep.1820',\n",
       " 'wylfa',\n",
       " 'smrwind',\n",
       " 'plant',\n",
       " 'provide',\n",
       " '3',\n",
       " 'gw',\n",
       " 'reliable',\n",
       " 'zerocarbon',\n",
       " 'electricity',\n",
       " 'fraction',\n",
       " 'cost',\n",
       " 'conventional',\n",
       " 'nuclear',\n",
       " 'power',\n",
       " 'station',\n",
       " 'surplus',\n",
       " 'energy',\n",
       " 'generation',\n",
       " 'focused',\n",
       " 'production',\n",
       " 'hydrogen',\n",
       " 'support',\n",
       " 'transport',\n",
       " 'sector',\n",
       " 'transition',\n",
       " 'lowcarbon',\n",
       " 'fuels',\n",
       " 'shearwater',\n",
       " 'ceo',\n",
       " 'simon',\n",
       " 'forster',\n",
       " 'said',\n",
       " 'jan',\n",
       " '12',\n",
       " 'statement',\n",
       " 'shearwater',\n",
       " 'incorporated',\n",
       " '2018',\n",
       " 'way',\n",
       " 'forward',\n",
       " 'project',\n",
       " 'likely',\n",
       " 'depend',\n",
       " 'suitably',\n",
       " 'attractive',\n",
       " 'economics',\n",
       " 'uk',\n",
       " 'government',\n",
       " 'nuclear',\n",
       " 'subsidy',\n",
       " 'regime',\n",
       " 'plus',\n",
       " 'locking',\n",
       " 'site',\n",
       " 'may',\n",
       " 'grabbed',\n",
       " 'another',\n",
       " 'interested',\n",
       " 'consortium',\n",
       " 'first',\n",
       " 'related']"
      ]
     },
     "execution_count": 496,
     "metadata": {},
     "output_type": "execute_result"
    }
   ],
   "source": [
    "data['content_tokenized'][1]"
   ]
  },
  {
   "attachments": {},
   "cell_type": "markdown",
   "metadata": {},
   "source": [
    "#### Cleaned & Stemmed Content"
   ]
  },
  {
   "cell_type": "code",
   "execution_count": 497,
   "metadata": {},
   "outputs": [
    {
     "data": {
      "text/plain": [
       "'qatar petroleum qp target aggress cut greenhous ga emiss prepar launch phase 2 plan 48 million ton per year lng expans latest sustain report publish wednesday qp said goal includ reduc emiss intens qatar lng facil 25 percent upstream facil least 15 percent compani also aim reduc ga flare intens across upstream facil 75 percent rais carbon captur storag ambit 5 million ton per year 7 million ton per year 2027 2.2 million ton per year carbon captur goal come 32 million ton per year phase 1 lng expans also known north field east project 1.1 million ton per year come phase 2 known north field south project rais qatar lng capac 16 million ton per year qatar current lng product capac around 78 million ton per year eye phase expans 126 million ton per year qp say abl elimin routin ga flare 2030 methan emiss limit set methan intens target 0.2 percent across facil 2025 compani also plan build 1.6 gigawatt solar energi capac 2025 half come siraj solar power project next year eif jan.2220 month littl news phase 2 qatar massiv lng expans mcdermott intern said last week award frontend engin design contract five offshor wellhead platform lngi jan.1221 bid construct four train phase 1 lng expans submit septemb lngi sep.1520 qp judg expens none met target 50week construct schedul shortlist contractor ask look cost save submit new bid contract consult rystad estim worth around 35 billion expect award mar 31 shortli construct contract award qp expect select foreign invest partner take stake 30 percent phase 1 train exxon mobil royal dutch shell total chevron conocophillip eni shortlist qp repeatedli said prepar proceed without intern invest partner determin offer receiv suffici attract shortlist compani expect bid aggress expect world lowestcost environment friendli lng lngi nov.920 rafiq latta nicosia'"
      ]
     },
     "execution_count": 497,
     "metadata": {},
     "output_type": "execute_result"
    }
   ],
   "source": [
    "data['content_stemmed'][0]"
   ]
  },
  {
   "attachments": {},
   "cell_type": "markdown",
   "metadata": {},
   "source": [
    "#### Cleaned & Lemmatized Content"
   ]
  },
  {
   "cell_type": "code",
   "execution_count": 498,
   "metadata": {},
   "outputs": [
    {
     "data": {
      "text/plain": [
       "'qatar petroleum qp targeting aggressive cut greenhouse gas emission prepares launch phase 2 planned 48 million ton per year lng expansion latest sustainability report published wednesday qp said goal include reducing emission intensity qatar lng facility 25 percent upstream facility least 15 percent company also aiming reduce gas flaring intensity across upstream facility 75 percent raised carbon capture storage ambition 5 million ton per year 7 million ton per year 2027 2.2 million ton per year carbon capture goal come 32 million ton per year phase 1 lng expansion also known north field east project 1.1 million ton per year come phase 2 known north field south project raise qatar lng capacity 16 million ton per year qatar currently lng production capacity around 78 million ton per year eyeing phased expansion 126 million ton per year qp say able eliminate routine gas flaring 2030 methane emission limited setting methane intensity target 0.2 percent across facility 2025 company also plan build 1.6 gigawatts solar energy capacity 2025 half come siraj solar power project next year eif jan.2220 month little news phase 2 qatar massive lng expansion mcdermott international said last week awarded frontend engineering design contract five offshore wellhead platform lngi jan.1221 bid construction four train phase 1 lng expansion submitted september lngi sep.1520 qp judged expensive none met targeted 50week construction schedule shortlisted contractor asked look cost saving submit new bid contract consultancy rystad estimate worth around 35 billion expected awarded mar 31 shortly construction contract awarded qp expected select foreign investment partner take stake 30 percent phase 1 train exxon mobil royal dutch shell total chevron conocophillips eni shortlisted qp repeatedly said prepared proceed without international investment partner determines offer receives sufficiently attractive shortlisted company expected bid aggressively expected world lowestcost environmentally friendly lng lngi nov.920 rafiq latta nicosia'"
      ]
     },
     "execution_count": 498,
     "metadata": {},
     "output_type": "execute_result"
    }
   ],
   "source": [
    "data['content_lemmatized'][0]"
   ]
  },
  {
   "attachments": {},
   "cell_type": "markdown",
   "metadata": {},
   "source": [
    "### Save Processed Data"
   ]
  },
  {
   "cell_type": "code",
   "execution_count": null,
   "metadata": {},
   "outputs": [],
   "source": []
  },
  {
   "attachments": {},
   "cell_type": "markdown",
   "metadata": {},
   "source": [
    "### Next steps"
   ]
  },
  {
   "attachments": {},
   "cell_type": "markdown",
   "metadata": {},
   "source": [
    "- Text Analysis / NLP Task Preparation\n",
    "- Sentiment Analysis\n",
    "- Text Summarization\n",
    "- Save the cleaned data\n",
    "- Exploratory Data Analysis (EDA)\n",
    "\n",
    "\n",
    "the next steps could include limiting the vocabulary "
   ]
  }
 ],
 "metadata": {
  "kernelspec": {
   "display_name": "base",
   "language": "python",
   "name": "python3"
  },
  "language_info": {
   "codemirror_mode": {
    "name": "ipython",
    "version": 3
   },
   "file_extension": ".py",
   "mimetype": "text/x-python",
   "name": "python",
   "nbconvert_exporter": "python",
   "pygments_lexer": "ipython3",
   "version": "3.11.5"
  },
  "orig_nbformat": 4,
  "vscode": {
   "interpreter": {
    "hash": "cd9c78cbb62892232a2e8cf9a4bd699d988202e949c50bb9be5232199c394801"
   }
  }
 },
 "nbformat": 4,
 "nbformat_minor": 2
}
