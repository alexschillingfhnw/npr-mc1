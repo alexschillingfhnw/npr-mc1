{
 "cells": [
  {
   "cell_type": "markdown",
   "metadata": {},
   "source": [
    "### 1. Data Ingestion & Preprocessing\n",
    "\n",
    "Loading the cleaned text data and split it into manageable chunks for efficient retrieval."
   ]
  },
  {
   "cell_type": "code",
   "execution_count": 1,
   "metadata": {},
   "outputs": [],
   "source": [
    "import pandas as pd\n",
    "\n",
    "# Load data\n",
    "data = pd.read_csv(\"../data/processed/cleantech_processed_new.csv\")\n",
    "\n",
    "# Function to split text data into manageable sections\n",
    "def chunk_text(text, chunk_size=200):\n",
    "    words = text.split()\n",
    "    return [' '.join(words[i:i + chunk_size]) for i in range(0, len(words), chunk_size)]\n",
    "\n",
    "# Apply chunking to each content entry\n",
    "data['chunks'] = data['content_cleaned'].apply(chunk_text)"
   ]
  },
  {
   "cell_type": "markdown",
   "metadata": {},
   "source": [
    "The chunking variant used is fixed-length word chunking.\n",
    "\n",
    "Fixed-Length Word Count: The function chunk_text splits the text into segments of exactly 200 words each.\n",
    "Sequential Chunking: It moves sequentially through the text without overlap, meaning each chunk is a continuous sequence of words."
   ]
  },
  {
   "cell_type": "markdown",
   "metadata": {},
   "source": [
    "### 2. Flatten the Chunks List and Prepare the Vector Database\n",
    "\n",
    "Flatting the list of text chunks for easier indexing, then generating embeddings for each chunk and store them in a vector index for fast retrieval."
   ]
  },
  {
   "cell_type": "code",
   "execution_count": 2,
   "metadata": {},
   "outputs": [
    {
     "name": "stderr",
     "output_type": "stream",
     "text": [
      "/opt/homebrew/lib/python3.11/site-packages/sentence_transformers/cross_encoder/CrossEncoder.py:13: TqdmWarning: IProgress not found. Please update jupyter and ipywidgets. See https://ipywidgets.readthedocs.io/en/stable/user_install.html\n",
      "  from tqdm.autonotebook import tqdm, trange\n",
      "/opt/homebrew/lib/python3.11/site-packages/huggingface_hub/file_download.py:1132: FutureWarning: `resume_download` is deprecated and will be removed in version 1.0.0. Downloads always resume when possible. If you want to force a new download, use `force_download=True`.\n",
      "  warnings.warn(\n"
     ]
    }
   ],
   "source": [
    "# 6 min\n",
    "\n",
    "from sentence_transformers import SentenceTransformer\n",
    "import faiss\n",
    "import numpy as np\n",
    "\n",
    "# Flatten the chunks for easier indexing\n",
    "flattened_chunks = [chunk for chunks in data['chunks'] for chunk in chunks]\n",
    "\n",
    "# Initialize the embedding model and create embeddings for each chunk\n",
    "model = SentenceTransformer('all-MiniLM-L6-v2')\n",
    "embeddings = [model.encode(chunk) for chunk in flattened_chunks]\n",
    "\n",
    "# Initialize FAISS index and add the embeddings\n",
    "dimension = embeddings[0].shape[0]\n",
    "index = faiss.IndexFlatL2(dimension)\n",
    "index.add(np.array(embeddings))"
   ]
  },
  {
   "cell_type": "markdown",
   "metadata": {},
   "source": [
    "The embedding model used here is all-MiniLM-L6-v2 from the Sentence Transformers library, specifically from the Sentence-BERT family. This model is optimized for generating dense vector representations (embeddings) of sentences or short texts for tasks like semantic similarity, clustering, and information retrieval."
   ]
  },
  {
   "cell_type": "markdown",
   "metadata": {},
   "source": [
    "### 3. Implement the Retriever Module\n",
    "\n",
    "Retrieving the most relevant chunks based on a user query. The retriever uses the FAISS index to return the top-k matching chunks."
   ]
  },
  {
   "cell_type": "code",
   "execution_count": 5,
   "metadata": {},
   "outputs": [],
   "source": [
    "def retrieve(query, k=5):\n",
    "    # Encode the query into an embedding\n",
    "    query_embedding = model.encode([query])\n",
    "\n",
    "    # Search the index for the top-k most similar embeddings\n",
    "    distances, indices = index.search(query_embedding, k)\n",
    "\n",
    "    # Retrieve corresponding chunks from the flattened list\n",
    "    retrieved_chunks = [flattened_chunks[idx] for idx in indices[0]]\n",
    "    return retrieved_chunks"
   ]
  },
  {
   "cell_type": "markdown",
   "metadata": {},
   "source": [
    "We are encoding the query into an embedding, then searching our vector index to find the top-k most similar embeddings. Finally, we retrieve and return the corresponding text chunks from our preprocessed list, providing the most relevant content based on the query's semantic similarity."
   ]
  },
  {
   "cell_type": "markdown",
   "metadata": {},
   "source": [
    "### 4. Implement the Generator Module\n",
    "\n",
    "Generating responses based on the retrieved chunks using a LLM (GPT)."
   ]
  },
  {
   "cell_type": "code",
   "execution_count": 8,
   "metadata": {},
   "outputs": [
    {
     "name": "stdout",
     "output_type": "stream",
     "text": [
      "Response:\n",
      "The main sources of renewable energy mentioned in the context are hydrogen, wind, solar, hydro, geothermal, and biomass. \n",
      "\n",
      "Hydrogen renewable energy can contribute to many aspects of the energy industry, particularly in periods of reduced wind and sunlight, thus compensating for intermittencies in other renewable sources.\n",
      "\n",
      "Wind and solar energy, which account for 55 percent of energy generation in Denmark, for instance, are increasingly competitive, particularly when paired with energy storage technologies. They benefit from expansive geographic potential, as weather conditions can vary across regions. The reduction in costs of solar and wind technologies has also been significant over the past decade, making them increasingly cost-competitive. \n",
      "\n",
      "Hydro power, as shown by the example of Norway, is particularly useful in\n"
     ]
    }
   ],
   "source": [
    "import os\n",
    "from openai import AzureOpenAI\n",
    "import credentials\n",
    "\n",
    "# Define the deployment name based on the model deployed in Azure\n",
    "deployment_name = 'gpt-4'\n",
    "\n",
    "# Initialize the AzureOpenAI client\n",
    "client = AzureOpenAI(\n",
    "    api_key=os.getenv(\"AZURE_OPENAI_API_KEY\"),\n",
    "    api_version=\"2023-12-01-preview\",\n",
    "    azure_endpoint=os.getenv(\"AZURE_OPENAI_ENDPOINT\")\n",
    ")\n",
    "\n",
    "def generate_answer(context, query):\n",
    "    # Create a prompt with refined instructions\n",
    "    prompt = f\"Using only the information provided in the context, please answer the following question as accurately as possible.\\n\\nContext:\\n{context}\\n\\nQuestion:\\n{query}\"\n",
    "    response = client.chat.completions.create(\n",
    "        messages=[\n",
    "            {\"role\": \"system\", \"content\": \"You are a knowledgeable assistant that provides accurate answers based on the provided context.\"},\n",
    "            {\"role\": \"user\", \"content\": prompt}\n",
    "        ],\n",
    "        model=deployment_name,\n",
    "        max_tokens=150\n",
    "    )\n",
    "    generated_response = response.choices[0].message.content.strip()\n",
    "    return generated_response\n",
    "\n",
    "# Example query related to energy\n",
    "energy_query = \"What are the main sources of renewable energy and their benefits?\"\n",
    "\n",
    "# Retrieve relevant chunks from the database based on the energy-related query\n",
    "retrieved_texts = retrieve(energy_query, k=10)\n",
    "\n",
    "# Generate an answer based on the retrieved chunks and query\n",
    "response = generate_answer(\" \".join(retrieved_texts), energy_query)\n",
    "print(f\"Response:\\n{response}\")"
   ]
  },
  {
   "cell_type": "markdown",
   "metadata": {},
   "source": [
    "We are initializing an Azure OpenAI client and defining a generate_answer function to create a prompt based on the given context and query, ensuring an accurate response strictly derived from the context. Then, we retrieve relevant text chunks for an energy-related query and generate a response about renewable energy sources and their benefits."
   ]
  },
  {
   "cell_type": "markdown",
   "metadata": {},
   "source": [
    "### 5. Implement the Evaluator Module\n",
    "\n",
    "Evaluating generated answers against the gold-standard responses from the evaluation dataset."
   ]
  },
  {
   "cell_type": "code",
   "execution_count": 9,
   "metadata": {},
   "outputs": [
    {
     "name": "stderr",
     "output_type": "stream",
     "text": [
      "/opt/homebrew/lib/python3.11/site-packages/huggingface_hub/file_download.py:1132: FutureWarning: `resume_download` is deprecated and will be removed in version 1.0.0. Downloads always resume when possible. If you want to force a new download, use `force_download=True`.\n",
      "  warnings.warn(\n"
     ]
    },
    {
     "name": "stdout",
     "output_type": "stream",
     "text": [
      "Query: What is the innovation behind Leclanché's new method to produce lithium-ion batteries?\n",
      "Generated Answer: Leclanché's new method to produce lithium-ion batteries involves a more environmentally friendly approach. The company replaced the highly toxic organic solvents typically used in the production process with a water-based process to make nickel-manganese-cobalt-aluminium (NMCA) cathodes. This process not only eliminates the risk of explosion, making the production safer for employees, but also lessens the impact on the environment. It also has a lower carbon footprint, using 30 percent less energy than would be needed to dry, evaporate, or recycle solvents. In addition to this, Leclanché increased the nickel content in the cathode to about 90 percent, which allows the cobalt content to be reduced from 20 percent to\n",
      "Gold Standard: Leclanché's innovation is using a water-based process instead of highly toxic organic solvents to produce nickel-manganese-cobalt-aluminium cathodes for lithium-ion batteries.\n",
      "Jaccard Score: 0.18, Semantic Score: 0.86, Combined Score: 0.52\n",
      "\n",
      "Query: What is the EU’s Green Deal Industrial Plan?\n",
      "Generated Answer: The EU’s Green Deal Industrial Plan is a strategy presented by the European Commission President Ursula von der Leyen that seeks to boost investment, enhance economic resilience, and address the challenges of the green transition within the European Union. The plan includes creating a regulatory framework to expedite the deployment of wind, solar energy, and heat pumps. The plan comprises four areas or pillars: regulatory environment, access to finance, enhancing skills, and improving supply chain resilience. It intends to support the expansion of European manufacturing of technologies and services needed to achieve climate targets. It's financed by funds from the €1.8 trillion NextGenerationEU recovery plan and part of the seven-year budget. The plan also seeks to alter state aid rules to allow for higher subsidies,\n",
      "Gold Standard: The EU’s Green Deal Industrial Plan aims to enhance the competitiveness of its net zero industry and accelerate the transition to net zero by supporting the expansion of European manufacturing of technologies, goods, and services necessary to meet climate targets.\n",
      "Jaccard Score: 0.20, Semantic Score: 0.66, Combined Score: 0.43\n",
      "\n",
      "Query: What is the EU’s Green Deal Industrial Plan?\n",
      "Generated Answer: The EU's Green Deal Industrial Plan is a program introduced by European Commission President Ursula von der Leyen aiming to boost investment and economic resilience in the bloc as well as tackle the challenges of the green transition. The plan includes creating a regulatory framework to expedite the deployment of wind and solar energy, and heat pumps. The plan is part of the European Green Deal, the bloc's response to climate change, which aims to modernize the economy and make it more resource-efficient. It is funded from the €1.8 trillion NextGenerationEU recovery plan as part of the seven-year budget. The plan is centered on four primary areas or pillars: the regulatory environment, access to finance, enhancing skills, and improving supply chain resilience. It aims to\n",
      "Gold Standard: The EU’s Green Deal Industrial Plan aims to enhance the competitiveness of its net zero industry and accelerate the transition to net zero by supporting the expansion of European manufacturing of technologies, goods, and services necessary to meet climate targets.\n",
      "Jaccard Score: 0.15, Semantic Score: 0.71, Combined Score: 0.43\n",
      "\n",
      "Query: What are the four focus areas of the EU's Green Deal Industrial Plan?\n",
      "Generated Answer: The four focus areas of the EU's Green Deal Industrial Plan are regulatory environment, access to finance, enhancing skills, and improving supply chain resilience.\n",
      "Gold Standard: The four focus areas of the EU's Green Deal Industrial Plan are the regulatory environment, access to finance, enhancing skills, and improving supply chain resilience.\n",
      "Jaccard Score: 0.96, Semantic Score: 1.00, Combined Score: 0.98\n",
      "\n",
      "Query: When did the cooperation between GM and Honda on fuel cell vehicles start?\n",
      "Generated Answer: The cooperation between GM and Honda on fuel cell vehicles started in 2013.\n",
      "Gold Standard: July 2013\n",
      "Jaccard Score: 0.07, Semantic Score: 0.24, Combined Score: 0.16\n",
      "\n",
      "Query: Did Colgate-Palmolive enter into PPA agreements with solar developers?\n",
      "Generated Answer: The context provided does not include any information about Colgate-Palmolive entering into PPA agreements with solar developers.\n",
      "Gold Standard: yes\n",
      "Jaccard Score: 0.00, Semantic Score: -0.00, Combined Score: -0.00\n",
      "\n",
      "Query: What is the status of ZeroAvia's hydrogen fuel cell electric aircraft?\n",
      "Generated Answer: ZeroAvia's hydrogen fuel cell electric aircraft is in the testing stage. The company has retrofitted a 19-seat Dornier 228 aircraft with its hydrogen-electric engine. The aircraft has received permission to fly from the UK Civil Aviation Authority (CAA), validating ZeroAvia's engineering and ground testing regimen. The new CAA permit sets the stage for a series of test flights to begin, with a conventional engine onboard for safety. The initial focus is on a range of 300 miles for a 19-seater, but ZeroAvia anticipates increasing this to 700 miles for 40-80 seats by 2027. ZeroAvia aims to submit commercial certification for its ZA600 model by the end of\n",
      "Gold Standard: ZeroAvia's hydrogen fuel cell electric aircraft, a retrofitted 19-seat Dornier 228, has received permission to fly from the UK Civil Aviation Authority.\n",
      "Jaccard Score: 0.21, Semantic Score: 0.73, Combined Score: 0.47\n",
      "\n",
      "Query: What is the \"Danger Season\"?\n",
      "Generated Answer: The \"Danger Season\" refers to the period when the northern hemisphere enters a time characterized by warmer days during which wildfires, heat waves, and hurricanes that are amplified by climate change begin to ramp up, particularly in the western United States. The transition from a cool, wet wintertime to a warm, dry summertime is marked as the start of the wildfire season in the region and hence, it's also referred to as the \"Danger Season\".\n",
      "Gold Standard: The \"Danger Season\" is the period in the Northern Hemisphere, beginning in late spring, when wildfires, heat waves, and hurricanes, amplified by climate change, intensify, particularly as the weather shifts from cool and wet to warm and dry conditions.\n",
      "Jaccard Score: 0.39, Semantic Score: 0.94, Combined Score: 0.67\n",
      "\n",
      "Query: Is Mississipi an anti-ESG state?\n",
      "Generated Answer: Based on the provided context, Mississippi appears to have officials expressing anti-ESG sentiments, with state office holders and key figures such as Governor Tate Reeves, State Treasurer David McRae, and several GOP congressmen reportedly opposing the ESG (Environmental, Social, Governance) movement. However, the state is also participating in green initiatives like the large green hydrogen hub project, indicating a more complex stance towards ESG issues. Therefore, while there is anti-ESG sentiment in Mississippi, it cannot be fully categorized as an entirely anti-ESG state based on this context.\n",
      "Gold Standard: yes\n",
      "Jaccard Score: 0.00, Semantic Score: 0.05, Combined Score: 0.03\n",
      "\n",
      "Query: Can you hang solar panels on garden fences?\n",
      "Generated Answer: Yes, according to the given context, one company is offering plug and play solar panels that can hang on garden fences. This PV option, created by the German startup Green Akku, is particularly useful for home gardens. These panels can perform better than traditional roof systems, especially when a lot of energy is needed in the morning and evening hours.\n",
      "Gold Standard: yes\n",
      "Jaccard Score: 0.02, Semantic Score: 0.14, Combined Score: 0.08\n",
      "\n",
      "Query: Who develops quality control systems for ocean temperature in-situ profiles?\n",
      "Generated Answer: The quality control systems for ocean temperature in-situ profiles are developed by the Chinese Academy of Sciences (CAS) Institute of Atmospheric Physics (IAP) and its associates. They have offered a novel climatological range-based automatic quality control system known as the CAS Ocean Data Center-Quality Control System (CODC-QC) for ocean temperature in-situ profiles.\n",
      "Gold Standard: Scientists from the Chinese Academy of Sciences' Institute of Atmospheric Physics (IAP)\n",
      "Jaccard Score: 0.17, Semantic Score: 0.42, Combined Score: 0.29\n",
      "\n",
      "Query: Why are milder winters detrimental for grapes and apples?\n",
      "Generated Answer: Milder winters can be detrimental for grapes and apples because they can potentially lead to early budbreak, which can then result in a higher risk of frost damage. These crops require a certain amount of cold in winter to maintain dormancy until the appropriate time for budbreak in the spring. If winters are too warm and cause early budbreak, the budding crops could be damaged by a subsequent frost. This is particularly concerning in cases where the winter months show erratic changes in temperature.\n",
      "Gold Standard: Milder winters are detrimental for grapes and apples because these perennial species rely on consistent winter conditions for proper dormancy and bud timing, and erratic temperature swings disrupt these processes, making it difficult for growers to manage.\n",
      "Jaccard Score: 0.17, Semantic Score: 0.90, Combined Score: 0.53\n",
      "\n",
      "Query: What are the basic recycling steps for solar panels?\n",
      "Generated Answer: Based on the provided context, the basic recycling steps for solar panels include:\n",
      "\n",
      "1. Solar cell fragments are first separated and collected as byproducts of a mechanical recycling process.\n",
      "2. These cell fragments, ranging in sizes from 0.1 to 1 millimeter, are freed from glass and plastic through various sorting processes.\n",
      "3. The next steps involve the step-by-step removal of the backside contact, silver contacts, and the antireflective layer.\n",
      "4. The final step involves wet chemical etching where the silicon is cleaned and then processed into monocrystalline or quasi-monocrystalline ingots using standard processes.\n",
      "5. The crystallization process is carried out using 100% recycled silicon without the addition of\n",
      "Gold Standard: removing the frames, glass covers, and solar connectors\n",
      "Jaccard Score: 0.04, Semantic Score: 0.47, Combined Score: 0.25\n",
      "\n",
      "Query: Why does melting ice contribute to global warming?\n",
      "Generated Answer: Melting ice contributes to global warming because of the role of ice in reflecting sunlight. The white surface of ice reflects the sun's rays, a process known as albedo. However, when ice melts, it reveals the darker surface of the sea or land beneath. These darker surfaces absorb more solar energy rather than reflecting it back into the atmosphere, thereby warming the Earth further. In the context provided, it is noted that dark sea water absorbs ten times as much solar energy as ice does, thus contributing significantly to global warming when ice melts.\n",
      "Gold Standard: Melting ice contributes to global warming because white ice reflects the sun's rays, while the dark sea absorbs over ten times more solar energy, increasing heat and accelerating warming.\n",
      "Jaccard Score: 0.23, Semantic Score: 0.87, Combined Score: 0.55\n",
      "\n",
      "Query: Does the Swedish government plan bans on new petrol and diesel cars?\n",
      "Generated Answer: The context does not provide information on whether the Swedish government plans to ban new petrol and diesel cars.\n",
      "Gold Standard: yes\n",
      "Jaccard Score: 0.00, Semantic Score: 0.04, Combined Score: 0.02\n",
      "\n",
      "Query: Where do the turbines used in Icelandic geothermal power plants come from?\n",
      "Generated Answer: The context does not provide information on where the turbines used in Icelandic geothermal power plants come from.\n",
      "Gold Standard: Japan\n",
      "Jaccard Score: 0.00, Semantic Score: 0.05, Combined Score: 0.02\n",
      "\n",
      "Query: Who is the target user for Leapfrog Energy?\n",
      "Generated Answer: The target users for Leapfrog Energy are energy companies, particularly those in geothermal, mining, civil engineering, and environmental industries. Specifically, it is targeted at subsurface specialists in these industries who need a rapid understanding of subsurface properties and conditions, and who might be involved in energy transition initiatives such as offshore wind projects and carbon capture utilisation and storage.\n",
      "Gold Standard: subsurface specialists\n",
      "Jaccard Score: 0.03, Semantic Score: 0.37, Combined Score: 0.20\n",
      "\n",
      "Query: What is Agrivoltaics?\n",
      "Generated Answer: Agrivoltaics involves the use of land for both agriculture and solar power generation. It includes the deployment of advanced systems, where solar modules are placed on the land without disrupting agricultural operations. This may involve innovative mounting solutions and other unique configurations such as panels that can adjust light for steady solar power production while also growing crops. Agrivoltaics presents a new business model that sees an increasing interest due to decreasing panel prices and a better understanding of its benefits. It is seen as essential to decreasing land use, increasing energy efficiency, and maintaining agricultural productivity. Agrivoltaics has potential to contribute significantly to solar energy production and is perceived to have the potential for dual-revenue streams from both agriculture and energy production.\n",
      "Gold Standard: the integration of food production and solar energy to make better use of limited land and soil resources\n",
      "Jaccard Score: 0.09, Semantic Score: 0.66, Combined Score: 0.38\n",
      "\n",
      "Query: What is Agrivoltaics?\n",
      "Generated Answer: Agrivoltaics is a method that combines agriculture with energy production, specifically the generation of solar power. This is typically achieved by installing solar modules on the ground in a way that doesn't disturb ongoing agricultural activities. The concept of agrivoltaics allows the same piece of land to be used for both crop cultivation and energy production, creating a dual-revenue stream. The technology involved may often involve highly specific features, including dynamic light adjustment and advanced mounting solutions. For instance, agrivoltaics can be applied in raspberry and strawberry farming using specific solar modules that not only produce energy but also offer crop protection against harsh weather conditions.\n",
      "Gold Standard: the integration of food production and solar energy to make better use of limited land and soil resources\n",
      "Jaccard Score: 0.09, Semantic Score: 0.63, Combined Score: 0.36\n",
      "\n",
      "Query: Why is cannabis cultivation moving indoors?\n",
      "Generated Answer: Cannabis cultivation is moving indoors for several reasons. Indoor cultivation allows for more control over environmental factors and flowering periods, which means consistent, year-round harvests. It gives control over elements such as lighting, temperature and moisture. This controlled environment results in a higher-quality product, which is in demand in the growing industry. Additionally, indoor cultivation can be less risky than outdoor farming, which can be affected by severe weather and environmental conditions, such as wildfires. Despite higher energy use and a larger carbon footprint, the quality and consistency of indoor cultivation make it appealing to producers.\n",
      "Gold Standard: to meet the demand for higher-quality products, control environmental factors and flowering periods, and ensure consistent, year-round harvests\n",
      "Jaccard Score: 0.17, Semantic Score: 0.51, Combined Score: 0.34\n",
      "\n",
      "Query: What are the obstacles for cannabis producers when it comes to using solar energy?\n",
      "Generated Answer: From the context given, the primary obstacles for cannabis producers when it comes to using solar energy include the high upfront costs of installing solar panels, the return on investment for solar systems being around five years, limited financing opportunities for solar due to cannabis legalization progressing on a state-by-state basis in the US and the cannabis market being in legal limbo at a national level, and physical space requirements to install large-scale solar systems. Specifically, for indoor cultivation where the energy demands are high, achieving net zero energy supply with solar would require considerable land coverage which may not be feasible.\n",
      "Gold Standard: limited access to financial instruments, inability to secure standard loans or mortgages, lack of access to tax-credit programs due to federal illegality, and increased investor risk since companies can't restructure through bankruptcy\n",
      "Jaccard Score: 0.05, Semantic Score: 0.12, Combined Score: 0.09\n",
      "\n",
      "Query: In 2021, what were the top 3 states in the US in terms of total solar power generating capacity?\n",
      "Generated Answer: In 2021, the top three states in the U.S. in terms of total solar power generating capacity were California, Florida, and Texas.\n",
      "Gold Standard: California, Texas, and Florida\n",
      "Jaccard Score: 0.19, Semantic Score: 0.57, Combined Score: 0.38\n",
      "\n",
      "Query: Which has the higher absorption coefficient for wavelengths above 500m - amorphous germanium or amorphous silicon?\n",
      "Generated Answer: The context states that amorphous germanium was chosen over amorphous silicon as the absorber material due to its higher absorption coefficient for wavelengths above 500 nm. Therefore, amorphous germanium has the higher absorption coefficient for wavelengths above 500 nm.\n",
      "Gold Standard: amorphous germanium\n",
      "Jaccard Score: 0.05, Semantic Score: 0.70, Combined Score: 0.38\n",
      "\n",
      "Average Evaluation Score: 0.33\n"
     ]
    }
   ],
   "source": [
    "# 2 min\n",
    "\n",
    "from sklearn.feature_extraction.text import CountVectorizer\n",
    "from sklearn.metrics.pairwise import cosine_similarity\n",
    "from csv import QUOTE_ALL\n",
    "\n",
    "# Load the evaluation data\n",
    "evaluation_data = pd.read_csv(\n",
    "    \"../data/evaluation/cleantech_rag_evaluation_data_2024-09-20.csv\",\n",
    "    delimiter=';',\n",
    "    on_bad_lines=\"skip\",\n",
    "    quoting=QUOTE_ALL\n",
    ")\n",
    "\n",
    "# Jaccard Similarity Function for exact word overlap\n",
    "def jaccard_similarity(generated_answer, gold_standard):\n",
    "    vectorizer = CountVectorizer().fit_transform([generated_answer, gold_standard])\n",
    "    vectors = vectorizer.toarray()\n",
    "    intersection = np.minimum(vectors[0], vectors[1]).sum()\n",
    "    union = np.maximum(vectors[0], vectors[1]).sum()\n",
    "    return intersection / union if union != 0 else 0\n",
    "\n",
    "# Semantic Similarity using Sentence-BERT\n",
    "semantic_model = SentenceTransformer('all-MiniLM-L6-v2')\n",
    "def semantic_similarity(generated_answer, gold_standard):\n",
    "    embeddings = semantic_model.encode([generated_answer, gold_standard])\n",
    "    return cosine_similarity([embeddings[0]], [embeddings[1]])[0][0]\n",
    "\n",
    "# Evaluate each query against the gold standard answer\n",
    "evaluation_scores = []\n",
    "\n",
    "for query, gold_standard in zip(evaluation_data['question'], evaluation_data['answer']):\n",
    "    # Retrieve chunks and generate an answer\n",
    "    retrieved_texts = retrieve(query)\n",
    "    generated_answer = generate_answer(\" \".join(retrieved_texts), query)\n",
    "\n",
    "    # Calculate Jaccard and Semantic Similarity Scores directly\n",
    "    jaccard_score_value = jaccard_similarity(generated_answer, gold_standard)\n",
    "    semantic_score = semantic_similarity(generated_answer, gold_standard)\n",
    "\n",
    "    # Combine scores for a final evaluation score\n",
    "    combined_score = (jaccard_score_value + semantic_score) / 2\n",
    "    evaluation_scores.append(combined_score)\n",
    "\n",
    "    print(f\"Query: {query}\\nGenerated Answer: {generated_answer}\\nGold Standard: {gold_standard}\")\n",
    "    print(f\"Jaccard Score: {jaccard_score_value:.2f}, Semantic Score: {semantic_score:.2f}, Combined Score: {combined_score:.2f}\\n\")\n",
    "\n",
    "# Calculate average score across all evaluations\n",
    "average_score = sum(evaluation_scores) / len(evaluation_scores)\n",
    "print(f\"Average Evaluation Score: {average_score:.2f}\")"
   ]
  },
  {
   "cell_type": "markdown",
   "metadata": {},
   "source": [
    "We are loading evaluation data and defining functions to calculate Jaccard and semantic similarity scores to assess the accuracy of generated answers against gold-standard answers. For each query, we retrieve relevant chunks, generate a response and compute both similarity scores, averaging them into a combined evaluation score. We then calculate and print an overall average evaluation score of 0.33 across all queries."
   ]
  },
  {
   "cell_type": "markdown",
   "metadata": {},
   "source": [
    "In general, scores closer to 0.7 or higher are often considered good for text generation tasks, while scores below 0.5 indicate room for improvement in retrieval or response quality."
   ]
  }
 ],
 "metadata": {
  "kernelspec": {
   "display_name": "Python 3",
   "language": "python",
   "name": "python3"
  },
  "language_info": {
   "codemirror_mode": {
    "name": "ipython",
    "version": 3
   },
   "file_extension": ".py",
   "mimetype": "text/x-python",
   "name": "python",
   "nbconvert_exporter": "python",
   "pygments_lexer": "ipython3",
   "version": "3.11.5"
  }
 },
 "nbformat": 4,
 "nbformat_minor": 2
}
