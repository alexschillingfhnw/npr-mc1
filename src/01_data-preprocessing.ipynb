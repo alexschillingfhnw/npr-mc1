{
 "cells": [
  {
   "attachments": {},
   "cell_type": "markdown",
   "metadata": {},
   "source": [
    "# Data Preprocessing Pipeline"
   ]
  },
  {
   "attachments": {},
   "cell_type": "markdown",
   "metadata": {},
   "source": [
    "For our mini-challenge, we will be utilizing the Cleantech Media Dataset, which serves as an invaluable resource for businesses, researchers, and students interested in the latest developments in Natural Language Processing and Large Language Models within the realm of cleantech and sustainability. In an industry that is constantly evolving, having access to timely and accurate information is crucial. This dataset is specifically designed to address those needs.\n",
    "\n",
    "This dataset is accessible on Kaggle and is credited to [Janna Lipenkova](https://www.kaggle.com/datasets/jannalipenkova/cleantech-media-dataset)."
   ]
  },
  {
   "attachments": {},
   "cell_type": "markdown",
   "metadata": {},
   "source": [
    "This notebook contains the data preprocessing pipeline for the Cleantech Media Dataset. In our playground notebook (/playground/data-preprocessing.ipynb), we played around with the dataset and explored its contents and documented some findings on how we should create our preprocessing pipeline. In this notebook, we will implement the preprocessing pipeline that will be used to clean and preprocess the data before we can use it for training machine learning models."
   ]
  },
  {
   "attachments": {},
   "cell_type": "markdown",
   "metadata": {},
   "source": [
    "## 1. Imports"
   ]
  },
  {
   "cell_type": "code",
   "execution_count": 1,
   "metadata": {},
   "outputs": [],
   "source": [
    "import os\n",
    "import re\n",
    "import pandas as pd\n",
    "import numpy as np"
   ]
  },
  {
   "attachments": {},
   "cell_type": "markdown",
   "metadata": {},
   "source": [
    "## 2. Data"
   ]
  },
  {
   "attachments": {},
   "cell_type": "markdown",
   "metadata": {},
   "source": [
    "### 2.1 Training Data"
   ]
  },
  {
   "attachments": {},
   "cell_type": "markdown",
   "metadata": {},
   "source": [
    "- Comprehensive Coverage: Access a wide range of media texts on cleantech topics, from renewable energy to carbon reduction.\n",
    "- Efficiency: Utilize the dataset for quick and accurate question-answering, aiding informed decision-making.\n",
    "- Regular Updates: Stay current with monthly updates reflecting the latest trends in cleantech.\n",
    "- Sustainability Focus: Contribute to the sustainability movement by leveraging valuable insights from the dataset."
   ]
  },
  {
   "cell_type": "code",
   "execution_count": 2,
   "metadata": {},
   "outputs": [
    {
     "data": {
      "text/html": [
       "<div>\n",
       "<style scoped>\n",
       "    .dataframe tbody tr th:only-of-type {\n",
       "        vertical-align: middle;\n",
       "    }\n",
       "\n",
       "    .dataframe tbody tr th {\n",
       "        vertical-align: top;\n",
       "    }\n",
       "\n",
       "    .dataframe thead th {\n",
       "        text-align: right;\n",
       "    }\n",
       "</style>\n",
       "<table border=\"1\" class=\"dataframe\">\n",
       "  <thead>\n",
       "    <tr style=\"text-align: right;\">\n",
       "      <th></th>\n",
       "      <th>title</th>\n",
       "      <th>date</th>\n",
       "      <th>author</th>\n",
       "      <th>content</th>\n",
       "      <th>domain</th>\n",
       "      <th>url</th>\n",
       "    </tr>\n",
       "  </thead>\n",
       "  <tbody>\n",
       "    <tr>\n",
       "      <th>0</th>\n",
       "      <td>Qatar to Slash Emissions as LNG Expansion Adva...</td>\n",
       "      <td>2021-01-13</td>\n",
       "      <td>NaN</td>\n",
       "      <td>[\"Qatar Petroleum ( QP) is targeting aggressiv...</td>\n",
       "      <td>energyintel</td>\n",
       "      <td>https://www.energyintel.com/0000017b-a7dc-de4c...</td>\n",
       "    </tr>\n",
       "    <tr>\n",
       "      <th>1</th>\n",
       "      <td>India Launches Its First 700 MW PHWR</td>\n",
       "      <td>2021-01-15</td>\n",
       "      <td>NaN</td>\n",
       "      <td>[\"• Nuclear Power Corp. of India Ltd. ( NPCIL)...</td>\n",
       "      <td>energyintel</td>\n",
       "      <td>https://www.energyintel.com/0000017b-a7dc-de4c...</td>\n",
       "    </tr>\n",
       "    <tr>\n",
       "      <th>2</th>\n",
       "      <td>New Chapter for US-China Energy Trade</td>\n",
       "      <td>2021-01-20</td>\n",
       "      <td>NaN</td>\n",
       "      <td>[\"New US President Joe Biden took office this ...</td>\n",
       "      <td>energyintel</td>\n",
       "      <td>https://www.energyintel.com/0000017b-a7dc-de4c...</td>\n",
       "    </tr>\n",
       "    <tr>\n",
       "      <th>3</th>\n",
       "      <td>Japan: Slow Restarts Cast Doubt on 2030 Energy...</td>\n",
       "      <td>2021-01-22</td>\n",
       "      <td>NaN</td>\n",
       "      <td>[\"The slow pace of Japanese reactor restarts c...</td>\n",
       "      <td>energyintel</td>\n",
       "      <td>https://www.energyintel.com/0000017b-a7dc-de4c...</td>\n",
       "    </tr>\n",
       "    <tr>\n",
       "      <th>4</th>\n",
       "      <td>NYC Pension Funds to Divest Fossil Fuel Shares</td>\n",
       "      <td>2021-01-25</td>\n",
       "      <td>NaN</td>\n",
       "      <td>[\"Two of New York City's largest pension funds...</td>\n",
       "      <td>energyintel</td>\n",
       "      <td>https://www.energyintel.com/0000017b-a7dc-de4c...</td>\n",
       "    </tr>\n",
       "  </tbody>\n",
       "</table>\n",
       "</div>"
      ],
      "text/plain": [
       "                                               title        date author  \\\n",
       "0  Qatar to Slash Emissions as LNG Expansion Adva...  2021-01-13    NaN   \n",
       "1               India Launches Its First 700 MW PHWR  2021-01-15    NaN   \n",
       "2              New Chapter for US-China Energy Trade  2021-01-20    NaN   \n",
       "3  Japan: Slow Restarts Cast Doubt on 2030 Energy...  2021-01-22    NaN   \n",
       "4     NYC Pension Funds to Divest Fossil Fuel Shares  2021-01-25    NaN   \n",
       "\n",
       "                                             content       domain  \\\n",
       "0  [\"Qatar Petroleum ( QP) is targeting aggressiv...  energyintel   \n",
       "1  [\"• Nuclear Power Corp. of India Ltd. ( NPCIL)...  energyintel   \n",
       "2  [\"New US President Joe Biden took office this ...  energyintel   \n",
       "3  [\"The slow pace of Japanese reactor restarts c...  energyintel   \n",
       "4  [\"Two of New York City's largest pension funds...  energyintel   \n",
       "\n",
       "                                                 url  \n",
       "0  https://www.energyintel.com/0000017b-a7dc-de4c...  \n",
       "1  https://www.energyintel.com/0000017b-a7dc-de4c...  \n",
       "2  https://www.energyintel.com/0000017b-a7dc-de4c...  \n",
       "3  https://www.energyintel.com/0000017b-a7dc-de4c...  \n",
       "4  https://www.energyintel.com/0000017b-a7dc-de4c...  "
      ]
     },
     "execution_count": 2,
     "metadata": {},
     "output_type": "execute_result"
    }
   ],
   "source": [
    "data = pd.read_csv('../data/raw/cleantech_media_dataset_v2_2024-02-23.csv', index_col=0).reset_index(drop=True)\n",
    "data.head()"
   ]
  },
  {
   "cell_type": "markdown",
   "metadata": {},
   "source": [
    "Key columns include the title, date, author, content, domain and URL, providing a comprehensive view of the dataset's structure."
   ]
  },
  {
   "attachments": {},
   "cell_type": "markdown",
   "metadata": {},
   "source": [
    "## 3. Text Preprocessing"
   ]
  },
  {
   "cell_type": "code",
   "execution_count": 3,
   "metadata": {},
   "outputs": [
    {
     "data": {
      "text/html": [
       "<div>\n",
       "<style scoped>\n",
       "    .dataframe tbody tr th:only-of-type {\n",
       "        vertical-align: middle;\n",
       "    }\n",
       "\n",
       "    .dataframe tbody tr th {\n",
       "        vertical-align: top;\n",
       "    }\n",
       "\n",
       "    .dataframe thead th {\n",
       "        text-align: right;\n",
       "    }\n",
       "</style>\n",
       "<table border=\"1\" class=\"dataframe\">\n",
       "  <thead>\n",
       "    <tr style=\"text-align: right;\">\n",
       "      <th></th>\n",
       "      <th>title</th>\n",
       "      <th>date</th>\n",
       "      <th>content</th>\n",
       "      <th>domain</th>\n",
       "      <th>url</th>\n",
       "    </tr>\n",
       "  </thead>\n",
       "  <tbody>\n",
       "    <tr>\n",
       "      <th>0</th>\n",
       "      <td>Qatar to Slash Emissions as LNG Expansion Adva...</td>\n",
       "      <td>2021-01-13</td>\n",
       "      <td>[\"Qatar Petroleum ( QP) is targeting aggressiv...</td>\n",
       "      <td>energyintel</td>\n",
       "      <td>https://www.energyintel.com/0000017b-a7dc-de4c...</td>\n",
       "    </tr>\n",
       "    <tr>\n",
       "      <th>1</th>\n",
       "      <td>India Launches Its First 700 MW PHWR</td>\n",
       "      <td>2021-01-15</td>\n",
       "      <td>[\"• Nuclear Power Corp. of India Ltd. ( NPCIL)...</td>\n",
       "      <td>energyintel</td>\n",
       "      <td>https://www.energyintel.com/0000017b-a7dc-de4c...</td>\n",
       "    </tr>\n",
       "    <tr>\n",
       "      <th>2</th>\n",
       "      <td>New Chapter for US-China Energy Trade</td>\n",
       "      <td>2021-01-20</td>\n",
       "      <td>[\"New US President Joe Biden took office this ...</td>\n",
       "      <td>energyintel</td>\n",
       "      <td>https://www.energyintel.com/0000017b-a7dc-de4c...</td>\n",
       "    </tr>\n",
       "    <tr>\n",
       "      <th>3</th>\n",
       "      <td>Japan: Slow Restarts Cast Doubt on 2030 Energy...</td>\n",
       "      <td>2021-01-22</td>\n",
       "      <td>[\"The slow pace of Japanese reactor restarts c...</td>\n",
       "      <td>energyintel</td>\n",
       "      <td>https://www.energyintel.com/0000017b-a7dc-de4c...</td>\n",
       "    </tr>\n",
       "    <tr>\n",
       "      <th>4</th>\n",
       "      <td>NYC Pension Funds to Divest Fossil Fuel Shares</td>\n",
       "      <td>2021-01-25</td>\n",
       "      <td>[\"Two of New York City's largest pension funds...</td>\n",
       "      <td>energyintel</td>\n",
       "      <td>https://www.energyintel.com/0000017b-a7dc-de4c...</td>\n",
       "    </tr>\n",
       "  </tbody>\n",
       "</table>\n",
       "</div>"
      ],
      "text/plain": [
       "                                               title        date  \\\n",
       "0  Qatar to Slash Emissions as LNG Expansion Adva...  2021-01-13   \n",
       "1               India Launches Its First 700 MW PHWR  2021-01-15   \n",
       "2              New Chapter for US-China Energy Trade  2021-01-20   \n",
       "3  Japan: Slow Restarts Cast Doubt on 2030 Energy...  2021-01-22   \n",
       "4     NYC Pension Funds to Divest Fossil Fuel Shares  2021-01-25   \n",
       "\n",
       "                                             content       domain  \\\n",
       "0  [\"Qatar Petroleum ( QP) is targeting aggressiv...  energyintel   \n",
       "1  [\"• Nuclear Power Corp. of India Ltd. ( NPCIL)...  energyintel   \n",
       "2  [\"New US President Joe Biden took office this ...  energyintel   \n",
       "3  [\"The slow pace of Japanese reactor restarts c...  energyintel   \n",
       "4  [\"Two of New York City's largest pension funds...  energyintel   \n",
       "\n",
       "                                                 url  \n",
       "0  https://www.energyintel.com/0000017b-a7dc-de4c...  \n",
       "1  https://www.energyintel.com/0000017b-a7dc-de4c...  \n",
       "2  https://www.energyintel.com/0000017b-a7dc-de4c...  \n",
       "3  https://www.energyintel.com/0000017b-a7dc-de4c...  \n",
       "4  https://www.energyintel.com/0000017b-a7dc-de4c...  "
      ]
     },
     "execution_count": 3,
     "metadata": {},
     "output_type": "execute_result"
    }
   ],
   "source": [
    "data_cleaned = data.copy()\n",
    "\n",
    "# remove author column from data_cleaned\n",
    "data_cleaned = data_cleaned.drop(columns=[\"author\"])\n",
    "data_cleaned.head()"
   ]
  },
  {
   "cell_type": "markdown",
   "metadata": {},
   "source": [
    "We create a copy of the original dataset to ensure the raw data remains unchanged during preprocessing. The \"author\" column is removed from the copied dataset, as it is not needed for further analysis or modeling. This step ensures the dataset is streamlined for subsequent tasks, focusing only on relevant information."
   ]
  },
  {
   "attachments": {},
   "cell_type": "markdown",
   "metadata": {},
   "source": [
    "### 3.1 Cleaning Text"
   ]
  },
  {
   "attachments": {},
   "cell_type": "markdown",
   "metadata": {},
   "source": [
    "After inspecting the data we noticed that there are a lot of formatting flaws, irrelevant data such as advertisements, special characters, cookie consents etc. This textual information is not useful for our RAG-system and should therefore be removed properly without losing any valuable information.\n",
    "\n",
    "We noticed that a lot of irrelevant data is domain-specific, so we examined every domain carefully and created methods to remove the irrelevant data. In this notebook, we integrated these methods into one powerful pipeline to clean all the text data."
   ]
  },
  {
   "cell_type": "code",
   "execution_count": 4,
   "metadata": {},
   "outputs": [],
   "source": [
    "def clean_content(content):\n",
    "    # Remove surrounding list notation\n",
    "    content = content.strip(\"[]\")\n",
    "\n",
    "    # Split by list delimiters and sentence-ending punctuation\n",
    "    sentences = re.split(r\"',\\s*'|\\\",\\s*\\\"|\\\", '|', |(?<=[.!?])\\s+(?=[A-Z])\", content)\n",
    "\n",
    "    if \"Sign in to get the best natural gas news and data\" in sentences[0]:\n",
    "        # Remove the first 11 sentences because they are not part of the article (naturalgasintel domain)\n",
    "        sentences = sentences[11:]\n",
    "\n",
    "    # Remove everything after any stop phrase (these are advertisements, cookie consents, etc.)\n",
    "    stop_phrases = [\n",
    "        \"The Sensi\", \n",
    "        \"Recharge is part of NHST Global Publications AS and we are responsible for the data that you register with us\",\n",
    "        \"Recharge is part of DN Media Group\", \n",
    "        \"Ecofriend.Org\", \n",
    "        \"EcoFriend.com\",\n",
    "        \"Thank you for subscribing to the email newsletter.\",\n",
    "        \"To use the full function of this web site, JavaScript needs to be enabled in your browser.\",\n",
    "        \"This site uses Akismet to reduce spam. Learn how your comment data is processed.\",\n",
    "        \"Please join in the discussion in the comments below.\", \n",
    "        \"Advertise with CleanTechnica\", \n",
    "        \"Copyright © 2023 CleanTechnica\",\n",
    "        \"Solar Industry offers industry participants probing\",\n",
    "        \"This website uses cookies to anonymously\", \n",
    "        \"By submitting this form you agree to pv magazine using your data\",\n",
    "        \"This content is protected by copyright and may not be reused\",\n",
    "        \"© 2021 Natural Gas Intelligence. All rights reserved.\",\n",
    "    ]\n",
    "    for i, sentence in enumerate(sentences):\n",
    "        if any(stop_phrase in sentence for stop_phrase in stop_phrases):\n",
    "            sentences = sentences[:i]\n",
    "            break\n",
    "\n",
    "    # Step 3: Join sentences and apply consolidated clean-up operations\n",
    "    cleaned_text = ' '.join(sentence.strip() for sentence in sentences)\n",
    "    cleaned_text = re.sub(r'[‘’]', \"'\", cleaned_text)  # Normalize all apostrophes to single '\n",
    "\n",
    "    # Step 4: Remove any code-like blocks that start with `{ L.start`, `window.dojoRequire`, or other patterns\n",
    "    cleaned_text = re.sub(r'\\{.*?\\}\\s*\\),?', '', cleaned_text, flags=re.DOTALL)  # Removes blocks like `{ ... })`\n",
    "    cleaned_text = re.sub(r'window\\.dojoRequire\\s*\\(.*?\\)\\s*[,;]?', '', cleaned_text, flags=re.DOTALL)  # Removes `window.dojoRequire(...)`\n",
    "\n",
    "    # Combined regex substitutions for multiple patterns\n",
    "    cleaned_text = re.sub(r'\\( |\\’ |”|“|…', lambda x: {'( ': '(', '’ ': '’', '”': '', '“': '', '…': ''}.get(x.group(), ''), cleaned_text)\n",
    "    cleaned_text = re.sub(r'\\s+', ' ', cleaned_text).strip()\n",
    "\n",
    "    # Step 5: Consolidated special character and whitespace cleanup\n",
    "    cleaned_text = re.sub(r'[“”;:\"\\[\\]`]', '', cleaned_text)  # Remove other quotes and brackets\n",
    "    cleaned_text = re.sub(r'\\s+([.,?!])', r'\\1', cleaned_text)  # Remove space before punctuation\n",
    "    cleaned_text = re.sub(r'\\s*[-–—]\\s*', ' ', cleaned_text)  # Replace dashes with single space\n",
    "    cleaned_text = re.sub(r'\\s+', ' ', cleaned_text).strip()  # Remove extra spaces\n",
    "    cleaned_text = re.sub(r'\\( ', '(', cleaned_text)  # Remove space after (\n",
    "    cleaned_text = re.sub(r'\\.,', '.', cleaned_text)  # Replace any \".,\"\n",
    "    cleaned_text = re.sub(r'[^\\x00-\\x7F]+', '', cleaned_text)\n",
    "    cleaned_text = re.sub(r'\\.{2,}', '.', cleaned_text)  # Replace multiple periods with single period\n",
    "    cleaned_text = re.sub(r\"(?<!s)' \", '', cleaned_text) # Remove unwanted \"' \" unless followed by an s\n",
    "\n",
    "    # Remove the entire word string if it contains u200b\n",
    "    cleaned_text = ' '.join([word for word in cleaned_text.split() if 'u200b' not in word])\n",
    "\n",
    "    # Replace multiple country abbreviations with full names\n",
    "    abbreviations = {\n",
    "        'U.S.': 'United States ', 'U.K.': 'United Kingdom', \n",
    "        'E.U.': 'European Union', 'U.A.E.': 'United Arab Emirates', \n",
    "        'U.N.': 'United Nations', 'U.S.S.R.': 'Soviet Union',\n",
    "    }\n",
    "\n",
    "    # Replace abbreviations with full names\n",
    "    for abbr, full in abbreviations.items():\n",
    "        cleaned_text = cleaned_text.replace(abbr, full)\n",
    "\n",
    "    # Additional character replacements to clean single quotes and spaces\n",
    "    cleaned_text = cleaned_text.replace(\" – \", \" \")\n",
    "    cleaned_text = cleaned_text.replace(\"', \", \" \")\n",
    "    cleaned_text = cleaned_text.replace(\" ' \", \" \")\n",
    "    cleaned_text = cleaned_text.replace(\" '\", \" \")\n",
    "    cleaned_text = cleaned_text.replace(\"' s\", \"'s\")\n",
    "    cleaned_text = cleaned_text.replace(\" '\", \" \")\n",
    "    cleaned_text = cleaned_text.replace(\"  \", \" \")\n",
    "    cleaned_text = cleaned_text.replace(\"}), \", \"\")\n",
    "    cleaned_text = cleaned_text.replace(\"'.\", \".\")\n",
    "    cleaned_text = cleaned_text.replace(\"pv magazine\", \"PV Magazine\")\n",
    "\n",
    "    # Remove dots if they are not followed by a space and a capital letter\n",
    "    cleaned_text = re.sub(r'\\.(?! [A-Z])', '', cleaned_text)\n",
    "\n",
    "    # if cookie text is present replace it with empty string\n",
    "    cookie_text = \"By clicking Allow All you agree to the storing of cookies on your device to enhance site navigation, analyse site usage and support us in providing free open access scientific content. More info. \"\n",
    "    cleaned_text = cleaned_text.replace(cookie_text, \"\")\n",
    "\n",
    "    return cleaned_text\n",
    "\n",
    "data_cleaned[\"content\"] = data_cleaned[\"content\"].apply(clean_content)"
   ]
  },
  {
   "cell_type": "markdown",
   "metadata": {},
   "source": [
    "We defined a comprehensive `clean_content` function to preprocess the content column, addressing various issues such as:\n",
    "- Removing extraneous list notations and splitting the text into sentences.\n",
    "- Eliminating irrelevant sections (e.g., advertisements, cookie consent notices, and stop phrases).\n",
    "- Normalizing punctuation, removing special characters, and cleaning up code-like blocks.\n",
    "- Expanding common abbreviations (e.g., 'U.S.' to 'United States') to improve consistency.\n",
    "\n",
    "The cleaned text ensures a more uniform and usable dataset, free from unnecessary noise, making it suitable for downstream tasks such as embeddings or model training."
   ]
  },
  {
   "attachments": {},
   "cell_type": "markdown",
   "metadata": {},
   "source": [
    "## 4. Save Processed Data"
   ]
  },
  {
   "cell_type": "code",
   "execution_count": null,
   "metadata": {},
   "outputs": [],
   "source": [
    "data_cleaned.to_csv('../data/processed/cleantech_processed.csv', index=False)"
   ]
  },
  {
   "cell_type": "markdown",
   "metadata": {},
   "source": [
    "We save the cleaned dataset to a CSV file in the processed data directory. This step finalizes the data cleaning process, making the dataset ready for further analysis or modeling."
   ]
  }
 ],
 "metadata": {
  "kernelspec": {
   "display_name": "Python 3",
   "language": "python",
   "name": "python3"
  },
  "language_info": {
   "codemirror_mode": {
    "name": "ipython",
    "version": 3
   },
   "file_extension": ".py",
   "mimetype": "text/x-python",
   "name": "python",
   "nbconvert_exporter": "python",
   "pygments_lexer": "ipython3",
   "version": "3.11.5"
  },
  "orig_nbformat": 4
 },
 "nbformat": 4,
 "nbformat_minor": 2
}
